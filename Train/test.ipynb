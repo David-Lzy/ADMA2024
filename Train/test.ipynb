{
 "cells": [
  {
   "cell_type": "code",
   "execution_count": 1,
   "metadata": {},
   "outputs": [],
   "source": [
    "import torch\n",
    "import torch.nn.functional as F\n",
    "\n",
    "# 假设的 logits 输出和目标概率分布\n",
    "logits = torch.tensor([[1.0, 2.0, 3.0]])\n",
    "target_indices = torch.tensor([2])  # 硬标签形式，这里类索引为2\n",
    "target_probabilities = torch.tensor([[0.1, 0.1, 0.8]])  # 软标签形式，概率分布"
   ]
  },
  {
   "cell_type": "code",
   "execution_count": 2,
   "metadata": {},
   "outputs": [
    {
     "data": {
      "text/plain": [
       "tensor([0.4076])"
      ]
     },
     "execution_count": 2,
     "metadata": {},
     "output_type": "execute_result"
    }
   ],
   "source": [
    "# 使用 cross_entropy 计算损失，目标为类索引\n",
    "loss_cross_entropy_hard_label = F.cross_entropy(\n",
    "    logits, target_indices, reduction=\"none\"\n",
    ")\n",
    "\n",
    "loss_cross_entropy_hard_label"
   ]
  },
  {
   "cell_type": "code",
   "execution_count": 4,
   "metadata": {},
   "outputs": [
    {
     "data": {
      "text/plain": [
       "tensor([0.7076])"
      ]
     },
     "execution_count": 4,
     "metadata": {},
     "output_type": "execute_result"
    }
   ],
   "source": [
    "# 使用 cross_entropy 计算损失，目标为概率分布（软标签）\n",
    "loss_cross_entropy_soft_label = F.cross_entropy(\n",
    "     , target_probabilities, reduction=\"none\"\n",
    ")\n",
    "loss_cross_entropy_soft_label"
   ]
  },
  {
   "cell_type": "code",
   "execution_count": 12,
   "metadata": {},
   "outputs": [
    {
     "data": {
      "text/plain": [
       "tensor(0.0686)"
      ]
     },
     "execution_count": 12,
     "metadata": {},
     "output_type": "execute_result"
    }
   ],
   "source": [
    "# 使用 kl_div 计算损失，注意第一个参数需要是 log_softmax 处理过的\n",
    "loss_kl_div = F.kl_div(\n",
    "    F.log_softmax(logits, dim=1), target_probabilities, reduction=\"sum\"\n",
    ")\n",
    "loss_kl_div"
   ]
  }
 ],
 "metadata": {
  "kernelspec": {
   "display_name": "pytorch_gpu",
   "language": "python",
   "name": "python3"
  },
  "language_info": {
   "codemirror_mode": {
    "name": "ipython",
    "version": 3
   },
   "file_extension": ".py",
   "mimetype": "text/x-python",
   "name": "python",
   "nbconvert_exporter": "python",
   "pygments_lexer": "ipython3",
   "version": "3.11.5"
  }
 },
 "nbformat": 4,
 "nbformat_minor": 2
}
