{
 "cells": [
  {
   "cell_type": "code",
   "execution_count": 2,
   "metadata": {},
   "outputs": [
    {
     "name": "stdout",
     "output_type": "stream",
     "text": [
      "HOME_LOC: /Project/Project/ADMA2024/v0.1\n",
      "pwd: /Project/Project/ADMA2024/v0.1/CODE/Demo\n"
     ]
    }
   ],
   "source": [
    "import sys\n",
    "import os\n",
    "__file__ = %pwd\n",
    "sys.path.append(os.path.dirname(__file__))\n",
    "from __init__ import *\n",
    "print('pwd:', __file__)"
   ]
  },
  {
   "cell_type": "code",
   "execution_count": 3,
   "metadata": {},
   "outputs": [
    {
     "name": "stderr",
     "output_type": "stream",
     "text": [
      "/opt/conda/Anaconda3/envs/pytorch_gpu/lib/python3.11/site-packages/torch/optim/lr_scheduler.py:28: UserWarning: The verbose parameter is deprecated. Please use get_last_lr() to access the learning rate.\n",
      "  warnings.warn(\"The verbose parameter is deprecated. Please use get_last_lr() \"\n"
     ]
    }
   ],
   "source": [
    "trainer = Trainer(epoch=1000)\n",
    "# trainer.train_and_evaluate(override=False)"
   ]
  },
  {
   "cell_type": "code",
   "execution_count": 4,
   "metadata": {},
   "outputs": [
    {
     "ename": "Exception",
     "evalue": "Done",
     "output_type": "error",
     "traceback": [
      "\u001b[0;31m---------------------------------------------------------------------------\u001b[0m",
      "\u001b[0;31mException\u001b[0m                                 Traceback (most recent call last)",
      "Cell \u001b[0;32mIn[4], line 1\u001b[0m\n\u001b[0;32m----> 1\u001b[0m \u001b[38;5;28;01mraise\u001b[39;00m \u001b[38;5;167;01mException\u001b[39;00m(\u001b[38;5;124m\"\u001b[39m\u001b[38;5;124mDone\u001b[39m\u001b[38;5;124m\"\u001b[39m)\n",
      "\u001b[0;31mException\u001b[0m: Done"
     ]
    }
   ],
   "source": [
    "raise Exception(\"Done\")"
   ]
  },
  {
   "cell_type": "code",
   "execution_count": 16,
   "metadata": {},
   "outputs": [],
   "source": [
    "dataset = UNIVARIATE_DATASET_NAMES[0]"
   ]
  },
  {
   "cell_type": "code",
   "execution_count": 18,
   "metadata": {},
   "outputs": [
    {
     "name": "stdout",
     "output_type": "stream",
     "text": [
      "CODE.Attack.mix\n"
     ]
    }
   ],
   "source": [
    "keys = []\n",
    "for k in sys.modules.keys():\n",
    "    if \"CODE.Attack.mix\" in k:\n",
    "        print(k)\n",
    "        keys.append(k)\n",
    "for k in keys:\n",
    "    del sys.modules[k]\n",
    "\n",
    "from CODE.Attack.mix import Mix\n",
    "\n",
    "model_class = Mix"
   ]
  },
  {
   "cell_type": "code",
   "execution_count": 19,
   "metadata": {},
   "outputs": [
    {
     "name": "stdout",
     "output_type": "stream",
     "text": [
      "ACSF1\n"
     ]
    },
    {
     "data": {
      "text/plain": [
       "{'ASR': 0.76,\n",
       " 'mean_success_distance': 2.7458963,\n",
       " 'mean_failure_distance': 9.962064,\n",
       " 'overall_mean_distance': 4.4777765,\n",
       " 'median_success_distance': 1.6729846,\n",
       " 'median_failure_distance': 10.172532,\n",
       " 'overall_median_distance': 3.107268,\n",
       " 'Count_Success': 76,\n",
       " 'Count_Fail': 24,\n",
       " 'duration': 6.110775947570801}"
      ]
     },
     "execution_count": 19,
     "metadata": {},
     "output_type": "execute_result"
    }
   ],
   "source": [
    "model = model_class(\n",
    "    dataset=dataset,\n",
    "    batch_size=64,\n",
    "    epoch=100,\n",
    "    swap=True,\n",
    "    kl_loss=False,\n",
    "    CW=False,\n",
    "    train_method_path=trainer.method_path,\n",
    ")\n",
    "model.perturb_all(\n",
    "    to_device=True,\n",
    "    override=True,\n",
    ")\n",
    "print(dataset)\n",
    "model.data"
   ]
  },
  {
   "cell_type": "code",
   "execution_count": 33,
   "metadata": {},
   "outputs": [
    {
     "name": "stdout",
     "output_type": "stream",
     "text": [
      "ACSF1\n"
     ]
    },
    {
     "data": {
      "text/plain": [
       "{'ASR': 0.76,\n",
       " 'mean_success_distance': 1.989035,\n",
       " 'mean_failure_distance': 9.959241,\n",
       " 'overall_mean_distance': 3.9018848,\n",
       " 'median_success_distance': 0.8534922,\n",
       " 'median_failure_distance': 10.165491,\n",
       " 'overall_median_distance': 1.8933313,\n",
       " 'Count_Success': 76,\n",
       " 'Count_Fail': 24,\n",
       " 'duration': 12.717828035354614}"
      ]
     },
     "execution_count": 33,
     "metadata": {},
     "output_type": "execute_result"
    }
   ],
   "source": [
    "model = model_class(\n",
    "    dataset=dataset,\n",
    "    batch_size=64,\n",
    "    epoch=100,\n",
    "    swap=True,\n",
    "    kl_loss=False,\n",
    "    CW=True,\n",
    "    train_method_path=trainer.method_path,\n",
    ")\n",
    "model.perturb_all(\n",
    "    to_device=True,\n",
    "    override=True,\n",
    ")\n",
    "print(dataset)\n",
    "model.data"
   ]
  },
  {
   "cell_type": "code",
   "execution_count": 69,
   "metadata": {},
   "outputs": [
    {
     "name": "stdout",
     "output_type": "stream",
     "text": [
      "CODE.Attack.fft\n"
     ]
    }
   ],
   "source": [
    "keys = []\n",
    "for k in sys.modules.keys():\n",
    "    if \"CODE.Attack.fft\" in k:\n",
    "        print(k)\n",
    "        keys.append(k)\n",
    "for k in keys:\n",
    "    del sys.modules[k]\n",
    "\n",
    "from CODE.Attack.fft import FFT\n",
    "\n",
    "model_class = FFT"
   ]
  },
  {
   "cell_type": "code",
   "execution_count": 70,
   "metadata": {},
   "outputs": [
    {
     "name": "stdout",
     "output_type": "stream",
     "text": [
      "Weights not initialized. Attempting to generate weights for visualization.\n",
      "This is only a demo.\n"
     ]
    },
    {
     "data": {
      "image/png": "[encoded data removed]",
      "text/plain": [
       "<Figure size 640x480 with 1 Axes>"
      ]
     },
     "metadata": {},
     "output_type": "display_data"
    }
   ],
   "source": [
    "from CODE.Attack.fft import wfc_S\n",
    "\n",
    "corr_parameter = {\n",
    "    \"weight_fun\": wfc_S,\n",
    "    \"para\": {\"steepness\": 0.1, \"midpoint\": 0.1},\n",
    "}\n",
    "wfc_S(**corr_parameter[\"para\"]).visualize()"
   ]
  },
  {
   "cell_type": "code",
   "execution_count": 74,
   "metadata": {},
   "outputs": [
    {
     "data": {
      "text/plain": [
       "{'ASR': 0.76,\n",
       " 'mean_success_distance': 2.0162177,\n",
       " 'mean_failure_distance': 10.096664,\n",
       " 'overall_mean_distance': 3.9555242,\n",
       " 'median_success_distance': 0.85869277,\n",
       " 'median_failure_distance': 10.329974,\n",
       " 'overall_median_distance': 1.8989707,\n",
       " 'Count_Success': 76,\n",
       " 'Count_Fail': 24,\n",
       " 'duration': 7.431578159332275}"
      ]
     },
     "execution_count": 74,
     "metadata": {},
     "output_type": "execute_result"
    }
   ],
   "source": [
    "model = model_class(\n",
    "    dataset=dataset,\n",
    "    batch_size=64,\n",
    "    epoch=100,\n",
    "    # CW=True,\n",
    "    c1=1e1,\n",
    "    train_method_path=trainer.method_path,\n",
    "    corr_parameter=corr_parameter,\n",
    ")\n",
    "model.perturb_all(\n",
    "    to_device=True,\n",
    "    override=True,\n",
    ")\n",
    "model.data"
   ]
  },
  {
   "cell_type": "code",
   "execution_count": null,
   "metadata": {},
   "outputs": [],
   "source": [
    "# 不同的数据集需要动态调节c1"
   ]
  }
 ],
 "metadata": {
  "kernelspec": {
   "display_name": "pytorch_gpu",
   "language": "python",
   "name": "python3"
  },
  "language_info": {
   "codemirror_mode": {
    "name": "ipython",
    "version": 3
   },
   "file_extension": ".py",
   "mimetype": "text/x-python",
   "name": "python",
   "nbconvert_exporter": "python",
   "pygments_lexer": "ipython3",
   "version": "3.11.5"
  }
 },
 "nbformat": 4,
 "nbformat_minor": 2
}
