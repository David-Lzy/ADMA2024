{
 "cells": [
  {
   "cell_type": "code",
   "execution_count": 1,
   "metadata": {},
   "outputs": [
    {
     "name": "stdout",
     "output_type": "stream",
     "text": [
      "HOME_LOC: /Project/Project/KDD2024/v0.4\n"
     ]
    }
   ],
   "source": [
    "import sys\n",
    "import os\n",
    "__file__ = %pwd\n",
    "def parent_dir(path, n):\n",
    "    for _ in range(n):\n",
    "        path = os.path.dirname(path)\n",
    "    return path\n",
    "sys.path.append(parent_dir(__file__, 2))\n",
    "from __init__ import *"
   ]
  },
  {
   "cell_type": "code",
   "execution_count": 2,
   "metadata": {},
   "outputs": [],
   "source": [
    "data_set = \"Beef\""
   ]
  },
  {
   "cell_type": "code",
   "execution_count": 3,
   "metadata": {},
   "outputs": [],
   "source": [
    "from CODE.Train.macnn import *\n",
    "from CODE.Train.inception_time import *\n",
    "\n",
    "train_model_name = Classifier_MACNN\n",
    "trainer = Trainer(\n",
    "    dataset=data_set,\n",
    "    epoch=100,\n",
    "    model=train_model_name,\n",
    "    unbais=True,\n",
    ")\n",
    "trainer_method_path = trainer.method_path\n",
    "del trainer"
   ]
  },
  {
   "cell_type": "code",
   "execution_count": 4,
   "metadata": {},
   "outputs": [],
   "source": [
    "from CODE.Attack.deepfool import DeepFool\n",
    "from CODE.Attack.mix import Mix\n",
    "\n",
    "attacker = DeepFool(\n",
    "    dataset=data_set,\n",
    "    model=train_model_name,\n",
    "    train_method_path=trainer_method_path,\n",
    "    eps_init=0.0,\n",
    "    # path_parameter=os.path.join(name, f\"run_{j}\"),\n",
    "    device=\"cuda:0\",\n",
    "    path_parameter=\"deep_fool\",\n",
    "    batch_size=32,\n",
    ")"
   ]
  },
  {
   "cell_type": "code",
   "execution_count": 5,
   "metadata": {},
   "outputs": [
    {
     "data": {
      "text/plain": [
       "{'dataset': 'Beef',\n",
       " 'model': CODE.Train.macnn.Classifier_MACNN,\n",
       " 'batch_size': 32,\n",
       " 'epoch': 1000,\n",
       " 'eps_init': 0,\n",
       " 'eps': 0.1,\n",
       " 'device': 'cuda:0',\n",
       " 'train_method_path': 'model=Classifier_MACNN_defence=None',\n",
       " 'path_parameter': 'deep_fool',\n",
       " 'adeversarial_training': False,\n",
       " 'model_P': {'input_shape': torch.Size([30, 1, 470]),\n",
       "  'nb_classes': 5,\n",
       "  'defence': 'None',\n",
       "  'device': 'cuda:0',\n",
       "  'dataset': 'Beef',\n",
       "  'state': 'DeepFool'},\n",
       " 'kwargs': {'swap': None,\n",
       "  'swap_index': None,\n",
       "  'gamma': None,\n",
       "  'kl_loss': None,\n",
       "  'CW': None,\n",
       "  'c': None,\n",
       "  'sign_only': None,\n",
       "  'alpha': None,\n",
       "  'make_demo': None,\n",
       "  'kwargs': {'overshoot': 0.1},\n",
       "  '__class__': CODE.Attack.mix.Mix},\n",
       " '__class__': CODE.Attack.attacker.Attack}"
      ]
     },
     "execution_count": 5,
     "metadata": {},
     "output_type": "execute_result"
    }
   ],
   "source": [
    "attacker.config"
   ]
  },
  {
   "cell_type": "code",
   "execution_count": 6,
   "metadata": {},
   "outputs": [
    {
     "name": "stderr",
     "output_type": "stream",
     "text": [
      "/opt/conda/Anaconda3/envs/pytorch_gpu/lib/python3.11/site-packages/torch/nn/modules/conv.py:306: UserWarning: Using padding='same' with even kernel lengths and odd dilation may require a zero-padded copy of the input be created (Triggered internally at /opt/conda/conda-bld/pytorch_1695392035891/work/aten/src/ATen/native/Convolution.cpp:1008.)\n",
      "  return F.conv1d(input, weight, bias, self.stride,\n",
      "/opt/conda/Anaconda3/envs/pytorch_gpu/lib/python3.11/site-packages/numpy/core/fromnumeric.py:3432: RuntimeWarning: Mean of empty slice.\n",
      "  return _methods._mean(a, axis=axis, dtype=dtype,\n",
      "/opt/conda/Anaconda3/envs/pytorch_gpu/lib/python3.11/site-packages/numpy/core/_methods.py:190: RuntimeWarning: invalid value encountered in divide\n",
      "  ret = ret.dtype.type(ret / rcount)\n"
     ]
    }
   ],
   "source": [
    "attacker.perturb_all(\n",
    "    to_device=False,\n",
    "    override=False,\n",
    ")\n",
    "attack_method = os.path.join(trainer_method_path, attacker.attack_method_path)"
   ]
  },
  {
   "cell_type": "code",
   "execution_count": 7,
   "metadata": {},
   "outputs": [
    {
     "data": {
      "text/plain": [
       "{'ASR': 1.0,\n",
       " 'mean_success_distance': 20.446419,\n",
       " 'mean_failure_distance': nan,\n",
       " 'overall_mean_distance': 20.446419,\n",
       " 'Count_Success': 30,\n",
       " 'Count_Fail': 0,\n",
       " 'duration': 14.005952596664429}"
      ]
     },
     "execution_count": 7,
     "metadata": {},
     "output_type": "execute_result"
    },
    {
     "ename": "",
     "evalue": "",
     "output_type": "error",
     "traceback": [
      "\u001b[1;31mThe Kernel crashed while executing code in the the current cell or a previous cell. Please review the code in the cell(s) to identify a possible cause of the failure. Click <a href='https://aka.ms/vscodeJupyterKernelCrash'>here</a> for more info. View Jupyter <a href='command:jupyter.viewOutput'>log</a> for further details."
     ]
    }
   ],
   "source": [
    "attacker.data"
   ]
  }
 ],
 "metadata": {
  "kernelspec": {
   "display_name": "pytorch_gpu",
   "language": "python",
   "name": "python3"
  },
  "language_info": {
   "codemirror_mode": {
    "name": "ipython",
    "version": 3
   },
   "file_extension": ".py",
   "mimetype": "text/x-python",
   "name": "python",
   "nbconvert_exporter": "python",
   "pygments_lexer": "ipython3",
   "version": "3.11.5"
  }
 },
 "nbformat": 4,
 "nbformat_minor": 2
}
