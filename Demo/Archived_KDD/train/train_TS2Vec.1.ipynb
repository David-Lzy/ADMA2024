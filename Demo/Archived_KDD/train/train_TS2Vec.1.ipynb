{
 "cells": [
  {
   "cell_type": "code",
   "execution_count": 1,
   "metadata": {},
   "outputs": [
    {
     "name": "stdout",
     "output_type": "stream",
     "text": [
      "HOME_LOC: /Project/Project/KDD2024/v0.4\n",
      "pwd: /Project/Project/KDD2024/v0.4/CODE/Demo/train\n"
     ]
    }
   ],
   "source": [
    "import sys\n",
    "import os\n",
    "__file__ = %pwd\n",
    "sys.path.append(os.path.dirname(os.path.dirname(__file__)))\n",
    "from __init__ import *\n",
    "print('pwd:', __file__)\n"
   ]
  },
  {
   "cell_type": "code",
   "execution_count": 2,
   "metadata": {},
   "outputs": [],
   "source": [
    "from CODE.Train.TS_2_V.main import *"
   ]
  },
  {
   "cell_type": "code",
   "execution_count": 3,
   "metadata": {},
   "outputs": [
    {
     "name": "stdout",
     "output_type": "stream",
     "text": [
      "model=Classifier_TS2V_defence=None\n",
      "{'accuracy': 0.97,\n",
      " 'duration': 10.726901531219482,\n",
      " 'f1': 0.9699498746867168,\n",
      " 'loss': 1.495574951171875,\n",
      " 'precision': 0.9718181818181819,\n",
      " 'recall': 0.97}\n"
     ]
    }
   ],
   "source": [
    "for i, dataset in enumerate(UNIVARIATE_DATASET_NAMES[:1]):\n",
    "    # if i % 2 == 1:\n",
    "    #     continue\n",
    "    trainer = Trainer(\n",
    "        dataset=dataset,\n",
    "        epoch=100,\n",
    "        model=Classifier_TS2V,\n",
    "        unbais=True,\n",
    "        device=\"cuda:0\",\n",
    "        batch_size=128\n",
    "    )\n",
    "    trainer.optimizer = optim.Adam(trainer.model.parameters(), lr=0.005)\n",
    "    trainer.scheduler = ReduceLROnPlateau(\n",
    "        trainer.optimizer,\n",
    "        mode=\"min\",\n",
    "        factor=1.0 / (2 ** (1 / 3)),\n",
    "        patience=50,\n",
    "        min_lr=1e-5,\n",
    "        cooldown=0,\n",
    "    )\n",
    "\n",
    "    print(trainer.method_path)\n",
    "    trainer.train_and_evaluate(to_device=True, override=True)\n",
    "    pprint(trainer.train_result)"
   ]
  },
  {
   "cell_type": "code",
   "execution_count": 2,
   "metadata": {},
   "outputs": [
    {
     "data": {
      "text/plain": [
       "'A'"
      ]
     },
     "execution_count": 2,
     "metadata": {},
     "output_type": "execute_result"
    }
   ],
   "source": [
    "class A:\n",
    "    def __init__(self):\n",
    "        self.a = 1\n",
    "\n",
    "    def __str__(self):\n",
    "        return str(self.a)\n",
    "\n",
    "\n",
    "A().__class__.__name__"
   ]
  }
 ],
 "metadata": {
  "kernelspec": {
   "display_name": "pytorch_gpu",
   "language": "python",
   "name": "python3"
  },
  "language_info": {
   "codemirror_mode": {
    "name": "ipython",
    "version": 3
   },
   "file_extension": ".py",
   "mimetype": "text/x-python",
   "name": "python",
   "nbconvert_exporter": "python",
   "pygments_lexer": "ipython3",
   "version": "3.11.5"
  }
 },
 "nbformat": 4,
 "nbformat_minor": 2
}
