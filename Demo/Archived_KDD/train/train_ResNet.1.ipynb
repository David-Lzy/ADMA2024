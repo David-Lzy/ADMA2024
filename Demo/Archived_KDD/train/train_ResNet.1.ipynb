{
 "cells": [
  {
   "cell_type": "code",
   "execution_count": 1,
   "metadata": {},
   "outputs": [
    {
     "name": "stdout",
     "output_type": "stream",
     "text": [
      "HOME_LOC: /Project/Project/KDD2024/v0.4\n"
     ]
    }
   ],
   "source": [
    "import sys\n",
    "import os\n",
    "\n",
    "\n",
    "def parent_dir(path, n):\n",
    "    for _ in range(n):\n",
    "        path = os.path.dirname(path)\n",
    "    return path\n",
    "\n",
    "\n",
    "__file__ = %pwd\n",
    "sys.path.append(parent_dir(__file__, 2))\n",
    "from __init__ import *"
   ]
  },
  {
   "cell_type": "code",
   "execution_count": 2,
   "metadata": {},
   "outputs": [],
   "source": [
    "from CODE.Train.resnet import *\n",
    "\n",
    "model_name = ClassifierResNet18\n",
    "method_path = \"\""
   ]
  },
  {
   "cell_type": "code",
   "execution_count": 3,
   "metadata": {},
   "outputs": [
    {
     "name": "stdout",
     "output_type": "stream",
     "text": [
      "Epoch 00125: reducing learning rate of group 0 to 5.0000e-04.\n",
      "Epoch 00176: reducing learning rate of group 0 to 2.5000e-04.\n",
      "Epoch 00227: reducing learning rate of group 0 to 1.2500e-04.\n",
      "Epoch 00278: reducing learning rate of group 0 to 1.0000e-04.\n",
      "Epoch 00221: reducing learning rate of group 0 to 5.0000e-04.\n",
      "Epoch 00297: reducing learning rate of group 0 to 2.5000e-04.\n",
      "Epoch 00365: reducing learning rate of group 0 to 1.2500e-04.\n",
      "Epoch 00416: reducing learning rate of group 0 to 1.0000e-04.\n",
      "Epoch 00080: reducing learning rate of group 0 to 5.0000e-04.\n",
      "Epoch 00131: reducing learning rate of group 0 to 2.5000e-04.\n",
      "Epoch 00182: reducing learning rate of group 0 to 1.2500e-04.\n",
      "Epoch 00233: reducing learning rate of group 0 to 1.0000e-04.\n"
     ]
    },
    {
     "ename": "KeyboardInterrupt",
     "evalue": "",
     "output_type": "error",
     "traceback": [
      "\u001b[0;31m---------------------------------------------------------------------------\u001b[0m",
      "\u001b[0;31mKeyboardInterrupt\u001b[0m                         Traceback (most recent call last)",
      "Cell \u001b[0;32mIn[3], line 10\u001b[0m\n\u001b[1;32m      2\u001b[0m     trainer \u001b[38;5;241m=\u001b[39m Trainer(\n\u001b[1;32m      3\u001b[0m         dataset\u001b[38;5;241m=\u001b[39mi_dataset,\n\u001b[1;32m      4\u001b[0m         epoch\u001b[38;5;241m=\u001b[39m\u001b[38;5;241m1000\u001b[39m,\n\u001b[0;32m   (...)\u001b[0m\n\u001b[1;32m      7\u001b[0m         unbais\u001b[38;5;241m=\u001b[39m\u001b[38;5;28;01mTrue\u001b[39;00m,\n\u001b[1;32m      8\u001b[0m     )\n\u001b[1;32m      9\u001b[0m     trainer\u001b[38;5;241m.\u001b[39moptimizer \u001b[38;5;241m=\u001b[39m torch\u001b[38;5;241m.\u001b[39moptim\u001b[38;5;241m.\u001b[39mAdam(trainer\u001b[38;5;241m.\u001b[39mmodel\u001b[38;5;241m.\u001b[39mparameters(), lr\u001b[38;5;241m=\u001b[39m\u001b[38;5;241m1e-4\u001b[39m)\n\u001b[0;32m---> 10\u001b[0m     \u001b[43mtrainer\u001b[49m\u001b[38;5;241;43m.\u001b[39;49m\u001b[43mtrain_and_evaluate\u001b[49m\u001b[43m(\u001b[49m\u001b[43mto_device\u001b[49m\u001b[38;5;241;43m=\u001b[39;49m\u001b[38;5;28;43;01mTrue\u001b[39;49;00m\u001b[43m,\u001b[49m\u001b[43m \u001b[49m\u001b[43moverride\u001b[49m\u001b[38;5;241;43m=\u001b[39;49m\u001b[38;5;28;43;01mTrue\u001b[39;49;00m\u001b[43m)\u001b[49m\n\u001b[1;32m     11\u001b[0m     method_path \u001b[38;5;241m=\u001b[39m trainer\u001b[38;5;241m.\u001b[39mmethod_path\n\u001b[1;32m     13\u001b[0m concat_metrics_train(mode\u001b[38;5;241m=\u001b[39m\u001b[38;5;124m\"\u001b[39m\u001b[38;5;124mtrain\u001b[39m\u001b[38;5;124m\"\u001b[39m, method\u001b[38;5;241m=\u001b[39mmethod_path)\n",
      "File \u001b[0;32m/Project/Project/KDD2024/v0.4/CODE/Train/trainer.py:246\u001b[0m, in \u001b[0;36mTrainer.train_and_evaluate\u001b[0;34m(self, override, to_device)\u001b[0m\n\u001b[1;32m    237\u001b[0m last_saved_time \u001b[38;5;241m=\u001b[39m \u001b[38;5;28mself\u001b[39m\u001b[38;5;241m.\u001b[39m__save_check_point__(\n\u001b[1;32m    238\u001b[0m     epoch,\n\u001b[1;32m    239\u001b[0m     last_saved_time,\n\u001b[0;32m   (...)\u001b[0m\n\u001b[1;32m    242\u001b[0m     to_device,\n\u001b[1;32m    243\u001b[0m )\n\u001b[1;32m    245\u001b[0m \u001b[38;5;66;03m# Evaluation Phase\u001b[39;00m\n\u001b[0;32m--> 246\u001b[0m test_loss \u001b[38;5;241m=\u001b[39m \u001b[38;5;28;43mself\u001b[39;49m\u001b[38;5;241;43m.\u001b[39;49m\u001b[43m__cal_loss__\u001b[49m\u001b[43m(\u001b[49m\u001b[43m)\u001b[49m\n\u001b[1;32m    248\u001b[0m \u001b[38;5;66;03m# Record test loss and learning rate\u001b[39;00m\n\u001b[1;32m    249\u001b[0m test_loss_file\u001b[38;5;241m.\u001b[39mwrite(\u001b[38;5;124mf\u001b[39m\u001b[38;5;124m\"\u001b[39m\u001b[38;5;132;01m{\u001b[39;00mtest_loss\u001b[38;5;132;01m}\u001b[39;00m\u001b[38;5;130;01m\\n\u001b[39;00m\u001b[38;5;124m\"\u001b[39m)\n",
      "File \u001b[0;32m/Project/Project/KDD2024/v0.4/CODE/Train/trainer.py:292\u001b[0m, in \u001b[0;36mTrainer.__cal_loss__\u001b[0;34m(self)\u001b[0m\n\u001b[1;32m    290\u001b[0m     x_batch, y_batch \u001b[38;5;241m=\u001b[39m x_batch\u001b[38;5;241m.\u001b[39mto(\u001b[38;5;28mself\u001b[39m\u001b[38;5;241m.\u001b[39mdevice), y_batch\u001b[38;5;241m.\u001b[39mto(\u001b[38;5;28mself\u001b[39m\u001b[38;5;241m.\u001b[39mdevice)\n\u001b[1;32m    291\u001b[0m     loss, _ \u001b[38;5;241m=\u001b[39m \u001b[38;5;28mself\u001b[39m\u001b[38;5;241m.\u001b[39mloss_function(x_batch, y_batch)\n\u001b[0;32m--> 292\u001b[0m     test_loss \u001b[38;5;241m+\u001b[39m\u001b[38;5;241m=\u001b[39m \u001b[43mloss\u001b[49m\u001b[38;5;241;43m.\u001b[39;49m\u001b[43mitem\u001b[49m\u001b[43m(\u001b[49m\u001b[43m)\u001b[49m\n\u001b[1;32m    293\u001b[0m test_loss \u001b[38;5;241m/\u001b[39m\u001b[38;5;241m=\u001b[39m \u001b[38;5;28mlen\u001b[39m(\u001b[38;5;28mself\u001b[39m\u001b[38;5;241m.\u001b[39mtest_loader)\n\u001b[1;32m    294\u001b[0m \u001b[38;5;28;01mreturn\u001b[39;00m test_loss\n",
      "\u001b[0;31mKeyboardInterrupt\u001b[0m: "
     ]
    }
   ],
   "source": [
    "for i, i_dataset in enumerate(UNIVARIATE_DATASET_NAMES):\n",
    "    trainer = Trainer(\n",
    "        dataset=i_dataset,\n",
    "        epoch=1000,\n",
    "        batch_size=128,\n",
    "        model=model_name,\n",
    "        unbais=True,\n",
    "    )\n",
    "    trainer.optimizer = torch.optim.Adam(trainer.model.parameters(), lr=1e-4)\n",
    "    trainer.train_and_evaluate(to_device=True, override=True)\n",
    "    method_path = trainer.method_path\n",
    "\n",
    "concat_metrics_train(mode=\"train\", method=method_path)\n",
    "concat_metrics_train(mode=\"test\", method=method_path)"
   ]
  }
 ],
 "metadata": {
  "kernelspec": {
   "display_name": "pytorch_gpu",
   "language": "python",
   "name": "python3"
  },
  "language_info": {
   "codemirror_mode": {
    "name": "ipython",
    "version": 3
   },
   "file_extension": ".py",
   "mimetype": "text/x-python",
   "name": "python",
   "nbconvert_exporter": "python",
   "pygments_lexer": "ipython3",
   "version": "3.11.5"
  }
 },
 "nbformat": 4,
 "nbformat_minor": 2
}
