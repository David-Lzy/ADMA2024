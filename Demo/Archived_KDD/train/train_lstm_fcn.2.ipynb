{
 "cells": [
  {
   "cell_type": "code",
   "execution_count": 1,
   "metadata": {},
   "outputs": [
    {
     "name": "stdout",
     "output_type": "stream",
     "text": [
      "HOME_LOC: /Project/Project/KDD2024/v0.4\n",
      "pwd: /Project/Project/KDD2024/v0.4/CODE/Demo\n"
     ]
    }
   ],
   "source": [
    "import sys\n",
    "import os\n",
    "__file__ = %pwd\n",
    "sys.path.append(os.path.dirname(__file__))\n",
    "from __init__ import *\n",
    "print('pwd:', __file__)\n",
    "logger.setLevel(logging.INFO)"
   ]
  },
  {
   "cell_type": "code",
   "execution_count": 2,
   "metadata": {},
   "outputs": [
    {
     "name": "stderr",
     "output_type": "stream",
     "text": [
      "/opt/conda/Anaconda3/envs/pytorch_gpu/lib/python3.11/site-packages/torch/nn/modules/rnn.py:82: UserWarning: dropout option adds dropout after all but last recurrent layer, so non-zero dropout expects num_layers greater than 1, but got dropout=0.8 and num_layers=1\n",
      "  warnings.warn(\"dropout option adds dropout after all but last \"\n",
      "/opt/conda/Anaconda3/envs/pytorch_gpu/lib/python3.11/site-packages/torch/nn/modules/conv.py:306: UserWarning: Using padding='same' with even kernel lengths and odd dilation may require a zero-padded copy of the input be created (Triggered internally at /opt/conda/conda-bld/pytorch_1695392035891/work/aten/src/ATen/native/Convolution.cpp:1008.)\n",
      "  return F.conv1d(input, weight, bias, self.stride,\n"
     ]
    },
    {
     "name": "stdout",
     "output_type": "stream",
     "text": [
      "Epoch 00428: reducing learning rate of group 0 to 5.0000e-04.\n",
      "Epoch 00664: reducing learning rate of group 0 to 2.5000e-04.\n",
      "Epoch 00715: reducing learning rate of group 0 to 1.2500e-04.\n",
      "Epoch 00766: reducing learning rate of group 0 to 1.0000e-04.\n",
      "1 Adiac\n",
      "{'accuracy': 0.6666666666666666,\n",
      " 'duration': 65.38311958312988,\n",
      " 'f1': 0.5605022950691315,\n",
      " 'loss': 3.0368495668683733,\n",
      " 'precision': 0.5143089759806777,\n",
      " 'recall': 0.6546845796845797}\n"
     ]
    },
    {
     "name": "stderr",
     "output_type": "stream",
     "text": [
      "/opt/conda/Anaconda3/envs/pytorch_gpu/lib/python3.11/site-packages/torch/nn/modules/rnn.py:82: UserWarning: dropout option adds dropout after all but last recurrent layer, so non-zero dropout expects num_layers greater than 1, but got dropout=0.8 and num_layers=1\n",
      "  warnings.warn(\"dropout option adds dropout after all but last \"\n"
     ]
    },
    {
     "name": "stdout",
     "output_type": "stream",
     "text": [
      "Epoch 00314: reducing learning rate of group 0 to 5.0000e-04.\n",
      "Epoch 00365: reducing learning rate of group 0 to 2.5000e-04.\n",
      "Epoch 00416: reducing learning rate of group 0 to 1.2500e-04.\n",
      "Epoch 00467: reducing learning rate of group 0 to 1.0000e-04.\n",
      "3 AllGestureWiimoteY\n",
      "{'accuracy': 0.99,\n",
      " 'duration': 55.0396044254303,\n",
      " 'f1': 0.9899972214504029,\n",
      " 'loss': 1.4720711708068848,\n",
      " 'precision': 0.9903225806451612,\n",
      " 'recall': 0.99}\n"
     ]
    },
    {
     "name": "stderr",
     "output_type": "stream",
     "text": [
      "/opt/conda/Anaconda3/envs/pytorch_gpu/lib/python3.11/site-packages/torch/nn/modules/rnn.py:82: UserWarning: dropout option adds dropout after all but last recurrent layer, so non-zero dropout expects num_layers greater than 1, but got dropout=0.8 and num_layers=1\n",
      "  warnings.warn(\"dropout option adds dropout after all but last \"\n"
     ]
    },
    {
     "name": "stdout",
     "output_type": "stream",
     "text": [
      "Epoch 00156: reducing learning rate of group 0 to 5.0000e-04.\n",
      "Epoch 00207: reducing learning rate of group 0 to 2.5000e-04.\n",
      "Epoch 00258: reducing learning rate of group 0 to 1.2500e-04.\n",
      "Epoch 00309: reducing learning rate of group 0 to 1.0000e-04.\n",
      "5 ArrowHead\n",
      "{'accuracy': 1.0,\n",
      " 'duration': 14.313972234725952,\n",
      " 'f1': 1.0,\n",
      " 'loss': 0.5521342158317566,\n",
      " 'precision': 1.0,\n",
      " 'recall': 1.0}\n"
     ]
    },
    {
     "name": "stderr",
     "output_type": "stream",
     "text": [
      "/opt/conda/Anaconda3/envs/pytorch_gpu/lib/python3.11/site-packages/torch/nn/modules/rnn.py:82: UserWarning: dropout option adds dropout after all but last recurrent layer, so non-zero dropout expects num_layers greater than 1, but got dropout=0.8 and num_layers=1\n",
      "  warnings.warn(\"dropout option adds dropout after all but last \"\n"
     ]
    },
    {
     "name": "stdout",
     "output_type": "stream",
     "text": [
      "7 Beef\n",
      "{'accuracy': 1.0,\n",
      " 'duration': 10.87526535987854,\n",
      " 'f1': 1.0,\n",
      " 'loss': 0.9050806164741516,\n",
      " 'precision': 1.0,\n",
      " 'recall': 1.0}\n"
     ]
    },
    {
     "name": "stderr",
     "output_type": "stream",
     "text": [
      "/opt/conda/Anaconda3/envs/pytorch_gpu/lib/python3.11/site-packages/torch/nn/modules/rnn.py:82: UserWarning: dropout option adds dropout after all but last recurrent layer, so non-zero dropout expects num_layers greater than 1, but got dropout=0.8 and num_layers=1\n",
      "  warnings.warn(\"dropout option adds dropout after all but last \"\n"
     ]
    },
    {
     "name": "stdout",
     "output_type": "stream",
     "text": [
      "9 BirdChicken\n",
      "{'accuracy': 1.0,\n",
      " 'duration': 10.132110357284546,\n",
      " 'f1': 1.0,\n",
      " 'loss': 0.3132794499397278,\n",
      " 'precision': 1.0,\n",
      " 'recall': 1.0}\n"
     ]
    },
    {
     "name": "stderr",
     "output_type": "stream",
     "text": [
      "/opt/conda/Anaconda3/envs/pytorch_gpu/lib/python3.11/site-packages/torch/nn/modules/rnn.py:82: UserWarning: dropout option adds dropout after all but last recurrent layer, so non-zero dropout expects num_layers greater than 1, but got dropout=0.8 and num_layers=1\n",
      "  warnings.warn(\"dropout option adds dropout after all but last \"\n"
     ]
    },
    {
     "name": "stdout",
     "output_type": "stream",
     "text": [
      "Epoch 00804: reducing learning rate of group 0 to 5.0000e-04.\n",
      "Epoch 00863: reducing learning rate of group 0 to 2.5000e-04.\n",
      "Epoch 00914: reducing learning rate of group 0 to 1.2500e-04.\n",
      "Epoch 00965: reducing learning rate of group 0 to 1.0000e-04.\n",
      "11 Car\n",
      "{'accuracy': 1.0,\n",
      " 'duration': 9.982186794281006,\n",
      " 'f1': 1.0,\n",
      " 'loss': 0.7439627647399902,\n",
      " 'precision': 1.0,\n",
      " 'recall': 1.0}\n"
     ]
    },
    {
     "name": "stderr",
     "output_type": "stream",
     "text": [
      "/opt/conda/Anaconda3/envs/pytorch_gpu/lib/python3.11/site-packages/torch/nn/modules/rnn.py:82: UserWarning: dropout option adds dropout after all but last recurrent layer, so non-zero dropout expects num_layers greater than 1, but got dropout=0.8 and num_layers=1\n",
      "  warnings.warn(\"dropout option adds dropout after all but last \"\n"
     ]
    },
    {
     "name": "stdout",
     "output_type": "stream",
     "text": [
      "Epoch 00469: reducing learning rate of group 0 to 5.0000e-04.\n",
      "Epoch 00520: reducing learning rate of group 0 to 2.5000e-04.\n",
      "Epoch 00673: reducing learning rate of group 0 to 1.2500e-04.\n",
      "Epoch 00724: reducing learning rate of group 0 to 1.0000e-04.\n",
      "13 ChlorineConcentration\n",
      "{'accuracy': 0.9850107066381156,\n",
      " 'duration': 202.63750386238098,\n",
      " 'f1': 0.9830454736001961,\n",
      " 'loss': 0.5688100829720497,\n",
      " 'precision': 0.9814892004547177,\n",
      " 'recall': 0.9846609575416325}\n"
     ]
    },
    {
     "name": "stderr",
     "output_type": "stream",
     "text": [
      "/opt/conda/Anaconda3/envs/pytorch_gpu/lib/python3.11/site-packages/torch/nn/modules/rnn.py:82: UserWarning: dropout option adds dropout after all but last recurrent layer, so non-zero dropout expects num_layers greater than 1, but got dropout=0.8 and num_layers=1\n",
      "  warnings.warn(\"dropout option adds dropout after all but last \"\n"
     ]
    },
    {
     "name": "stdout",
     "output_type": "stream",
     "text": [
      "15 Coffee\n",
      "{'accuracy': 1.0,\n",
      " 'duration': 11.166730642318726,\n",
      " 'f1': 1.0,\n",
      " 'loss': 0.3132803440093994,\n",
      " 'precision': 1.0,\n",
      " 'recall': 1.0}\n"
     ]
    },
    {
     "name": "stderr",
     "output_type": "stream",
     "text": [
      "/opt/conda/Anaconda3/envs/pytorch_gpu/lib/python3.11/site-packages/torch/nn/modules/rnn.py:82: UserWarning: dropout option adds dropout after all but last recurrent layer, so non-zero dropout expects num_layers greater than 1, but got dropout=0.8 and num_layers=1\n",
      "  warnings.warn(\"dropout option adds dropout after all but last \"\n"
     ]
    },
    {
     "name": "stdout",
     "output_type": "stream",
     "text": [
      "Epoch 00305: reducing learning rate of group 0 to 5.0000e-04.\n",
      "Epoch 00356: reducing learning rate of group 0 to 2.5000e-04.\n",
      "Epoch 00434: reducing learning rate of group 0 to 1.2500e-04.\n",
      "Epoch 00516: reducing learning rate of group 0 to 1.0000e-04.\n",
      "17 CricketX\n",
      "{'accuracy': 1.0,\n",
      " 'duration': 67.73365688323975,\n",
      " 'f1': 1.0,\n",
      " 'loss': 1.6191139221191406,\n",
      " 'precision': 1.0,\n",
      " 'recall': 1.0}\n"
     ]
    },
    {
     "name": "stderr",
     "output_type": "stream",
     "text": [
      "/opt/conda/Anaconda3/envs/pytorch_gpu/lib/python3.11/site-packages/torch/nn/modules/rnn.py:82: UserWarning: dropout option adds dropout after all but last recurrent layer, so non-zero dropout expects num_layers greater than 1, but got dropout=0.8 and num_layers=1\n",
      "  warnings.warn(\"dropout option adds dropout after all but last \"\n"
     ]
    },
    {
     "name": "stdout",
     "output_type": "stream",
     "text": [
      "Epoch 00327: reducing learning rate of group 0 to 5.0000e-04.\n",
      "Epoch 00378: reducing learning rate of group 0 to 2.5000e-04.\n",
      "Epoch 00579: reducing learning rate of group 0 to 1.2500e-04.\n",
      "Epoch 00630: reducing learning rate of group 0 to 1.0000e-04.\n",
      "19 CricketZ\n",
      "{'accuracy': 1.0,\n",
      " 'duration': 65.02385473251343,\n",
      " 'f1': 1.0,\n",
      " 'loss': 1.6191593238285609,\n",
      " 'precision': 1.0,\n",
      " 'recall': 1.0}\n"
     ]
    },
    {
     "name": "stderr",
     "output_type": "stream",
     "text": [
      "/opt/conda/Anaconda3/envs/pytorch_gpu/lib/python3.11/site-packages/torch/nn/modules/rnn.py:82: UserWarning: dropout option adds dropout after all but last recurrent layer, so non-zero dropout expects num_layers greater than 1, but got dropout=0.8 and num_layers=1\n",
      "  warnings.warn(\"dropout option adds dropout after all but last \"\n"
     ]
    },
    {
     "name": "stdout",
     "output_type": "stream",
     "text": [
      "Epoch 00553: reducing learning rate of group 0 to 5.0000e-04.\n",
      "Epoch 00621: reducing learning rate of group 0 to 2.5000e-04.\n",
      "Epoch 00722: reducing learning rate of group 0 to 1.2500e-04.\n",
      "Epoch 00802: reducing learning rate of group 0 to 1.0000e-04.\n",
      "21 DiatomSizeReduction\n",
      "{'accuracy': 1.0,\n",
      " 'duration': 17.53859853744507,\n",
      " 'f1': 1.0,\n",
      " 'loss': 0.7438347935676575,\n",
      " 'precision': 1.0,\n",
      " 'recall': 1.0}\n"
     ]
    },
    {
     "name": "stderr",
     "output_type": "stream",
     "text": [
      "/opt/conda/Anaconda3/envs/pytorch_gpu/lib/python3.11/site-packages/torch/nn/modules/rnn.py:82: UserWarning: dropout option adds dropout after all but last recurrent layer, so non-zero dropout expects num_layers greater than 1, but got dropout=0.8 and num_layers=1\n",
      "  warnings.warn(\"dropout option adds dropout after all but last \"\n"
     ]
    },
    {
     "name": "stdout",
     "output_type": "stream",
     "text": [
      "Epoch 00105: reducing learning rate of group 0 to 5.0000e-04.\n",
      "Epoch 00156: reducing learning rate of group 0 to 2.5000e-04.\n",
      "Epoch 00207: reducing learning rate of group 0 to 1.2500e-04.\n",
      "Epoch 00258: reducing learning rate of group 0 to 1.0000e-04.\n",
      "23 DistalPhalanxOutlineCorrect\n",
      "{'accuracy': 0.985,\n",
      " 'duration': 93.1225278377533,\n",
      " 'f1': 0.9839567902885104,\n",
      " 'loss': 0.32847934067249296,\n",
      " 'precision': 0.9826666666666667,\n",
      " 'recall': 0.9853067353067353}\n"
     ]
    },
    {
     "name": "stderr",
     "output_type": "stream",
     "text": [
      "/opt/conda/Anaconda3/envs/pytorch_gpu/lib/python3.11/site-packages/torch/nn/modules/rnn.py:82: UserWarning: dropout option adds dropout after all but last recurrent layer, so non-zero dropout expects num_layers greater than 1, but got dropout=0.8 and num_layers=1\n",
      "  warnings.warn(\"dropout option adds dropout after all but last \"\n"
     ]
    },
    {
     "name": "stdout",
     "output_type": "stream",
     "text": [
      "Epoch 00263: reducing learning rate of group 0 to 5.0000e-04.\n",
      "Epoch 00525: reducing learning rate of group 0 to 2.5000e-04.\n",
      "Epoch 00581: reducing learning rate of group 0 to 1.2500e-04.\n",
      "Epoch 00632: reducing learning rate of group 0 to 1.0000e-04.\n",
      "25 DodgerLoopDay\n",
      "{'accuracy': 1.0,\n",
      " 'duration': 21.24584412574768,\n",
      " 'f1': 1.0,\n",
      " 'loss': 1.1693463325500488,\n",
      " 'precision': 1.0,\n",
      " 'recall': 1.0}\n"
     ]
    },
    {
     "name": "stderr",
     "output_type": "stream",
     "text": [
      "/opt/conda/Anaconda3/envs/pytorch_gpu/lib/python3.11/site-packages/torch/nn/modules/rnn.py:82: UserWarning: dropout option adds dropout after all but last recurrent layer, so non-zero dropout expects num_layers greater than 1, but got dropout=0.8 and num_layers=1\n",
      "  warnings.warn(\"dropout option adds dropout after all but last \"\n"
     ]
    },
    {
     "name": "stdout",
     "output_type": "stream",
     "text": [
      "Epoch 00134: reducing learning rate of group 0 to 5.0000e-04.\n",
      "Epoch 00185: reducing learning rate of group 0 to 2.5000e-04.\n",
      "Epoch 00236: reducing learning rate of group 0 to 1.2500e-04.\n",
      "Epoch 00287: reducing learning rate of group 0 to 1.0000e-04.\n",
      "27 DodgerLoopWeekend\n",
      "{'accuracy': 1.0,\n",
      " 'duration': 13.59512448310852,\n",
      " 'f1': 1.0,\n",
      " 'loss': 0.31344497203826904,\n",
      " 'precision': 1.0,\n",
      " 'recall': 1.0}\n"
     ]
    },
    {
     "name": "stderr",
     "output_type": "stream",
     "text": [
      "/opt/conda/Anaconda3/envs/pytorch_gpu/lib/python3.11/site-packages/torch/nn/modules/rnn.py:82: UserWarning: dropout option adds dropout after all but last recurrent layer, so non-zero dropout expects num_layers greater than 1, but got dropout=0.8 and num_layers=1\n",
      "  warnings.warn(\"dropout option adds dropout after all but last \"\n"
     ]
    },
    {
     "name": "stdout",
     "output_type": "stream",
     "text": [
      "Epoch 00174: reducing learning rate of group 0 to 5.0000e-04.\n",
      "Epoch 00225: reducing learning rate of group 0 to 2.5000e-04.\n",
      "Epoch 00276: reducing learning rate of group 0 to 1.2500e-04.\n",
      "Epoch 00327: reducing learning rate of group 0 to 1.0000e-04.\n",
      "29 ECG5000\n",
      "{'accuracy': 0.99,\n",
      " 'duration': 169.12296152114868,\n",
      " 'f1': 0.9686274509803923,\n",
      " 'loss': 0.9482447504997253,\n",
      " 'precision': 0.9830555555555556,\n",
      " 'recall': 0.9567647933392804}\n"
     ]
    },
    {
     "name": "stderr",
     "output_type": "stream",
     "text": [
      "/opt/conda/Anaconda3/envs/pytorch_gpu/lib/python3.11/site-packages/torch/nn/modules/rnn.py:82: UserWarning: dropout option adds dropout after all but last recurrent layer, so non-zero dropout expects num_layers greater than 1, but got dropout=0.8 and num_layers=1\n",
      "  warnings.warn(\"dropout option adds dropout after all but last \"\n"
     ]
    },
    {
     "name": "stdout",
     "output_type": "stream",
     "text": [
      "Epoch 00406: reducing learning rate of group 0 to 5.0000e-04.\n",
      "Epoch 00482: reducing learning rate of group 0 to 2.5000e-04.\n",
      "Epoch 00533: reducing learning rate of group 0 to 1.2500e-04.\n",
      "Epoch 00601: reducing learning rate of group 0 to 1.0000e-04.\n",
      "31 EOGHorizontalSignal\n",
      "{'accuracy': 0.9530386740331491,\n",
      " 'duration': 77.86398458480835,\n",
      " 'f1': 0.9512066627768703,\n",
      " 'loss': 1.6939127842585247,\n",
      " 'precision': 0.9547392851324302,\n",
      " 'recall': 0.9528673835125449}\n"
     ]
    },
    {
     "name": "stderr",
     "output_type": "stream",
     "text": [
      "/opt/conda/Anaconda3/envs/pytorch_gpu/lib/python3.11/site-packages/torch/nn/modules/rnn.py:82: UserWarning: dropout option adds dropout after all but last recurrent layer, so non-zero dropout expects num_layers greater than 1, but got dropout=0.8 and num_layers=1\n",
      "  warnings.warn(\"dropout option adds dropout after all but last \"\n"
     ]
    },
    {
     "name": "stdout",
     "output_type": "stream",
     "text": [
      "Epoch 00053: reducing learning rate of group 0 to 5.0000e-04.\n",
      "Epoch 00104: reducing learning rate of group 0 to 2.5000e-04.\n",
      "Epoch 00155: reducing learning rate of group 0 to 1.2500e-04.\n",
      "Epoch 00206: reducing learning rate of group 0 to 1.0000e-04.\n",
      "33 Earthquakes\n",
      "{'accuracy': 1.0,\n",
      " 'duration': 56.17353439331055,\n",
      " 'f1': 1.0,\n",
      " 'loss': 0.3133563498655955,\n",
      " 'precision': 1.0,\n",
      " 'recall': 1.0}\n"
     ]
    },
    {
     "name": "stderr",
     "output_type": "stream",
     "text": [
      "/opt/conda/Anaconda3/envs/pytorch_gpu/lib/python3.11/site-packages/torch/nn/modules/rnn.py:82: UserWarning: dropout option adds dropout after all but last recurrent layer, so non-zero dropout expects num_layers greater than 1, but got dropout=0.8 and num_layers=1\n",
      "  warnings.warn(\"dropout option adds dropout after all but last \"\n"
     ]
    },
    {
     "name": "stdout",
     "output_type": "stream",
     "text": [
      "Epoch 00753: reducing learning rate of group 0 to 5.0000e-04.\n",
      "Epoch 00987: reducing learning rate of group 0 to 2.5000e-04.\n",
      "35 EthanolLevel\n",
      "{'accuracy': 0.9285714285714286,\n",
      " 'duration': 125.1958487033844,\n",
      " 'f1': 0.928131962308335,\n",
      " 'loss': 0.8720545768737793,\n",
      " 'precision': 0.9285142631040635,\n",
      " 'recall': 0.9285714285714286}\n"
     ]
    },
    {
     "name": "stderr",
     "output_type": "stream",
     "text": [
      "/opt/conda/Anaconda3/envs/pytorch_gpu/lib/python3.11/site-packages/torch/nn/modules/rnn.py:82: UserWarning: dropout option adds dropout after all but last recurrent layer, so non-zero dropout expects num_layers greater than 1, but got dropout=0.8 and num_layers=1\n",
      "  warnings.warn(\"dropout option adds dropout after all but last \"\n"
     ]
    },
    {
     "name": "stdout",
     "output_type": "stream",
     "text": [
      "Epoch 00475: reducing learning rate of group 0 to 5.0000e-04.\n",
      "Epoch 00526: reducing learning rate of group 0 to 2.5000e-04.\n",
      "Epoch 00577: reducing learning rate of group 0 to 1.2500e-04.\n",
      "Epoch 00628: reducing learning rate of group 0 to 1.0000e-04.\n",
      "37 FaceFour\n",
      "{'accuracy': 1.0,\n",
      " 'duration': 11.209890365600586,\n",
      " 'f1': 1.0,\n",
      " 'loss': 0.7438364624977112,\n",
      " 'precision': 1.0,\n",
      " 'recall': 1.0}\n"
     ]
    },
    {
     "name": "stderr",
     "output_type": "stream",
     "text": [
      "/opt/conda/Anaconda3/envs/pytorch_gpu/lib/python3.11/site-packages/torch/nn/modules/rnn.py:82: UserWarning: dropout option adds dropout after all but last recurrent layer, so non-zero dropout expects num_layers greater than 1, but got dropout=0.8 and num_layers=1\n",
      "  warnings.warn(\"dropout option adds dropout after all but last \"\n"
     ]
    },
    {
     "name": "stdout",
     "output_type": "stream",
     "text": [
      "Epoch 00235: reducing learning rate of group 0 to 5.0000e-04.\n",
      "Epoch 00308: reducing learning rate of group 0 to 2.5000e-04.\n",
      "Epoch 00377: reducing learning rate of group 0 to 1.2500e-04.\n",
      "Epoch 00428: reducing learning rate of group 0 to 1.0000e-04.\n",
      "39 FiftyWords\n",
      "{'accuracy': 0.9422222222222222,\n",
      " 'duration': 69.03726196289062,\n",
      " 'f1': 0.9541579282438594,\n",
      " 'loss': 2.984548330307007,\n",
      " 'precision': 0.9468133985062557,\n",
      " 'recall': 0.9668675610104183}\n"
     ]
    },
    {
     "name": "stderr",
     "output_type": "stream",
     "text": [
      "/opt/conda/Anaconda3/envs/pytorch_gpu/lib/python3.11/site-packages/torch/nn/modules/rnn.py:82: UserWarning: dropout option adds dropout after all but last recurrent layer, so non-zero dropout expects num_layers greater than 1, but got dropout=0.8 and num_layers=1\n",
      "  warnings.warn(\"dropout option adds dropout after all but last \"\n"
     ]
    },
    {
     "name": "stdout",
     "output_type": "stream",
     "text": [
      "Epoch 00101: reducing learning rate of group 0 to 5.0000e-04.\n",
      "Epoch 00152: reducing learning rate of group 0 to 2.5000e-04.\n",
      "Epoch 00203: reducing learning rate of group 0 to 1.2500e-04.\n",
      "Epoch 00254: reducing learning rate of group 0 to 1.0000e-04.\n",
      "41 FordA\n",
      "{'accuracy': 0.9975006942515968,\n",
      " 'duration': 482.6457085609436,\n",
      " 'f1': 0.997499061829868,\n",
      " 'loss': 0.3157396243329634,\n",
      " 'precision': 0.9975062028535286,\n",
      " 'recall': 0.9974920749568637}\n"
     ]
    },
    {
     "name": "stderr",
     "output_type": "stream",
     "text": [
      "/opt/conda/Anaconda3/envs/pytorch_gpu/lib/python3.11/site-packages/torch/nn/modules/rnn.py:82: UserWarning: dropout option adds dropout after all but last recurrent layer, so non-zero dropout expects num_layers greater than 1, but got dropout=0.8 and num_layers=1\n",
      "  warnings.warn(\"dropout option adds dropout after all but last \"\n"
     ]
    },
    {
     "name": "stdout",
     "output_type": "stream",
     "text": [
      "Epoch 00201: reducing learning rate of group 0 to 5.0000e-04.\n",
      "Epoch 00252: reducing learning rate of group 0 to 2.5000e-04.\n",
      "Epoch 00419: reducing learning rate of group 0 to 1.2500e-04.\n",
      "Epoch 00470: reducing learning rate of group 0 to 1.0000e-04.\n",
      "43 FreezerRegularTrain\n",
      "{'accuracy': 0.96,\n",
      " 'duration': 96.88428711891174,\n",
      " 'f1': 0.9599358974358974,\n",
      " 'loss': 0.3448528250058492,\n",
      " 'precision': 0.962962962962963,\n",
      " 'recall': 0.96}\n"
     ]
    },
    {
     "name": "stderr",
     "output_type": "stream",
     "text": [
      "/opt/conda/Anaconda3/envs/pytorch_gpu/lib/python3.11/site-packages/torch/nn/modules/rnn.py:82: UserWarning: dropout option adds dropout after all but last recurrent layer, so non-zero dropout expects num_layers greater than 1, but got dropout=0.8 and num_layers=1\n",
      "  warnings.warn(\"dropout option adds dropout after all but last \"\n"
     ]
    },
    {
     "name": "stdout",
     "output_type": "stream",
     "text": [
      "Epoch 00969: reducing learning rate of group 0 to 5.0000e-04.\n",
      "45 Fungi\n",
      "{'accuracy': 1.0,\n",
      " 'duration': 14.052081108093262,\n",
      " 'f1': 1.0,\n",
      " 'loss': 1.9818170070648193,\n",
      " 'precision': 1.0,\n",
      " 'recall': 1.0}\n"
     ]
    },
    {
     "name": "stderr",
     "output_type": "stream",
     "text": [
      "/opt/conda/Anaconda3/envs/pytorch_gpu/lib/python3.11/site-packages/torch/nn/modules/rnn.py:82: UserWarning: dropout option adds dropout after all but last recurrent layer, so non-zero dropout expects num_layers greater than 1, but got dropout=0.8 and num_layers=1\n",
      "  warnings.warn(\"dropout option adds dropout after all but last \"\n"
     ]
    },
    {
     "name": "stdout",
     "output_type": "stream",
     "text": [
      "Epoch 00306: reducing learning rate of group 0 to 5.0000e-04.\n",
      "Epoch 00386: reducing learning rate of group 0 to 2.5000e-04.\n",
      "Epoch 00437: reducing learning rate of group 0 to 1.2500e-04.\n",
      "Epoch 00488: reducing learning rate of group 0 to 1.0000e-04.\n",
      "47 GestureMidAirD2\n",
      "{'accuracy': 0.6105769230769231,\n",
      " 'duration': 38.995500802993774,\n",
      " 'f1': 0.49705437324627727,\n",
      " 'loss': 2.735911250114441,\n",
      " 'precision': 0.45088343029519495,\n",
      " 'recall': 0.6105769230769231}\n"
     ]
    },
    {
     "name": "stderr",
     "output_type": "stream",
     "text": [
      "/opt/conda/Anaconda3/envs/pytorch_gpu/lib/python3.11/site-packages/torch/nn/modules/rnn.py:82: UserWarning: dropout option adds dropout after all but last recurrent layer, so non-zero dropout expects num_layers greater than 1, but got dropout=0.8 and num_layers=1\n",
      "  warnings.warn(\"dropout option adds dropout after all but last \"\n"
     ]
    },
    {
     "name": "stdout",
     "output_type": "stream",
     "text": [
      "Epoch 00264: reducing learning rate of group 0 to 5.0000e-04.\n",
      "Epoch 00518: reducing learning rate of group 0 to 2.5000e-04.\n",
      "Epoch 00569: reducing learning rate of group 0 to 1.2500e-04.\n",
      "Epoch 00620: reducing learning rate of group 0 to 1.0000e-04.\n",
      "49 GesturePebbleZ1\n",
      "{'accuracy': 1.0,\n",
      " 'duration': 30.21243643760681,\n",
      " 'f1': 1.0,\n",
      " 'loss': 1.0447450081507366,\n",
      " 'precision': 1.0,\n",
      " 'recall': 1.0}\n"
     ]
    },
    {
     "name": "stderr",
     "output_type": "stream",
     "text": [
      "/opt/conda/Anaconda3/envs/pytorch_gpu/lib/python3.11/site-packages/torch/nn/modules/rnn.py:82: UserWarning: dropout option adds dropout after all but last recurrent layer, so non-zero dropout expects num_layers greater than 1, but got dropout=0.8 and num_layers=1\n",
      "  warnings.warn(\"dropout option adds dropout after all but last \"\n"
     ]
    },
    {
     "name": "stdout",
     "output_type": "stream",
     "text": [
      "51 GunPoint\n",
      "{'accuracy': 1.0,\n",
      " 'duration': 14.581965446472168,\n",
      " 'f1': 1.0,\n",
      " 'loss': 0.3132844865322113,\n",
      " 'precision': 1.0,\n",
      " 'recall': 1.0}\n"
     ]
    },
    {
     "name": "stderr",
     "output_type": "stream",
     "text": [
      "/opt/conda/Anaconda3/envs/pytorch_gpu/lib/python3.11/site-packages/torch/nn/modules/rnn.py:82: UserWarning: dropout option adds dropout after all but last recurrent layer, so non-zero dropout expects num_layers greater than 1, but got dropout=0.8 and num_layers=1\n",
      "  warnings.warn(\"dropout option adds dropout after all but last \"\n"
     ]
    },
    {
     "name": "stdout",
     "output_type": "stream",
     "text": [
      "Epoch 00106: reducing learning rate of group 0 to 5.0000e-04.\n",
      "Epoch 00157: reducing learning rate of group 0 to 2.5000e-04.\n",
      "Epoch 00208: reducing learning rate of group 0 to 1.2500e-04.\n",
      "Epoch 00259: reducing learning rate of group 0 to 1.0000e-04.\n",
      "53 GunPointMaleVersusFemale\n",
      "{'accuracy': 1.0,\n",
      " 'duration': 31.778175115585327,\n",
      " 'f1': 1.0,\n",
      " 'loss': 0.32065587242444354,\n",
      " 'precision': 1.0,\n",
      " 'recall': 1.0}\n"
     ]
    },
    {
     "name": "stderr",
     "output_type": "stream",
     "text": [
      "/opt/conda/Anaconda3/envs/pytorch_gpu/lib/python3.11/site-packages/torch/nn/modules/rnn.py:82: UserWarning: dropout option adds dropout after all but last recurrent layer, so non-zero dropout expects num_layers greater than 1, but got dropout=0.8 and num_layers=1\n",
      "  warnings.warn(\"dropout option adds dropout after all but last \"\n"
     ]
    },
    {
     "name": "stdout",
     "output_type": "stream",
     "text": [
      "Epoch 00072: reducing learning rate of group 0 to 5.0000e-04.\n",
      "Epoch 00123: reducing learning rate of group 0 to 2.5000e-04.\n",
      "Epoch 00174: reducing learning rate of group 0 to 1.2500e-04.\n",
      "Epoch 00225: reducing learning rate of group 0 to 1.0000e-04.\n",
      "55 Ham\n",
      "{'accuracy': 1.0,\n",
      " 'duration': 19.87137770652771,\n",
      " 'f1': 1.0,\n",
      " 'loss': 0.313642755150795,\n",
      " 'precision': 1.0,\n",
      " 'recall': 1.0}\n"
     ]
    },
    {
     "name": "stderr",
     "output_type": "stream",
     "text": [
      "/opt/conda/Anaconda3/envs/pytorch_gpu/lib/python3.11/site-packages/torch/nn/modules/rnn.py:82: UserWarning: dropout option adds dropout after all but last recurrent layer, so non-zero dropout expects num_layers greater than 1, but got dropout=0.8 and num_layers=1\n",
      "  warnings.warn(\"dropout option adds dropout after all but last \"\n"
     ]
    },
    {
     "name": "stdout",
     "output_type": "stream",
     "text": [
      "Epoch 00109: reducing learning rate of group 0 to 5.0000e-04.\n",
      "Epoch 00211: reducing learning rate of group 0 to 2.5000e-04.\n",
      "Epoch 00262: reducing learning rate of group 0 to 1.2500e-04.\n",
      "Epoch 00313: reducing learning rate of group 0 to 1.0000e-04.\n",
      "57 Haptics\n",
      "{'accuracy': 0.9741935483870968,\n",
      " 'duration': 39.590399503707886,\n",
      " 'f1': 0.976663867793816,\n",
      " 'loss': 0.9456301331520081,\n",
      " 'precision': 0.9780451127819549,\n",
      " 'recall': 0.976114081996435}\n"
     ]
    },
    {
     "name": "stderr",
     "output_type": "stream",
     "text": [
      "/opt/conda/Anaconda3/envs/pytorch_gpu/lib/python3.11/site-packages/torch/nn/modules/rnn.py:82: UserWarning: dropout option adds dropout after all but last recurrent layer, so non-zero dropout expects num_layers greater than 1, but got dropout=0.8 and num_layers=1\n",
      "  warnings.warn(\"dropout option adds dropout after all but last \"\n"
     ]
    },
    {
     "name": "stdout",
     "output_type": "stream",
     "text": [
      "Epoch 00056: reducing learning rate of group 0 to 5.0000e-04.\n",
      "Epoch 00107: reducing learning rate of group 0 to 2.5000e-04.\n",
      "Epoch 00158: reducing learning rate of group 0 to 1.2500e-04.\n",
      "59 HouseTwenty\n",
      "{'accuracy': 1.0,\n",
      " 'duration': 21.136738777160645,\n",
      " 'f1': 1.0,\n",
      " 'loss': 0.31394749879837036,\n",
      " 'precision': 1.0,\n",
      " 'recall': 1.0}\n"
     ]
    },
    {
     "name": "stderr",
     "output_type": "stream",
     "text": [
      "/opt/conda/Anaconda3/envs/pytorch_gpu/lib/python3.11/site-packages/torch/nn/modules/rnn.py:82: UserWarning: dropout option adds dropout after all but last recurrent layer, so non-zero dropout expects num_layers greater than 1, but got dropout=0.8 and num_layers=1\n",
      "  warnings.warn(\"dropout option adds dropout after all but last \"\n"
     ]
    },
    {
     "name": "stdout",
     "output_type": "stream",
     "text": [
      "61 InsectEPGRegularTrain\n",
      "{'accuracy': 1.0,\n",
      " 'duration': 15.574605703353882,\n",
      " 'f1': 1.0,\n",
      " 'loss': 0.5514768958091736,\n",
      " 'precision': 1.0,\n",
      " 'recall': 1.0}\n"
     ]
    },
    {
     "name": "stderr",
     "output_type": "stream",
     "text": [
      "/opt/conda/Anaconda3/envs/pytorch_gpu/lib/python3.11/site-packages/torch/nn/modules/rnn.py:82: UserWarning: dropout option adds dropout after all but last recurrent layer, so non-zero dropout expects num_layers greater than 1, but got dropout=0.8 and num_layers=1\n",
      "  warnings.warn(\"dropout option adds dropout after all but last \"\n"
     ]
    },
    {
     "name": "stdout",
     "output_type": "stream",
     "text": [
      "Epoch 00168: reducing learning rate of group 0 to 5.0000e-04.\n",
      "Epoch 00219: reducing learning rate of group 0 to 2.5000e-04.\n",
      "Epoch 00426: reducing learning rate of group 0 to 1.2500e-04.\n",
      "Epoch 00477: reducing learning rate of group 0 to 1.0000e-04.\n",
      "63 InsectWingbeatSound\n",
      "{'accuracy': 0.9772727272727273,\n",
      " 'duration': 79.8397867679596,\n",
      " 'f1': 0.9772414149821084,\n",
      " 'loss': 1.5640778243541718,\n",
      " 'precision': 0.9787485242030698,\n",
      " 'recall': 0.9772727272727273}\n"
     ]
    },
    {
     "name": "stderr",
     "output_type": "stream",
     "text": [
      "/opt/conda/Anaconda3/envs/pytorch_gpu/lib/python3.11/site-packages/torch/nn/modules/rnn.py:82: UserWarning: dropout option adds dropout after all but last recurrent layer, so non-zero dropout expects num_layers greater than 1, but got dropout=0.8 and num_layers=1\n",
      "  warnings.warn(\"dropout option adds dropout after all but last \"\n"
     ]
    },
    {
     "name": "stdout",
     "output_type": "stream",
     "text": [
      "Epoch 00074: reducing learning rate of group 0 to 5.0000e-04.\n",
      "Epoch 00125: reducing learning rate of group 0 to 2.5000e-04.\n",
      "Epoch 00176: reducing learning rate of group 0 to 1.2500e-04.\n",
      "Epoch 00227: reducing learning rate of group 0 to 1.0000e-04.\n",
      "65 LargeKitchenAppliances\n",
      "{'accuracy': 1.0,\n",
      " 'duration': 75.50968933105469,\n",
      " 'f1': 1.0,\n",
      " 'loss': 0.551509698232015,\n",
      " 'precision': 1.0,\n",
      " 'recall': 1.0}\n"
     ]
    },
    {
     "name": "stderr",
     "output_type": "stream",
     "text": [
      "/opt/conda/Anaconda3/envs/pytorch_gpu/lib/python3.11/site-packages/torch/nn/modules/rnn.py:82: UserWarning: dropout option adds dropout after all but last recurrent layer, so non-zero dropout expects num_layers greater than 1, but got dropout=0.8 and num_layers=1\n",
      "  warnings.warn(\"dropout option adds dropout after all but last \"\n"
     ]
    },
    {
     "name": "stdout",
     "output_type": "stream",
     "text": [
      "Epoch 00233: reducing learning rate of group 0 to 5.0000e-04.\n",
      "Epoch 00284: reducing learning rate of group 0 to 2.5000e-04.\n",
      "Epoch 00335: reducing learning rate of group 0 to 1.2500e-04.\n",
      "Epoch 00386: reducing learning rate of group 0 to 1.0000e-04.\n",
      "67 Lightning7\n",
      "{'accuracy': 1.0,\n",
      " 'duration': 26.99409580230713,\n",
      " 'f1': 1.0,\n",
      " 'loss': 1.1677736639976501,\n",
      " 'precision': 1.0,\n",
      " 'recall': 1.0}\n"
     ]
    },
    {
     "name": "stderr",
     "output_type": "stream",
     "text": [
      "/opt/conda/Anaconda3/envs/pytorch_gpu/lib/python3.11/site-packages/torch/nn/modules/rnn.py:82: UserWarning: dropout option adds dropout after all but last recurrent layer, so non-zero dropout expects num_layers greater than 1, but got dropout=0.8 and num_layers=1\n",
      "  warnings.warn(\"dropout option adds dropout after all but last \"\n"
     ]
    },
    {
     "name": "stdout",
     "output_type": "stream",
     "text": [
      "Epoch 00487: reducing learning rate of group 0 to 5.0000e-04.\n",
      "Epoch 00668: reducing learning rate of group 0 to 2.5000e-04.\n",
      "Epoch 00724: reducing learning rate of group 0 to 1.2500e-04.\n",
      "Epoch 00775: reducing learning rate of group 0 to 1.0000e-04.\n",
      "69 Meat\n",
      "{'accuracy': 1.0,\n",
      " 'duration': 12.755094051361084,\n",
      " 'f1': 1.0,\n",
      " 'loss': 0.5530648827552795,\n",
      " 'precision': 1.0,\n",
      " 'recall': 1.0}\n"
     ]
    },
    {
     "name": "stderr",
     "output_type": "stream",
     "text": [
      "/opt/conda/Anaconda3/envs/pytorch_gpu/lib/python3.11/site-packages/torch/nn/modules/rnn.py:82: UserWarning: dropout option adds dropout after all but last recurrent layer, so non-zero dropout expects num_layers greater than 1, but got dropout=0.8 and num_layers=1\n",
      "  warnings.warn(\"dropout option adds dropout after all but last \"\n"
     ]
    },
    {
     "name": "stdout",
     "output_type": "stream",
     "text": [
      "Epoch 00084: reducing learning rate of group 0 to 5.0000e-04.\n",
      "Epoch 00249: reducing learning rate of group 0 to 2.5000e-04.\n",
      "Epoch 00300: reducing learning rate of group 0 to 1.2500e-04.\n",
      "Epoch 00351: reducing learning rate of group 0 to 1.0000e-04.\n",
      "71 MelbournePedestrian\n",
      "{'accuracy': 0.998324958123953,\n",
      " 'duration': 210.49065709114075,\n",
      " 'f1': 0.9983115609342745,\n",
      " 'loss': 1.4631020207154124,\n",
      " 'precision': 0.998340220385675,\n",
      " 'recall': 0.9982971014492754}\n"
     ]
    },
    {
     "name": "stderr",
     "output_type": "stream",
     "text": [
      "/opt/conda/Anaconda3/envs/pytorch_gpu/lib/python3.11/site-packages/torch/nn/modules/rnn.py:82: UserWarning: dropout option adds dropout after all but last recurrent layer, so non-zero dropout expects num_layers greater than 1, but got dropout=0.8 and num_layers=1\n",
      "  warnings.warn(\"dropout option adds dropout after all but last \"\n"
     ]
    },
    {
     "name": "stdout",
     "output_type": "stream",
     "text": [
      "Epoch 00174: reducing learning rate of group 0 to 5.0000e-04.\n",
      "Epoch 00225: reducing learning rate of group 0 to 2.5000e-04.\n",
      "Epoch 00276: reducing learning rate of group 0 to 1.2500e-04.\n",
      "Epoch 00327: reducing learning rate of group 0 to 1.0000e-04.\n",
      "73 MiddlePhalanxOutlineCorrect\n",
      "{'accuracy': 0.98,\n",
      " 'duration': 96.0608229637146,\n",
      " 'f1': 0.9782543038356992,\n",
      " 'loss': 0.33437347412109375,\n",
      " 'precision': 0.975431096594457,\n",
      " 'recall': 0.9813265901575569}\n"
     ]
    },
    {
     "name": "stderr",
     "output_type": "stream",
     "text": [
      "/opt/conda/Anaconda3/envs/pytorch_gpu/lib/python3.11/site-packages/torch/nn/modules/rnn.py:82: UserWarning: dropout option adds dropout after all but last recurrent layer, so non-zero dropout expects num_layers greater than 1, but got dropout=0.8 and num_layers=1\n",
      "  warnings.warn(\"dropout option adds dropout after all but last \"\n"
     ]
    },
    {
     "name": "stdout",
     "output_type": "stream",
     "text": [
      "Epoch 00203: reducing learning rate of group 0 to 5.0000e-04.\n",
      "Epoch 00254: reducing learning rate of group 0 to 2.5000e-04.\n",
      "Epoch 00305: reducing learning rate of group 0 to 1.2500e-04.\n",
      "Epoch 00356: reducing learning rate of group 0 to 1.0000e-04.\n",
      "75 MixedShapesRegularTrain\n",
      "{'accuracy': 1.0,\n",
      " 'duration': 163.69473910331726,\n",
      " 'f1': 1.0,\n",
      " 'loss': 0.9048795029520988,\n",
      " 'precision': 1.0,\n",
      " 'recall': 1.0}\n"
     ]
    },
    {
     "name": "stderr",
     "output_type": "stream",
     "text": [
      "/opt/conda/Anaconda3/envs/pytorch_gpu/lib/python3.11/site-packages/torch/nn/modules/rnn.py:82: UserWarning: dropout option adds dropout after all but last recurrent layer, so non-zero dropout expects num_layers greater than 1, but got dropout=0.8 and num_layers=1\n",
      "  warnings.warn(\"dropout option adds dropout after all but last \"\n"
     ]
    },
    {
     "name": "stdout",
     "output_type": "stream",
     "text": [
      "77 MoteStrain\n",
      "{'accuracy': 1.0,\n",
      " 'duration': 45.04680800437927,\n",
      " 'f1': 1.0,\n",
      " 'loss': 0.31327420473098755,\n",
      " 'precision': 1.0,\n",
      " 'recall': 1.0}\n"
     ]
    },
    {
     "name": "stderr",
     "output_type": "stream",
     "text": [
      "/opt/conda/Anaconda3/envs/pytorch_gpu/lib/python3.11/site-packages/torch/nn/modules/rnn.py:82: UserWarning: dropout option adds dropout after all but last recurrent layer, so non-zero dropout expects num_layers greater than 1, but got dropout=0.8 and num_layers=1\n",
      "  warnings.warn(\"dropout option adds dropout after all but last \"\n"
     ]
    },
    {
     "name": "stdout",
     "output_type": "stream",
     "text": [
      "Epoch 00502: reducing learning rate of group 0 to 5.0000e-04.\n",
      "Epoch 00628: reducing learning rate of group 0 to 2.5000e-04.\n",
      "Epoch 00730: reducing learning rate of group 0 to 1.2500e-04.\n",
      "Epoch 00781: reducing learning rate of group 0 to 1.0000e-04.\n",
      "79 NonInvasiveFetalECGThorax2\n",
      "{'accuracy': 0.9261111111111111,\n",
      " 'duration': 303.223881483078,\n",
      " 'f1': 0.8985815189563783,\n",
      " 'loss': 2.8505824187706255,\n",
      " 'precision': 0.876752007709442,\n",
      " 'recall': 0.9285714285714286}\n"
     ]
    },
    {
     "name": "stderr",
     "output_type": "stream",
     "text": [
      "/opt/conda/Anaconda3/envs/pytorch_gpu/lib/python3.11/site-packages/torch/nn/modules/rnn.py:82: UserWarning: dropout option adds dropout after all but last recurrent layer, so non-zero dropout expects num_layers greater than 1, but got dropout=0.8 and num_layers=1\n",
      "  warnings.warn(\"dropout option adds dropout after all but last \"\n"
     ]
    },
    {
     "name": "stdout",
     "output_type": "stream",
     "text": [
      "Epoch 00897: reducing learning rate of group 0 to 5.0000e-04.\n",
      "Epoch 00948: reducing learning rate of group 0 to 2.5000e-04.\n",
      "Epoch 00999: reducing learning rate of group 0 to 1.2500e-04.\n",
      "81 OliveOil\n",
      "{'accuracy': 0.9,\n",
      " 'duration': 11.057463645935059,\n",
      " 'f1': 0.8696581196581197,\n",
      " 'loss': 0.8913662433624268,\n",
      " 'precision': 0.9307692307692308,\n",
      " 'recall': 0.8557692307692308}\n"
     ]
    },
    {
     "name": "stderr",
     "output_type": "stream",
     "text": [
      "/opt/conda/Anaconda3/envs/pytorch_gpu/lib/python3.11/site-packages/torch/nn/modules/rnn.py:82: UserWarning: dropout option adds dropout after all but last recurrent layer, so non-zero dropout expects num_layers greater than 1, but got dropout=0.8 and num_layers=1\n",
      "  warnings.warn(\"dropout option adds dropout after all but last \"\n"
     ]
    },
    {
     "name": "stdout",
     "output_type": "stream",
     "text": [
      "Epoch 00295: reducing learning rate of group 0 to 5.0000e-04.\n",
      "Epoch 00346: reducing learning rate of group 0 to 2.5000e-04.\n",
      "Epoch 00397: reducing learning rate of group 0 to 1.2500e-04.\n",
      "Epoch 00448: reducing learning rate of group 0 to 1.0000e-04.\n",
      "83 PhalangesOutlinesCorrect\n",
      "{'accuracy': 0.9827777777777778,\n",
      " 'duration': 252.64486122131348,\n",
      " 'f1': 0.9809971328828269,\n",
      " 'loss': 0.34249023322401373,\n",
      " 'precision': 0.9822804882546005,\n",
      " 'recall': 0.9797531575400534}\n"
     ]
    },
    {
     "name": "stderr",
     "output_type": "stream",
     "text": [
      "/opt/conda/Anaconda3/envs/pytorch_gpu/lib/python3.11/site-packages/torch/nn/modules/rnn.py:82: UserWarning: dropout option adds dropout after all but last recurrent layer, so non-zero dropout expects num_layers greater than 1, but got dropout=0.8 and num_layers=1\n",
      "  warnings.warn(\"dropout option adds dropout after all but last \"\n"
     ]
    },
    {
     "name": "stdout",
     "output_type": "stream",
     "text": [
      "Epoch 00796: reducing learning rate of group 0 to 5.0000e-04.\n",
      "Epoch 00847: reducing learning rate of group 0 to 2.5000e-04.\n",
      "Epoch 00898: reducing learning rate of group 0 to 1.2500e-04.\n",
      "Epoch 00949: reducing learning rate of group 0 to 1.0000e-04.\n",
      "85 PickupGestureWiimoteZ\n",
      "{'accuracy': 1.0,\n",
      " 'duration': 9.424394369125366,\n",
      " 'f1': 1.0,\n",
      " 'loss': 1.4615308046340942,\n",
      " 'precision': 1.0,\n",
      " 'recall': 1.0}\n"
     ]
    },
    {
     "name": "stderr",
     "output_type": "stream",
     "text": [
      "/opt/conda/Anaconda3/envs/pytorch_gpu/lib/python3.11/site-packages/torch/nn/modules/rnn.py:82: UserWarning: dropout option adds dropout after all but last recurrent layer, so non-zero dropout expects num_layers greater than 1, but got dropout=0.8 and num_layers=1\n",
      "  warnings.warn(\"dropout option adds dropout after all but last \"\n"
     ]
    },
    {
     "name": "stdout",
     "output_type": "stream",
     "text": [
      "Epoch 00999: reducing learning rate of group 0 to 5.0000e-04.\n",
      "87 PigArtPressure\n",
      "{'accuracy': 0.75,\n",
      " 'duration': 41.099228858947754,\n",
      " 'f1': 0.6682539682539682,\n",
      " 'loss': 3.257555603981018,\n",
      " 'precision': 0.6253663003663004,\n",
      " 'recall': 0.75}\n"
     ]
    },
    {
     "name": "stderr",
     "output_type": "stream",
     "text": [
      "/opt/conda/Anaconda3/envs/pytorch_gpu/lib/python3.11/site-packages/torch/nn/modules/rnn.py:82: UserWarning: dropout option adds dropout after all but last recurrent layer, so non-zero dropout expects num_layers greater than 1, but got dropout=0.8 and num_layers=1\n",
      "  warnings.warn(\"dropout option adds dropout after all but last \"\n"
     ]
    },
    {
     "name": "stdout",
     "output_type": "stream",
     "text": [
      "Epoch 00432: reducing learning rate of group 0 to 5.0000e-04.\n",
      "Epoch 00492: reducing learning rate of group 0 to 2.5000e-04.\n",
      "Epoch 00543: reducing learning rate of group 0 to 1.2500e-04.\n",
      "Epoch 00594: reducing learning rate of group 0 to 1.0000e-04.\n",
      "89 Plane\n",
      "{'accuracy': 1.0,\n",
      " 'duration': 16.268092393875122,\n",
      " 'f1': 1.0,\n",
      " 'loss': 1.1656341552734375,\n",
      " 'precision': 1.0,\n",
      " 'recall': 1.0}\n"
     ]
    },
    {
     "name": "stderr",
     "output_type": "stream",
     "text": [
      "/opt/conda/Anaconda3/envs/pytorch_gpu/lib/python3.11/site-packages/torch/nn/modules/rnn.py:82: UserWarning: dropout option adds dropout after all but last recurrent layer, so non-zero dropout expects num_layers greater than 1, but got dropout=0.8 and num_layers=1\n",
      "  warnings.warn(\"dropout option adds dropout after all but last \"\n"
     ]
    },
    {
     "name": "stdout",
     "output_type": "stream",
     "text": [
      "Epoch 00336: reducing learning rate of group 0 to 5.0000e-04.\n",
      "Epoch 00387: reducing learning rate of group 0 to 2.5000e-04.\n",
      "Epoch 00438: reducing learning rate of group 0 to 1.2500e-04.\n",
      "Epoch 00489: reducing learning rate of group 0 to 1.0000e-04.\n",
      "91 ProximalPhalanxOutlineAgeGroup\n",
      "{'accuracy': 0.9175,\n",
      " 'duration': 63.199092388153076,\n",
      " 'f1': 0.9267770556071392,\n",
      " 'loss': 0.61460999080113,\n",
      " 'precision': 0.9260844984970079,\n",
      " 'recall': 0.9316261276692931}\n"
     ]
    },
    {
     "name": "stderr",
     "output_type": "stream",
     "text": [
      "/opt/conda/Anaconda3/envs/pytorch_gpu/lib/python3.11/site-packages/torch/nn/modules/rnn.py:82: UserWarning: dropout option adds dropout after all but last recurrent layer, so non-zero dropout expects num_layers greater than 1, but got dropout=0.8 and num_layers=1\n",
      "  warnings.warn(\"dropout option adds dropout after all but last \"\n"
     ]
    },
    {
     "name": "stdout",
     "output_type": "stream",
     "text": [
      "Epoch 00405: reducing learning rate of group 0 to 5.0000e-04.\n",
      "Epoch 00524: reducing learning rate of group 0 to 2.5000e-04.\n",
      "Epoch 00575: reducing learning rate of group 0 to 1.2500e-04.\n",
      "Epoch 00626: reducing learning rate of group 0 to 1.0000e-04.\n",
      "93 ProximalPhalanxTW\n",
      "{'accuracy': 0.94,\n",
      " 'duration': 68.51786303520203,\n",
      " 'f1': 0.7770815214002468,\n",
      " 'loss': 1.206429890223912,\n",
      " 'precision': 0.7473950160224669,\n",
      " 'recall': 0.8144811768427713}\n"
     ]
    },
    {
     "name": "stderr",
     "output_type": "stream",
     "text": [
      "/opt/conda/Anaconda3/envs/pytorch_gpu/lib/python3.11/site-packages/torch/nn/modules/rnn.py:82: UserWarning: dropout option adds dropout after all but last recurrent layer, so non-zero dropout expects num_layers greater than 1, but got dropout=0.8 and num_layers=1\n",
      "  warnings.warn(\"dropout option adds dropout after all but last \"\n"
     ]
    },
    {
     "name": "stdout",
     "output_type": "stream",
     "text": [
      "Epoch 00054: reducing learning rate of group 0 to 5.0000e-04.\n",
      "Epoch 00105: reducing learning rate of group 0 to 2.5000e-04.\n",
      "Epoch 00156: reducing learning rate of group 0 to 1.2500e-04.\n",
      "Epoch 00605: reducing learning rate of group 0 to 1.0000e-04.\n",
      "95 Rock\n",
      "{'accuracy': 1.0,\n",
      " 'duration': 15.28896188735962,\n",
      " 'f1': 1.0,\n",
      " 'loss': 0.7534667253494263,\n",
      " 'precision': 1.0,\n",
      " 'recall': 1.0}\n"
     ]
    },
    {
     "name": "stderr",
     "output_type": "stream",
     "text": [
      "/opt/conda/Anaconda3/envs/pytorch_gpu/lib/python3.11/site-packages/torch/nn/modules/rnn.py:82: UserWarning: dropout option adds dropout after all but last recurrent layer, so non-zero dropout expects num_layers greater than 1, but got dropout=0.8 and num_layers=1\n",
      "  warnings.warn(\"dropout option adds dropout after all but last \"\n"
     ]
    },
    {
     "name": "stdout",
     "output_type": "stream",
     "text": [
      "Epoch 00450: reducing learning rate of group 0 to 5.0000e-04.\n",
      "Epoch 00501: reducing learning rate of group 0 to 2.5000e-04.\n",
      "Epoch 00552: reducing learning rate of group 0 to 1.2500e-04.\n",
      "Epoch 00603: reducing learning rate of group 0 to 1.0000e-04.\n",
      "97 SemgHandGenderCh2\n",
      "{'accuracy': 1.0,\n",
      " 'duration': 87.11620998382568,\n",
      " 'f1': 1.0,\n",
      " 'loss': 0.31459471583366394,\n",
      " 'precision': 1.0,\n",
      " 'recall': 1.0}\n"
     ]
    },
    {
     "name": "stderr",
     "output_type": "stream",
     "text": [
      "/opt/conda/Anaconda3/envs/pytorch_gpu/lib/python3.11/site-packages/torch/nn/modules/rnn.py:82: UserWarning: dropout option adds dropout after all but last recurrent layer, so non-zero dropout expects num_layers greater than 1, but got dropout=0.8 and num_layers=1\n",
      "  warnings.warn(\"dropout option adds dropout after all but last \"\n"
     ]
    },
    {
     "name": "stdout",
     "output_type": "stream",
     "text": [
      "Epoch 00208: reducing learning rate of group 0 to 5.0000e-04.\n",
      "Epoch 00259: reducing learning rate of group 0 to 2.5000e-04.\n",
      "Epoch 00310: reducing learning rate of group 0 to 1.2500e-04.\n",
      "Epoch 00361: reducing learning rate of group 0 to 1.0000e-04.\n",
      "99 SemgHandSubjectCh2\n",
      "{'accuracy': 0.9333333333333333,\n",
      " 'duration': 106.09206032752991,\n",
      " 'f1': 0.9335795778136265,\n",
      " 'loss': 1.0555022060871124,\n",
      " 'precision': 0.935430711610487,\n",
      " 'recall': 0.9333333333333333}\n"
     ]
    },
    {
     "name": "stderr",
     "output_type": "stream",
     "text": [
      "/opt/conda/Anaconda3/envs/pytorch_gpu/lib/python3.11/site-packages/torch/nn/modules/rnn.py:82: UserWarning: dropout option adds dropout after all but last recurrent layer, so non-zero dropout expects num_layers greater than 1, but got dropout=0.8 and num_layers=1\n",
      "  warnings.warn(\"dropout option adds dropout after all but last \"\n"
     ]
    },
    {
     "name": "stdout",
     "output_type": "stream",
     "text": [
      "Epoch 00096: reducing learning rate of group 0 to 5.0000e-04.\n",
      "Epoch 00147: reducing learning rate of group 0 to 2.5000e-04.\n",
      "Epoch 00198: reducing learning rate of group 0 to 1.2500e-04.\n",
      "Epoch 00249: reducing learning rate of group 0 to 1.0000e-04.\n",
      "101 ShapeletSim\n",
      "{'accuracy': 1.0,\n",
      " 'duration': 14.71400260925293,\n",
      " 'f1': 1.0,\n",
      " 'loss': 0.3133958578109741,\n",
      " 'precision': 1.0,\n",
      " 'recall': 1.0}\n"
     ]
    },
    {
     "name": "stderr",
     "output_type": "stream",
     "text": [
      "/opt/conda/Anaconda3/envs/pytorch_gpu/lib/python3.11/site-packages/torch/nn/modules/rnn.py:82: UserWarning: dropout option adds dropout after all but last recurrent layer, so non-zero dropout expects num_layers greater than 1, but got dropout=0.8 and num_layers=1\n",
      "  warnings.warn(\"dropout option adds dropout after all but last \"\n"
     ]
    },
    {
     "name": "stdout",
     "output_type": "stream",
     "text": [
      "Epoch 00065: reducing learning rate of group 0 to 5.0000e-04.\n",
      "Epoch 00116: reducing learning rate of group 0 to 2.5000e-04.\n",
      "Epoch 00167: reducing learning rate of group 0 to 1.2500e-04.\n",
      "Epoch 00218: reducing learning rate of group 0 to 1.0000e-04.\n",
      "103 SmallKitchenAppliances\n",
      "{'accuracy': 1.0,\n",
      " 'duration': 52.400973081588745,\n",
      " 'f1': 1.0,\n",
      " 'loss': 0.5515067676703135,\n",
      " 'precision': 1.0,\n",
      " 'recall': 1.0}\n"
     ]
    },
    {
     "name": "stderr",
     "output_type": "stream",
     "text": [
      "/opt/conda/Anaconda3/envs/pytorch_gpu/lib/python3.11/site-packages/torch/nn/modules/rnn.py:82: UserWarning: dropout option adds dropout after all but last recurrent layer, so non-zero dropout expects num_layers greater than 1, but got dropout=0.8 and num_layers=1\n",
      "  warnings.warn(\"dropout option adds dropout after all but last \"\n"
     ]
    },
    {
     "name": "stdout",
     "output_type": "stream",
     "text": [
      "Epoch 00072: reducing learning rate of group 0 to 5.0000e-04.\n",
      "Epoch 00123: reducing learning rate of group 0 to 2.5000e-04.\n",
      "Epoch 00174: reducing learning rate of group 0 to 1.2500e-04.\n",
      "Epoch 00225: reducing learning rate of group 0 to 1.0000e-04.\n",
      "105 SonyAIBORobotSurface1\n",
      "{'accuracy': 1.0,\n",
      " 'duration': 25.81970715522766,\n",
      " 'f1': 1.0,\n",
      " 'loss': 0.31339770555496216,\n",
      " 'precision': 1.0,\n",
      " 'recall': 1.0}\n"
     ]
    },
    {
     "name": "stderr",
     "output_type": "stream",
     "text": [
      "/opt/conda/Anaconda3/envs/pytorch_gpu/lib/python3.11/site-packages/torch/nn/modules/rnn.py:82: UserWarning: dropout option adds dropout after all but last recurrent layer, so non-zero dropout expects num_layers greater than 1, but got dropout=0.8 and num_layers=1\n",
      "  warnings.warn(\"dropout option adds dropout after all but last \"\n"
     ]
    },
    {
     "name": "stdout",
     "output_type": "stream",
     "text": [
      "Epoch 00211: reducing learning rate of group 0 to 5.0000e-04.\n",
      "Epoch 00323: reducing learning rate of group 0 to 2.5000e-04.\n",
      "Epoch 00374: reducing learning rate of group 0 to 1.2500e-04.\n",
      "Epoch 00437: reducing learning rate of group 0 to 1.0000e-04.\n",
      "107 StarLightCurves\n",
      "{'accuracy': 0.993,\n",
      " 'duration': 496.68859004974365,\n",
      " 'f1': 0.990119952536836,\n",
      " 'loss': 0.5659883506596088,\n",
      " 'precision': 0.9959770114942529,\n",
      " 'recall': 0.9846491228070176}\n"
     ]
    },
    {
     "name": "stderr",
     "output_type": "stream",
     "text": [
      "/opt/conda/Anaconda3/envs/pytorch_gpu/lib/python3.11/site-packages/torch/nn/modules/rnn.py:82: UserWarning: dropout option adds dropout after all but last recurrent layer, so non-zero dropout expects num_layers greater than 1, but got dropout=0.8 and num_layers=1\n",
      "  warnings.warn(\"dropout option adds dropout after all but last \"\n"
     ]
    },
    {
     "name": "stdout",
     "output_type": "stream",
     "text": [
      "Epoch 00293: reducing learning rate of group 0 to 5.0000e-04.\n",
      "Epoch 00344: reducing learning rate of group 0 to 2.5000e-04.\n",
      "Epoch 00395: reducing learning rate of group 0 to 1.2500e-04.\n",
      "Epoch 00446: reducing learning rate of group 0 to 1.0000e-04.\n",
      "109 SwedishLeaf\n",
      "{'accuracy': 1.0,\n",
      " 'duration': 73.67356562614441,\n",
      " 'f1': 1.0,\n",
      " 'loss': 1.8166716247797012,\n",
      " 'precision': 1.0,\n",
      " 'recall': 1.0}\n"
     ]
    },
    {
     "name": "stderr",
     "output_type": "stream",
     "text": [
      "/opt/conda/Anaconda3/envs/pytorch_gpu/lib/python3.11/site-packages/torch/nn/modules/rnn.py:82: UserWarning: dropout option adds dropout after all but last recurrent layer, so non-zero dropout expects num_layers greater than 1, but got dropout=0.8 and num_layers=1\n",
      "  warnings.warn(\"dropout option adds dropout after all but last \"\n"
     ]
    },
    {
     "name": "stdout",
     "output_type": "stream",
     "text": [
      "Epoch 00433: reducing learning rate of group 0 to 5.0000e-04.\n",
      "Epoch 00528: reducing learning rate of group 0 to 2.5000e-04.\n",
      "Epoch 00579: reducing learning rate of group 0 to 1.2500e-04.\n",
      "Epoch 00656: reducing learning rate of group 0 to 1.0000e-04.\n",
      "111 SyntheticControl\n",
      "{'accuracy': 1.0,\n",
      " 'duration': 50.11710596084595,\n",
      " 'f1': 1.0,\n",
      " 'loss': 1.0436230421066284,\n",
      " 'precision': 1.0,\n",
      " 'recall': 1.0}\n"
     ]
    },
    {
     "name": "stderr",
     "output_type": "stream",
     "text": [
      "/opt/conda/Anaconda3/envs/pytorch_gpu/lib/python3.11/site-packages/torch/nn/modules/rnn.py:82: UserWarning: dropout option adds dropout after all but last recurrent layer, so non-zero dropout expects num_layers greater than 1, but got dropout=0.8 and num_layers=1\n",
      "  warnings.warn(\"dropout option adds dropout after all but last \"\n"
     ]
    },
    {
     "name": "stdout",
     "output_type": "stream",
     "text": [
      "Epoch 00114: reducing learning rate of group 0 to 5.0000e-04.\n",
      "Epoch 00165: reducing learning rate of group 0 to 2.5000e-04.\n",
      "Epoch 00216: reducing learning rate of group 0 to 1.2500e-04.\n",
      "Epoch 00267: reducing learning rate of group 0 to 1.0000e-04.\n",
      "113 ToeSegmentation2\n",
      "{'accuracy': 1.0,\n",
      " 'duration': 15.785017728805542,\n",
      " 'f1': 1.0,\n",
      " 'loss': 0.3136119246482849,\n",
      " 'precision': 1.0,\n",
      " 'recall': 1.0}\n"
     ]
    },
    {
     "name": "stderr",
     "output_type": "stream",
     "text": [
      "/opt/conda/Anaconda3/envs/pytorch_gpu/lib/python3.11/site-packages/torch/nn/modules/rnn.py:82: UserWarning: dropout option adds dropout after all but last recurrent layer, so non-zero dropout expects num_layers greater than 1, but got dropout=0.8 and num_layers=1\n",
      "  warnings.warn(\"dropout option adds dropout after all but last \"\n"
     ]
    },
    {
     "name": "stdout",
     "output_type": "stream",
     "text": [
      "115 TwoLeadECG\n",
      "{'accuracy': 1.0,\n",
      " 'duration': 42.59872889518738,\n",
      " 'f1': 1.0,\n",
      " 'loss': 0.31328049302101135,\n",
      " 'precision': 1.0,\n",
      " 'recall': 1.0}\n"
     ]
    },
    {
     "name": "stderr",
     "output_type": "stream",
     "text": [
      "/opt/conda/Anaconda3/envs/pytorch_gpu/lib/python3.11/site-packages/torch/nn/modules/rnn.py:82: UserWarning: dropout option adds dropout after all but last recurrent layer, so non-zero dropout expects num_layers greater than 1, but got dropout=0.8 and num_layers=1\n",
      "  warnings.warn(\"dropout option adds dropout after all but last \"\n"
     ]
    },
    {
     "name": "stdout",
     "output_type": "stream",
     "text": [
      "Epoch 00380: reducing learning rate of group 0 to 5.0000e-04.\n",
      "Epoch 00431: reducing learning rate of group 0 to 2.5000e-04.\n",
      "Epoch 00482: reducing learning rate of group 0 to 1.2500e-04.\n",
      "Epoch 00533: reducing learning rate of group 0 to 1.0000e-04.\n",
      "117 UMD\n",
      "{'accuracy': 1.0,\n",
      " 'duration': 15.12082052230835,\n",
      " 'f1': 1.0,\n",
      " 'loss': 0.5518301725387573,\n",
      " 'precision': 1.0,\n",
      " 'recall': 1.0}\n"
     ]
    },
    {
     "name": "stderr",
     "output_type": "stream",
     "text": [
      "/opt/conda/Anaconda3/envs/pytorch_gpu/lib/python3.11/site-packages/torch/nn/modules/rnn.py:82: UserWarning: dropout option adds dropout after all but last recurrent layer, so non-zero dropout expects num_layers greater than 1, but got dropout=0.8 and num_layers=1\n",
      "  warnings.warn(\"dropout option adds dropout after all but last \"\n"
     ]
    },
    {
     "name": "stdout",
     "output_type": "stream",
     "text": [
      "Epoch 00387: reducing learning rate of group 0 to 5.0000e-04.\n",
      "Epoch 00653: reducing learning rate of group 0 to 2.5000e-04.\n",
      "Epoch 00704: reducing learning rate of group 0 to 1.2500e-04.\n",
      "Epoch 00755: reducing learning rate of group 0 to 1.0000e-04.\n",
      "119 UWaveGestureLibraryX\n",
      "{'accuracy': 0.9944196428571429,\n",
      " 'duration': 195.81117224693298,\n",
      " 'f1': 0.9944116485828988,\n",
      " 'loss': 1.2797676750591822,\n",
      " 'precision': 0.9945662363964574,\n",
      " 'recall': 0.994379424066924}\n"
     ]
    },
    {
     "name": "stderr",
     "output_type": "stream",
     "text": [
      "/opt/conda/Anaconda3/envs/pytorch_gpu/lib/python3.11/site-packages/torch/nn/modules/rnn.py:82: UserWarning: dropout option adds dropout after all but last recurrent layer, so non-zero dropout expects num_layers greater than 1, but got dropout=0.8 and num_layers=1\n",
      "  warnings.warn(\"dropout option adds dropout after all but last \"\n"
     ]
    },
    {
     "name": "stdout",
     "output_type": "stream",
     "text": [
      "Epoch 00382: reducing learning rate of group 0 to 5.0000e-04.\n",
      "Epoch 00561: reducing learning rate of group 0 to 2.5000e-04.\n",
      "Epoch 00612: reducing learning rate of group 0 to 1.2500e-04.\n",
      "Epoch 00663: reducing learning rate of group 0 to 1.0000e-04.\n",
      "121 UWaveGestureLibraryZ\n",
      "{'accuracy': 0.9799107142857143,\n",
      " 'duration': 349.5967826843262,\n",
      " 'f1': 0.9797300662953302,\n",
      " 'loss': 1.294237196445465,\n",
      " 'precision': 0.980192333950521,\n",
      " 'recall': 0.9794797925159625}\n"
     ]
    },
    {
     "name": "stderr",
     "output_type": "stream",
     "text": [
      "/opt/conda/Anaconda3/envs/pytorch_gpu/lib/python3.11/site-packages/torch/nn/modules/rnn.py:82: UserWarning: dropout option adds dropout after all but last recurrent layer, so non-zero dropout expects num_layers greater than 1, but got dropout=0.8 and num_layers=1\n",
      "  warnings.warn(\"dropout option adds dropout after all but last \"\n"
     ]
    },
    {
     "name": "stdout",
     "output_type": "stream",
     "text": [
      "Epoch 00517: reducing learning rate of group 0 to 5.0000e-04.\n",
      "Epoch 00568: reducing learning rate of group 0 to 2.5000e-04.\n",
      "Epoch 00783: reducing learning rate of group 0 to 1.2500e-04.\n",
      "Epoch 00834: reducing learning rate of group 0 to 1.0000e-04.\n",
      "123 Wine\n",
      "{'accuracy': 0.9473684210526315,\n",
      " 'duration': 13.973723411560059,\n",
      " 'f1': 0.9473684210526316,\n",
      " 'loss': 0.39364197850227356,\n",
      " 'precision': 0.95,\n",
      " 'recall': 0.95}\n"
     ]
    },
    {
     "name": "stderr",
     "output_type": "stream",
     "text": [
      "/opt/conda/Anaconda3/envs/pytorch_gpu/lib/python3.11/site-packages/torch/nn/modules/rnn.py:82: UserWarning: dropout option adds dropout after all but last recurrent layer, so non-zero dropout expects num_layers greater than 1, but got dropout=0.8 and num_layers=1\n",
      "  warnings.warn(\"dropout option adds dropout after all but last \"\n"
     ]
    },
    {
     "name": "stdout",
     "output_type": "stream",
     "text": [
      "Epoch 00388: reducing learning rate of group 0 to 5.0000e-04.\n",
      "Epoch 00444: reducing learning rate of group 0 to 2.5000e-04.\n",
      "Epoch 00495: reducing learning rate of group 0 to 1.2500e-04.\n",
      "Epoch 00546: reducing learning rate of group 0 to 1.0000e-04.\n",
      "125 Worms\n",
      "{'accuracy': 0.994475138121547,\n",
      " 'duration': 41.47347974777222,\n",
      " 'f1': 0.9902040816326532,\n",
      " 'loss': 0.9134392539660136,\n",
      " 'precision': 0.9888888888888889,\n",
      " 'recall': 0.992}\n"
     ]
    },
    {
     "name": "stderr",
     "output_type": "stream",
     "text": [
      "/opt/conda/Anaconda3/envs/pytorch_gpu/lib/python3.11/site-packages/torch/nn/modules/rnn.py:82: UserWarning: dropout option adds dropout after all but last recurrent layer, so non-zero dropout expects num_layers greater than 1, but got dropout=0.8 and num_layers=1\n",
      "  warnings.warn(\"dropout option adds dropout after all but last \"\n"
     ]
    },
    {
     "name": "stdout",
     "output_type": "stream",
     "text": [
      "Epoch 00399: reducing learning rate of group 0 to 5.0000e-04.\n",
      "Epoch 00450: reducing learning rate of group 0 to 2.5000e-04.\n",
      "Epoch 00501: reducing learning rate of group 0 to 1.2500e-04.\n",
      "Epoch 00574: reducing learning rate of group 0 to 1.0000e-04.\n",
      "127 Yoga\n",
      "{'accuracy': 1.0,\n",
      " 'duration': 137.23195362091064,\n",
      " 'f1': 1.0,\n",
      " 'loss': 0.31351861357688904,\n",
      " 'precision': 1.0,\n",
      " 'recall': 1.0}\n"
     ]
    }
   ],
   "source": [
    "from CODE.Train.lstm_fcn import *\n",
    "\n",
    "for i, i_dataset in enumerate(UNIVARIATE_DATASET_NAMES):\n",
    "    if i % 2 == 1:\n",
    "        trainer = Trainer(dataset=i_dataset, epoch=1000, model=LSTMFCN, unbais=True)\n",
    "        trainer.train_and_evaluate(to_device=True, override=False)\n",
    "        try:\n",
    "            print(i, i_dataset)\n",
    "            pprint(trainer.train_result)\n",
    "        except AttributeError:\n",
    "            pass"
   ]
  },
  {
   "cell_type": "code",
   "execution_count": 3,
   "metadata": {},
   "outputs": [
    {
     "name": "stderr",
     "output_type": "stream",
     "text": [
      "/opt/conda/Anaconda3/envs/pytorch_gpu/lib/python3.11/site-packages/torch/nn/modules/rnn.py:82: UserWarning: dropout option adds dropout after all but last recurrent layer, so non-zero dropout expects num_layers greater than 1, but got dropout=0.8 and num_layers=1\n",
      "  warnings.warn(\"dropout option adds dropout after all but last \"\n"
     ]
    },
    {
     "name": "stdout",
     "output_type": "stream",
     "text": [
      "Epoch 00240: reducing learning rate of group 0 to 5.0000e-04.\n",
      "Epoch 00385: reducing learning rate of group 0 to 2.5000e-04.\n",
      "Epoch 00592: reducing learning rate of group 0 to 1.2500e-04.\n",
      "Epoch 00643: reducing learning rate of group 0 to 1.0000e-04.\n"
     ]
    },
    {
     "data": {
      "text/plain": [
       "{'loss': 1.524347186088562,\n",
       " 'accuracy': 0.93,\n",
       " 'precision': 0.9438461538461539,\n",
       " 'recall': 0.93,\n",
       " 'f1': 0.9283867276887872,\n",
       " 'duration': 32.37947058677673}"
      ]
     },
     "execution_count": 3,
     "metadata": {},
     "output_type": "execute_result"
    }
   ],
   "source": [
    "from CODE.Train.lstm_fcn import *\n",
    "\n",
    "trainer = Trainer(\n",
    "    dataset=UNIVARIATE_DATASET_NAMES[0], epoch=1000, model=LSTMFCN, unbais=True\n",
    ")\n",
    "trainer.train_and_evaluate(to_device=True, override=True)\n",
    "trainer.train_result"
   ]
  }
 ],
 "metadata": {
  "kernelspec": {
   "display_name": "pytorch_gpu",
   "language": "python",
   "name": "python3"
  },
  "language_info": {
   "codemirror_mode": {
    "name": "ipython",
    "version": 3
   },
   "file_extension": ".py",
   "mimetype": "text/x-python",
   "name": "python",
   "nbconvert_exporter": "python",
   "pygments_lexer": "ipython3",
   "version": "3.11.5"
  }
 },
 "nbformat": 4,
 "nbformat_minor": 2
}
