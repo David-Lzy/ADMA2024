{
 "cells": [
  {
   "cell_type": "code",
   "execution_count": 1,
   "metadata": {},
   "outputs": [
    {
     "name": "stdout",
     "output_type": "stream",
     "text": [
      "HOME_LOC: /Project/Project/ADMA2024/v0.1\n"
     ]
    }
   ],
   "source": [
    "import sys\n",
    "import os\n",
    "__file__ = %pwd\n",
    "path = os.path.abspath(__file__)\n",
    "while True:\n",
    "    try:\n",
    "        sys.path.append(path)\n",
    "        from __init__ import *\n",
    "    except ModuleNotFoundError:\n",
    "        sys.path.remove(path)\n",
    "        path = os.path.dirname(path)\n",
    "    else:\n",
    "        break"
   ]
  },
  {
   "cell_type": "code",
   "execution_count": 2,
   "metadata": {},
   "outputs": [],
   "source": [
    "i_train_model = Classifier_MACNN"
   ]
  },
  {
   "cell_type": "code",
   "execution_count": 3,
   "metadata": {},
   "outputs": [
    {
     "name": "stderr",
     "output_type": "stream",
     "text": [
      "/opt/conda/Anaconda3/envs/pytorch_gpu/lib/python3.11/site-packages/torch/optim/lr_scheduler.py:28: UserWarning: The verbose parameter is deprecated. Please use get_last_lr() to access the learning rate.\n",
      "  warnings.warn(\"The verbose parameter is deprecated. Please use get_last_lr() \"\n"
     ]
    },
    {
     "data": {
      "text/plain": [
       "'model=Classifier_MACNN_defence=None'"
      ]
     },
     "execution_count": 3,
     "metadata": {},
     "output_type": "execute_result"
    }
   ],
   "source": [
    "trainer = Trainer(\n",
    "    model=i_train_model,\n",
    ")\n",
    "trainer_method_path = trainer.method_path\n",
    "trainer_method_path"
   ]
  },
  {
   "cell_type": "code",
   "execution_count": 4,
   "metadata": {},
   "outputs": [],
   "source": [
    "from CODE.Attack.swap import SWAP\n",
    "\n",
    "attack_class = SWAP"
   ]
  },
  {
   "cell_type": "code",
   "execution_count": 4,
   "metadata": {},
   "outputs": [],
   "source": [
    "dataset = UNIVARIATE_DATASET_NAMES[0]"
   ]
  },
  {
   "cell_type": "code",
   "execution_count": 13,
   "metadata": {},
   "outputs": [
    {
     "name": "stdout",
     "output_type": "stream",
     "text": [
      "{'ASR': 0.78,\n",
      " 'Count_Fail': 22,\n",
      " 'Count_Success': 78,\n",
      " 'duration': 79.94339656829834,\n",
      " 'mean_failure_distance': 1.1927774,\n",
      " 'mean_success_distance': 2.1764183,\n",
      " 'median_failure_distance': 0.18563305,\n",
      " 'median_success_distance': 1.1922103,\n",
      " 'overall_mean_distance': 1.9600172,\n",
      " 'overall_median_distance': 0.81021625}\n"
     ]
    }
   ],
   "source": [
    "attacker = attack_class(\n",
    "    dataset=dataset,\n",
    "    epochs=1000,\n",
    "    model=i_train_model,\n",
    "    batch_size=128,\n",
    "    train_method_path=trainer_method_path,\n",
    "    eps_init=0.01,\n",
    ")\n",
    "attacker.perturb_all(\n",
    "    to_device=False,\n",
    "    override=False,\n",
    ")\n",
    "pprint(attacker.data)"
   ]
  },
  {
   "cell_type": "code",
   "execution_count": 7,
   "metadata": {},
   "outputs": [
    {
     "name": "stdout",
     "output_type": "stream",
     "text": [
      "{'ASR': 0.77,\n",
      " 'Count_Fail': 23,\n",
      " 'Count_Success': 77,\n",
      " 'duration': 85.23449492454529,\n",
      " 'mean_failure_distance': 0.8896592,\n",
      " 'mean_success_distance': 1.0531859,\n",
      " 'median_failure_distance': 0.1184954,\n",
      " 'median_success_distance': 0.40634948,\n",
      " 'overall_mean_distance': 1.0155747,\n",
      " 'overall_median_distance': 0.34664512}\n"
     ]
    }
   ],
   "source": [
    "from CODE.Attack.cosine import COS\n",
    "\n",
    "attacker = COS(\n",
    "    dataset=dataset,\n",
    "    epoch=1000,\n",
    "    model=i_train_model,\n",
    "    batch_size=128,\n",
    "    train_method_path=trainer_method_path,\n",
    "    eps_init=0.01,\n",
    "    c1=1e-1,\n",
    ")\n",
    "attacker.perturb_all(\n",
    "    to_device=False,\n",
    "    override=False,\n",
    ")\n",
    "pprint(attacker.data)"
   ]
  }
 ],
 "metadata": {
  "kernelspec": {
   "display_name": "pytorch_gpu",
   "language": "python",
   "name": "python3"
  },
  "language_info": {
   "codemirror_mode": {
    "name": "ipython",
    "version": 3
   },
   "file_extension": ".py",
   "mimetype": "text/x-python",
   "name": "python",
   "nbconvert_exporter": "python",
   "pygments_lexer": "ipython3",
   "version": "3.11.5"
  }
 },
 "nbformat": 4,
 "nbformat_minor": 2
}
