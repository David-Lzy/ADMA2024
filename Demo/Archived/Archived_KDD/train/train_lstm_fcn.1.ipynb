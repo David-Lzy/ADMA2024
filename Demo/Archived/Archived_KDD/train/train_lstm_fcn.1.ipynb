{
 "cells": [
  {
   "cell_type": "code",
   "execution_count": 4,
   "metadata": {},
   "outputs": [
    {
     "name": "stdout",
     "output_type": "stream",
     "text": [
      "pwd: /Project/Project/KDD2024/v0.4\n"
     ]
    }
   ],
   "source": [
    "import sys\n",
    "import os\n",
    "__file__ = %pwd\n",
    "sys.path.append(os.path.dirname(os.path.dirname(__file__)))\n",
    "from __init__ import *\n",
    "print('pwd:', __file__)"
   ]
  },
  {
   "cell_type": "code",
   "execution_count": 2,
   "metadata": {},
   "outputs": [
    {
     "name": "stderr",
     "output_type": "stream",
     "text": [
      "/opt/conda/Anaconda3/envs/pytorch_gpu/lib/python3.11/site-packages/torch/nn/modules/rnn.py:82: UserWarning: dropout option adds dropout after all but last recurrent layer, so non-zero dropout expects num_layers greater than 1, but got dropout=0.8 and num_layers=1\n",
      "  warnings.warn(\"dropout option adds dropout after all but last \"\n",
      "/opt/conda/Anaconda3/envs/pytorch_gpu/lib/python3.11/site-packages/torch/nn/modules/conv.py:306: UserWarning: Using padding='same' with even kernel lengths and odd dilation may require a zero-padded copy of the input be created (Triggered internally at /opt/conda/conda-bld/pytorch_1695392035891/work/aten/src/ATen/native/Convolution.cpp:1008.)\n",
      "  return F.conv1d(input, weight, bias, self.stride,\n"
     ]
    },
    {
     "name": "stdout",
     "output_type": "stream",
     "text": [
      "Epoch 00419: reducing learning rate of group 0 to 5.0000e-04.\n",
      "Epoch 00470: reducing learning rate of group 0 to 2.5000e-04.\n",
      "Epoch 00526: reducing learning rate of group 0 to 1.2500e-04.\n",
      "Epoch 00577: reducing learning rate of group 0 to 1.0000e-04.\n",
      "0 ACSF1\n",
      "{'accuracy': 0.93,\n",
      " 'duration': 23.244945526123047,\n",
      " 'f1': 0.9287118050881681,\n",
      " 'loss': 1.5417581796646118,\n",
      " 'precision': 0.9395604395604396,\n",
      " 'recall': 0.93}\n"
     ]
    },
    {
     "name": "stderr",
     "output_type": "stream",
     "text": [
      "/opt/conda/Anaconda3/envs/pytorch_gpu/lib/python3.11/site-packages/torch/nn/modules/rnn.py:82: UserWarning: dropout option adds dropout after all but last recurrent layer, so non-zero dropout expects num_layers greater than 1, but got dropout=0.8 and num_layers=1\n",
      "  warnings.warn(\"dropout option adds dropout after all but last \"\n"
     ]
    },
    {
     "name": "stdout",
     "output_type": "stream",
     "text": [
      "Epoch 00358: reducing learning rate of group 0 to 5.0000e-04.\n",
      "Epoch 00570: reducing learning rate of group 0 to 2.5000e-04.\n",
      "Epoch 00621: reducing learning rate of group 0 to 1.2500e-04.\n",
      "Epoch 00695: reducing learning rate of group 0 to 1.0000e-04.\n",
      "2 AllGestureWiimoteX\n",
      "{'accuracy': 0.9933333333333333,\n",
      " 'duration': 51.75612711906433,\n",
      " 'f1': 0.9933314809669354,\n",
      " 'loss': 1.4676448822021484,\n",
      " 'precision': 0.9935483870967742,\n",
      " 'recall': 0.9933333333333334}\n"
     ]
    },
    {
     "name": "stderr",
     "output_type": "stream",
     "text": [
      "/opt/conda/Anaconda3/envs/pytorch_gpu/lib/python3.11/site-packages/torch/nn/modules/rnn.py:82: UserWarning: dropout option adds dropout after all but last recurrent layer, so non-zero dropout expects num_layers greater than 1, but got dropout=0.8 and num_layers=1\n",
      "  warnings.warn(\"dropout option adds dropout after all but last \"\n"
     ]
    },
    {
     "name": "stdout",
     "output_type": "stream",
     "text": [
      "Epoch 00261: reducing learning rate of group 0 to 5.0000e-04.\n",
      "Epoch 00511: reducing learning rate of group 0 to 2.5000e-04.\n",
      "Epoch 00562: reducing learning rate of group 0 to 1.2500e-04.\n",
      "Epoch 00613: reducing learning rate of group 0 to 1.0000e-04.\n",
      "4 AllGestureWiimoteZ\n",
      "{'accuracy': 0.97,\n",
      " 'duration': 53.740331411361694,\n",
      " 'f1': 0.9697207730587569,\n",
      " 'loss': 1.496138858795166,\n",
      " 'precision': 0.971512539184953,\n",
      " 'recall': 0.97}\n"
     ]
    },
    {
     "name": "stderr",
     "output_type": "stream",
     "text": [
      "/opt/conda/Anaconda3/envs/pytorch_gpu/lib/python3.11/site-packages/torch/nn/modules/rnn.py:82: UserWarning: dropout option adds dropout after all but last recurrent layer, so non-zero dropout expects num_layers greater than 1, but got dropout=0.8 and num_layers=1\n",
      "  warnings.warn(\"dropout option adds dropout after all but last \"\n"
     ]
    },
    {
     "name": "stdout",
     "output_type": "stream",
     "text": [
      "Epoch 00321: reducing learning rate of group 0 to 5.0000e-04.\n",
      "Epoch 00372: reducing learning rate of group 0 to 2.5000e-04.\n",
      "Epoch 00423: reducing learning rate of group 0 to 1.2500e-04.\n",
      "Epoch 00474: reducing learning rate of group 0 to 1.0000e-04.\n",
      "6 BME\n",
      "{'accuracy': 1.0,\n",
      " 'duration': 15.213746070861816,\n",
      " 'f1': 1.0,\n",
      " 'loss': 0.5519254207611084,\n",
      " 'precision': 1.0,\n",
      " 'recall': 1.0}\n"
     ]
    },
    {
     "name": "stderr",
     "output_type": "stream",
     "text": [
      "/opt/conda/Anaconda3/envs/pytorch_gpu/lib/python3.11/site-packages/torch/nn/modules/rnn.py:82: UserWarning: dropout option adds dropout after all but last recurrent layer, so non-zero dropout expects num_layers greater than 1, but got dropout=0.8 and num_layers=1\n",
      "  warnings.warn(\"dropout option adds dropout after all but last \"\n"
     ]
    },
    {
     "name": "stdout",
     "output_type": "stream",
     "text": [
      "Epoch 00857: reducing learning rate of group 0 to 5.0000e-04.\n",
      "Epoch 00908: reducing learning rate of group 0 to 2.5000e-04.\n",
      "Epoch 00959: reducing learning rate of group 0 to 1.2500e-04.\n",
      "8 BeetleFly\n",
      "{'accuracy': 1.0,\n",
      " 'duration': 10.820266246795654,\n",
      " 'f1': 1.0,\n",
      " 'loss': 0.3132909834384918,\n",
      " 'precision': 1.0,\n",
      " 'recall': 1.0}\n"
     ]
    },
    {
     "name": "stderr",
     "output_type": "stream",
     "text": [
      "/opt/conda/Anaconda3/envs/pytorch_gpu/lib/python3.11/site-packages/torch/nn/modules/rnn.py:82: UserWarning: dropout option adds dropout after all but last recurrent layer, so non-zero dropout expects num_layers greater than 1, but got dropout=0.8 and num_layers=1\n",
      "  warnings.warn(\"dropout option adds dropout after all but last \"\n"
     ]
    },
    {
     "name": "stdout",
     "output_type": "stream",
     "text": [
      "Epoch 00558: reducing learning rate of group 0 to 5.0000e-04.\n",
      "Epoch 00642: reducing learning rate of group 0 to 2.5000e-04.\n",
      "Epoch 00693: reducing learning rate of group 0 to 1.2500e-04.\n",
      "Epoch 00744: reducing learning rate of group 0 to 1.0000e-04.\n",
      "10 CBF\n",
      "{'accuracy': 1.0,\n",
      " 'duration': 36.04538297653198,\n",
      " 'f1': 1.0,\n",
      " 'loss': 0.5515239238739014,\n",
      " 'precision': 1.0,\n",
      " 'recall': 1.0}\n"
     ]
    },
    {
     "name": "stderr",
     "output_type": "stream",
     "text": [
      "/opt/conda/Anaconda3/envs/pytorch_gpu/lib/python3.11/site-packages/torch/nn/modules/rnn.py:82: UserWarning: dropout option adds dropout after all but last recurrent layer, so non-zero dropout expects num_layers greater than 1, but got dropout=0.8 and num_layers=1\n",
      "  warnings.warn(\"dropout option adds dropout after all but last \"\n"
     ]
    },
    {
     "name": "stdout",
     "output_type": "stream",
     "text": [
      "Epoch 00450: reducing learning rate of group 0 to 5.0000e-04.\n",
      "Epoch 00501: reducing learning rate of group 0 to 2.5000e-04.\n",
      "Epoch 00552: reducing learning rate of group 0 to 1.2500e-04.\n",
      "Epoch 00603: reducing learning rate of group 0 to 1.0000e-04.\n",
      "12 Chinatown\n",
      "{'accuracy': 1.0,\n",
      " 'duration': 18.471273183822632,\n",
      " 'f1': 1.0,\n",
      " 'loss': 0.3133242726325989,\n",
      " 'precision': 1.0,\n",
      " 'recall': 1.0}\n"
     ]
    },
    {
     "name": "stderr",
     "output_type": "stream",
     "text": [
      "/opt/conda/Anaconda3/envs/pytorch_gpu/lib/python3.11/site-packages/torch/nn/modules/rnn.py:82: UserWarning: dropout option adds dropout after all but last recurrent layer, so non-zero dropout expects num_layers greater than 1, but got dropout=0.8 and num_layers=1\n",
      "  warnings.warn(\"dropout option adds dropout after all but last \"\n"
     ]
    },
    {
     "name": "stdout",
     "output_type": "stream",
     "text": [
      "Epoch 00302: reducing learning rate of group 0 to 5.0000e-04.\n",
      "Epoch 00353: reducing learning rate of group 0 to 2.5000e-04.\n",
      "Epoch 00404: reducing learning rate of group 0 to 1.2500e-04.\n",
      "14 CinCECGTorso\n",
      "{'accuracy': 1.0,\n",
      " 'duration': 93.88931155204773,\n",
      " 'f1': 1.0,\n",
      " 'loss': 0.7443900108337402,\n",
      " 'precision': 1.0,\n",
      " 'recall': 1.0}\n"
     ]
    },
    {
     "name": "stderr",
     "output_type": "stream",
     "text": [
      "/opt/conda/Anaconda3/envs/pytorch_gpu/lib/python3.11/site-packages/torch/nn/modules/rnn.py:82: UserWarning: dropout option adds dropout after all but last recurrent layer, so non-zero dropout expects num_layers greater than 1, but got dropout=0.8 and num_layers=1\n",
      "  warnings.warn(\"dropout option adds dropout after all but last \"\n"
     ]
    },
    {
     "name": "stdout",
     "output_type": "stream",
     "text": [
      "Epoch 00072: reducing learning rate of group 0 to 5.0000e-04.\n",
      "Epoch 00123: reducing learning rate of group 0 to 2.5000e-04.\n",
      "Epoch 00174: reducing learning rate of group 0 to 1.2500e-04.\n",
      "Epoch 00225: reducing learning rate of group 0 to 1.0000e-04.\n",
      "16 Computers\n",
      "{'accuracy': 1.0,\n",
      " 'duration': 38.72220015525818,\n",
      " 'f1': 1.0,\n",
      " 'loss': 0.3133692443370819,\n",
      " 'precision': 1.0,\n",
      " 'recall': 1.0}\n"
     ]
    },
    {
     "name": "stderr",
     "output_type": "stream",
     "text": [
      "/opt/conda/Anaconda3/envs/pytorch_gpu/lib/python3.11/site-packages/torch/nn/modules/rnn.py:82: UserWarning: dropout option adds dropout after all but last recurrent layer, so non-zero dropout expects num_layers greater than 1, but got dropout=0.8 and num_layers=1\n",
      "  warnings.warn(\"dropout option adds dropout after all but last \"\n"
     ]
    },
    {
     "name": "stdout",
     "output_type": "stream",
     "text": [
      "Epoch 00262: reducing learning rate of group 0 to 5.0000e-04.\n",
      "Epoch 00570: reducing learning rate of group 0 to 2.5000e-04.\n",
      "Epoch 00756: reducing learning rate of group 0 to 1.2500e-04.\n",
      "Epoch 00807: reducing learning rate of group 0 to 1.0000e-04.\n",
      "18 CricketY\n",
      "{'accuracy': 1.0,\n",
      " 'duration': 65.09317755699158,\n",
      " 'f1': 1.0,\n",
      " 'loss': 1.619207160813468,\n",
      " 'precision': 1.0,\n",
      " 'recall': 1.0}\n"
     ]
    },
    {
     "name": "stderr",
     "output_type": "stream",
     "text": [
      "/opt/conda/Anaconda3/envs/pytorch_gpu/lib/python3.11/site-packages/torch/nn/modules/rnn.py:82: UserWarning: dropout option adds dropout after all but last recurrent layer, so non-zero dropout expects num_layers greater than 1, but got dropout=0.8 and num_layers=1\n",
      "  warnings.warn(\"dropout option adds dropout after all but last \"\n"
     ]
    },
    {
     "name": "stdout",
     "output_type": "stream",
     "text": [
      "Epoch 00562: reducing learning rate of group 0 to 5.0000e-04.\n",
      "Epoch 00613: reducing learning rate of group 0 to 2.5000e-04.\n",
      "Epoch 00664: reducing learning rate of group 0 to 1.2500e-04.\n",
      "Epoch 00715: reducing learning rate of group 0 to 1.0000e-04.\n",
      "20 Crop\n",
      "{'accuracy': 0.9515277777777778,\n",
      " 'duration': 1493.8549706935883,\n",
      " 'f1': 0.9513948044919397,\n",
      " 'loss': 2.295240123715021,\n",
      " 'precision': 0.952247166200784,\n",
      " 'recall': 0.9515277777777778}\n"
     ]
    },
    {
     "name": "stderr",
     "output_type": "stream",
     "text": [
      "/opt/conda/Anaconda3/envs/pytorch_gpu/lib/python3.11/site-packages/torch/nn/modules/rnn.py:82: UserWarning: dropout option adds dropout after all but last recurrent layer, so non-zero dropout expects num_layers greater than 1, but got dropout=0.8 and num_layers=1\n",
      "  warnings.warn(\"dropout option adds dropout after all but last \"\n"
     ]
    },
    {
     "name": "stdout",
     "output_type": "stream",
     "text": [
      "Epoch 00226: reducing learning rate of group 0 to 5.0000e-04.\n",
      "Epoch 00277: reducing learning rate of group 0 to 2.5000e-04.\n",
      "Epoch 00328: reducing learning rate of group 0 to 1.2500e-04.\n",
      "Epoch 00379: reducing learning rate of group 0 to 1.0000e-04.\n",
      "22 DistalPhalanxOutlineAgeGroup\n",
      "{'accuracy': 0.88,\n",
      " 'duration': 63.43503475189209,\n",
      " 'f1': 0.900574551664136,\n",
      " 'loss': 0.6382982730865479,\n",
      " 'precision': 0.8970312594473668,\n",
      " 'recall': 0.9180120825346542}\n"
     ]
    },
    {
     "name": "stderr",
     "output_type": "stream",
     "text": [
      "/opt/conda/Anaconda3/envs/pytorch_gpu/lib/python3.11/site-packages/torch/nn/modules/rnn.py:82: UserWarning: dropout option adds dropout after all but last recurrent layer, so non-zero dropout expects num_layers greater than 1, but got dropout=0.8 and num_layers=1\n",
      "  warnings.warn(\"dropout option adds dropout after all but last \"\n"
     ]
    },
    {
     "name": "stdout",
     "output_type": "stream",
     "text": [
      "Epoch 00251: reducing learning rate of group 0 to 5.0000e-04.\n",
      "Epoch 00302: reducing learning rate of group 0 to 2.5000e-04.\n",
      "Epoch 00353: reducing learning rate of group 0 to 1.2500e-04.\n",
      "Epoch 00404: reducing learning rate of group 0 to 1.0000e-04.\n",
      "24 DistalPhalanxTW\n",
      "{'accuracy': 0.975,\n",
      " 'duration': 63.90373873710632,\n",
      " 'f1': 0.9433442634865119,\n",
      " 'loss': 1.1103088515145438,\n",
      " 'precision': 0.9634732502845668,\n",
      " 'recall': 0.928066914084576}\n"
     ]
    },
    {
     "name": "stderr",
     "output_type": "stream",
     "text": [
      "/opt/conda/Anaconda3/envs/pytorch_gpu/lib/python3.11/site-packages/torch/nn/modules/rnn.py:82: UserWarning: dropout option adds dropout after all but last recurrent layer, so non-zero dropout expects num_layers greater than 1, but got dropout=0.8 and num_layers=1\n",
      "  warnings.warn(\"dropout option adds dropout after all but last \"\n"
     ]
    },
    {
     "name": "stdout",
     "output_type": "stream",
     "text": [
      "Epoch 00098: reducing learning rate of group 0 to 5.0000e-04.\n",
      "Epoch 00149: reducing learning rate of group 0 to 2.5000e-04.\n",
      "Epoch 00200: reducing learning rate of group 0 to 1.2500e-04.\n",
      "Epoch 00251: reducing learning rate of group 0 to 1.0000e-04.\n",
      "26 DodgerLoopGame\n",
      "{'accuracy': 1.0,\n",
      " 'duration': 13.83423137664795,\n",
      " 'f1': 1.0,\n",
      " 'loss': 0.3133945167064667,\n",
      " 'precision': 1.0,\n",
      " 'recall': 1.0}\n"
     ]
    },
    {
     "name": "stderr",
     "output_type": "stream",
     "text": [
      "/opt/conda/Anaconda3/envs/pytorch_gpu/lib/python3.11/site-packages/torch/nn/modules/rnn.py:82: UserWarning: dropout option adds dropout after all but last recurrent layer, so non-zero dropout expects num_layers greater than 1, but got dropout=0.8 and num_layers=1\n",
      "  warnings.warn(\"dropout option adds dropout after all but last \"\n"
     ]
    },
    {
     "name": "stdout",
     "output_type": "stream",
     "text": [
      "Epoch 00149: reducing learning rate of group 0 to 5.0000e-04.\n",
      "Epoch 00200: reducing learning rate of group 0 to 2.5000e-04.\n",
      "Epoch 00251: reducing learning rate of group 0 to 1.2500e-04.\n",
      "Epoch 00302: reducing learning rate of group 0 to 1.0000e-04.\n",
      "28 ECG200\n",
      "{'accuracy': 1.0,\n",
      " 'duration': 16.61633849143982,\n",
      " 'f1': 1.0,\n",
      " 'loss': 0.3134499788284302,\n",
      " 'precision': 1.0,\n",
      " 'recall': 1.0}\n"
     ]
    },
    {
     "name": "stderr",
     "output_type": "stream",
     "text": [
      "/opt/conda/Anaconda3/envs/pytorch_gpu/lib/python3.11/site-packages/torch/nn/modules/rnn.py:82: UserWarning: dropout option adds dropout after all but last recurrent layer, so non-zero dropout expects num_layers greater than 1, but got dropout=0.8 and num_layers=1\n",
      "  warnings.warn(\"dropout option adds dropout after all but last \"\n"
     ]
    },
    {
     "name": "stdout",
     "output_type": "stream",
     "text": [
      "30 ECGFiveDays\n",
      "{'accuracy': 1.0,\n",
      " 'duration': 37.581220388412476,\n",
      " 'f1': 1.0,\n",
      " 'loss': 0.31328022480010986,\n",
      " 'precision': 1.0,\n",
      " 'recall': 1.0}\n"
     ]
    },
    {
     "name": "stderr",
     "output_type": "stream",
     "text": [
      "/opt/conda/Anaconda3/envs/pytorch_gpu/lib/python3.11/site-packages/torch/nn/modules/rnn.py:82: UserWarning: dropout option adds dropout after all but last recurrent layer, so non-zero dropout expects num_layers greater than 1, but got dropout=0.8 and num_layers=1\n",
      "  warnings.warn(\"dropout option adds dropout after all but last \"\n"
     ]
    },
    {
     "name": "stdout",
     "output_type": "stream",
     "text": [
      "Epoch 00369: reducing learning rate of group 0 to 5.0000e-04.\n",
      "Epoch 00420: reducing learning rate of group 0 to 2.5000e-04.\n",
      "Epoch 00471: reducing learning rate of group 0 to 1.2500e-04.\n",
      "Epoch 00522: reducing learning rate of group 0 to 1.0000e-04.\n",
      "32 EOGVerticalSignal\n",
      "{'accuracy': 0.8729281767955801,\n",
      " 'duration': 91.26083326339722,\n",
      " 'f1': 0.8496702544320617,\n",
      " 'loss': 1.7726327578226726,\n",
      " 'precision': 0.8965044657167004,\n",
      " 'recall': 0.8724014336917563}\n"
     ]
    },
    {
     "name": "stderr",
     "output_type": "stream",
     "text": [
      "/opt/conda/Anaconda3/envs/pytorch_gpu/lib/python3.11/site-packages/torch/nn/modules/rnn.py:82: UserWarning: dropout option adds dropout after all but last recurrent layer, so non-zero dropout expects num_layers greater than 1, but got dropout=0.8 and num_layers=1\n",
      "  warnings.warn(\"dropout option adds dropout after all but last \"\n"
     ]
    },
    {
     "name": "stdout",
     "output_type": "stream",
     "text": [
      "Epoch 00127: reducing learning rate of group 0 to 5.0000e-04.\n",
      "Epoch 00178: reducing learning rate of group 0 to 2.5000e-04.\n",
      "Epoch 00229: reducing learning rate of group 0 to 1.2500e-04.\n",
      "Epoch 00280: reducing learning rate of group 0 to 1.0000e-04.\n",
      "34 ElectricDevices\n",
      "{'accuracy': 0.9758010306968407,\n",
      " 'duration': 1454.6421420574188,\n",
      " 'f1': 0.9723646395147146,\n",
      " 'loss': 1.1888226083346776,\n",
      " 'precision': 0.9685372515575031,\n",
      " 'recall': 0.9765782966438111}\n"
     ]
    },
    {
     "name": "stderr",
     "output_type": "stream",
     "text": [
      "/opt/conda/Anaconda3/envs/pytorch_gpu/lib/python3.11/site-packages/torch/nn/modules/rnn.py:82: UserWarning: dropout option adds dropout after all but last recurrent layer, so non-zero dropout expects num_layers greater than 1, but got dropout=0.8 and num_layers=1\n",
      "  warnings.warn(\"dropout option adds dropout after all but last \"\n"
     ]
    },
    {
     "name": "stdout",
     "output_type": "stream",
     "text": [
      "Epoch 00562: reducing learning rate of group 0 to 5.0000e-04.\n",
      "36 FaceAll\n",
      "{'accuracy': 1.0,\n",
      " 'duration': 131.00790238380432,\n",
      " 'f1': 1.0,\n",
      " 'loss': 1.7548291948106554,\n",
      " 'precision': 1.0,\n",
      " 'recall': 1.0}\n"
     ]
    },
    {
     "name": "stderr",
     "output_type": "stream",
     "text": [
      "/opt/conda/Anaconda3/envs/pytorch_gpu/lib/python3.11/site-packages/torch/nn/modules/rnn.py:82: UserWarning: dropout option adds dropout after all but last recurrent layer, so non-zero dropout expects num_layers greater than 1, but got dropout=0.8 and num_layers=1\n",
      "  warnings.warn(\"dropout option adds dropout after all but last \"\n"
     ]
    },
    {
     "name": "stdout",
     "output_type": "stream",
     "text": [
      "Epoch 00473: reducing learning rate of group 0 to 5.0000e-04.\n",
      "Epoch 00570: reducing learning rate of group 0 to 2.5000e-04.\n",
      "Epoch 00651: reducing learning rate of group 0 to 1.2500e-04.\n",
      "Epoch 00779: reducing learning rate of group 0 to 1.0000e-04.\n",
      "38 FacesUCR\n",
      "{'accuracy': 1.0,\n",
      " 'duration': 115.86466526985168,\n",
      " 'f1': 1.0,\n",
      " 'loss': 1.7549656927585602,\n",
      " 'precision': 1.0,\n",
      " 'recall': 1.0}\n"
     ]
    },
    {
     "name": "stderr",
     "output_type": "stream",
     "text": [
      "/opt/conda/Anaconda3/envs/pytorch_gpu/lib/python3.11/site-packages/torch/nn/modules/rnn.py:82: UserWarning: dropout option adds dropout after all but last recurrent layer, so non-zero dropout expects num_layers greater than 1, but got dropout=0.8 and num_layers=1\n",
      "  warnings.warn(\"dropout option adds dropout after all but last \"\n"
     ]
    },
    {
     "name": "stdout",
     "output_type": "stream",
     "text": [
      "Epoch 00315: reducing learning rate of group 0 to 5.0000e-04.\n",
      "Epoch 00366: reducing learning rate of group 0 to 2.5000e-04.\n",
      "Epoch 00417: reducing learning rate of group 0 to 1.2500e-04.\n",
      "Epoch 00468: reducing learning rate of group 0 to 1.0000e-04.\n",
      "40 Fish\n",
      "{'accuracy': 1.0,\n",
      " 'duration': 29.84955334663391,\n",
      " 'f1': 1.0,\n",
      " 'loss': 1.166752298672994,\n",
      " 'precision': 1.0,\n",
      " 'recall': 1.0}\n"
     ]
    },
    {
     "name": "stderr",
     "output_type": "stream",
     "text": [
      "/opt/conda/Anaconda3/envs/pytorch_gpu/lib/python3.11/site-packages/torch/nn/modules/rnn.py:82: UserWarning: dropout option adds dropout after all but last recurrent layer, so non-zero dropout expects num_layers greater than 1, but got dropout=0.8 and num_layers=1\n",
      "  warnings.warn(\"dropout option adds dropout after all but last \"\n"
     ]
    },
    {
     "name": "stdout",
     "output_type": "stream",
     "text": [
      "Epoch 00058: reducing learning rate of group 0 to 5.0000e-04.\n",
      "Epoch 00109: reducing learning rate of group 0 to 2.5000e-04.\n",
      "Epoch 00160: reducing learning rate of group 0 to 1.2500e-04.\n",
      "Epoch 00211: reducing learning rate of group 0 to 1.0000e-04.\n",
      "42 FordB\n",
      "{'accuracy': 0.9991749174917491,\n",
      " 'duration': 509.7856984138489,\n",
      " 'f1': 0.999174507820721,\n",
      " 'loss': 0.31406784580464947,\n",
      " 'precision': 0.9991568296795953,\n",
      " 'recall': 0.9991935483870968}\n"
     ]
    },
    {
     "name": "stderr",
     "output_type": "stream",
     "text": [
      "/opt/conda/Anaconda3/envs/pytorch_gpu/lib/python3.11/site-packages/torch/nn/modules/rnn.py:82: UserWarning: dropout option adds dropout after all but last recurrent layer, so non-zero dropout expects num_layers greater than 1, but got dropout=0.8 and num_layers=1\n",
      "  warnings.warn(\"dropout option adds dropout after all but last \"\n"
     ]
    },
    {
     "name": "stdout",
     "output_type": "stream",
     "text": [
      "Epoch 00126: reducing learning rate of group 0 to 5.0000e-04.\n",
      "Epoch 00177: reducing learning rate of group 0 to 2.5000e-04.\n",
      "Epoch 00228: reducing learning rate of group 0 to 1.2500e-04.\n",
      "Epoch 00279: reducing learning rate of group 0 to 1.0000e-04.\n",
      "44 FreezerSmallTrain\n",
      "{'accuracy': 0.9285714285714286,\n",
      " 'duration': 88.46468997001648,\n",
      " 'f1': 0.9282051282051282,\n",
      " 'loss': 0.38490840792655945,\n",
      " 'precision': 0.9375,\n",
      " 'recall': 0.9285714285714286}\n"
     ]
    },
    {
     "name": "stderr",
     "output_type": "stream",
     "text": [
      "/opt/conda/Anaconda3/envs/pytorch_gpu/lib/python3.11/site-packages/torch/nn/modules/rnn.py:82: UserWarning: dropout option adds dropout after all but last recurrent layer, so non-zero dropout expects num_layers greater than 1, but got dropout=0.8 and num_layers=1\n",
      "  warnings.warn(\"dropout option adds dropout after all but last \"\n"
     ]
    },
    {
     "name": "stdout",
     "output_type": "stream",
     "text": [
      "Epoch 00375: reducing learning rate of group 0 to 5.0000e-04.\n",
      "Epoch 00560: reducing learning rate of group 0 to 2.5000e-04.\n",
      "Epoch 00611: reducing learning rate of group 0 to 1.2500e-04.\n",
      "Epoch 00681: reducing learning rate of group 0 to 1.0000e-04.\n",
      "46 GestureMidAirD1\n",
      "{'accuracy': 0.9134615384615384,\n",
      " 'duration': 37.083627700805664,\n",
      " 'f1': 0.8901995457776392,\n",
      " 'loss': 2.4146199226379395,\n",
      " 'precision': 0.8791819291819293,\n",
      " 'recall': 0.9134615384615384}\n"
     ]
    },
    {
     "name": "stderr",
     "output_type": "stream",
     "text": [
      "/opt/conda/Anaconda3/envs/pytorch_gpu/lib/python3.11/site-packages/torch/nn/modules/rnn.py:82: UserWarning: dropout option adds dropout after all but last recurrent layer, so non-zero dropout expects num_layers greater than 1, but got dropout=0.8 and num_layers=1\n",
      "  warnings.warn(\"dropout option adds dropout after all but last \"\n"
     ]
    },
    {
     "name": "stdout",
     "output_type": "stream",
     "text": [
      "Epoch 00152: reducing learning rate of group 0 to 5.0000e-04.\n",
      "Epoch 00239: reducing learning rate of group 0 to 2.5000e-04.\n",
      "Epoch 00425: reducing learning rate of group 0 to 1.2500e-04.\n",
      "Epoch 00563: reducing learning rate of group 0 to 1.0000e-04.\n",
      "48 GestureMidAirD3\n",
      "{'accuracy': 0.8798076923076923,\n",
      " 'duration': 38.007240295410156,\n",
      " 'f1': 0.877797554711701,\n",
      " 'loss': 2.4743876457214355,\n",
      " 'precision': 0.8932747807747808,\n",
      " 'recall': 0.8798076923076923}\n"
     ]
    },
    {
     "name": "stderr",
     "output_type": "stream",
     "text": [
      "/opt/conda/Anaconda3/envs/pytorch_gpu/lib/python3.11/site-packages/torch/nn/modules/rnn.py:82: UserWarning: dropout option adds dropout after all but last recurrent layer, so non-zero dropout expects num_layers greater than 1, but got dropout=0.8 and num_layers=1\n",
      "  warnings.warn(\"dropout option adds dropout after all but last \"\n"
     ]
    },
    {
     "name": "stdout",
     "output_type": "stream",
     "text": [
      "Epoch 00343: reducing learning rate of group 0 to 5.0000e-04.\n",
      "Epoch 00394: reducing learning rate of group 0 to 2.5000e-04.\n",
      "Epoch 00445: reducing learning rate of group 0 to 1.2500e-04.\n",
      "Epoch 00496: reducing learning rate of group 0 to 1.0000e-04.\n",
      "50 GesturePebbleZ2\n",
      "{'accuracy': 1.0,\n",
      " 'duration': 28.06002712249756,\n",
      " 'f1': 1.0,\n",
      " 'loss': 1.0440783500671387,\n",
      " 'precision': 1.0,\n",
      " 'recall': 1.0}\n"
     ]
    },
    {
     "name": "stderr",
     "output_type": "stream",
     "text": [
      "/opt/conda/Anaconda3/envs/pytorch_gpu/lib/python3.11/site-packages/torch/nn/modules/rnn.py:82: UserWarning: dropout option adds dropout after all but last recurrent layer, so non-zero dropout expects num_layers greater than 1, but got dropout=0.8 and num_layers=1\n",
      "  warnings.warn(\"dropout option adds dropout after all but last \"\n"
     ]
    },
    {
     "name": "stdout",
     "output_type": "stream",
     "text": [
      "Epoch 00128: reducing learning rate of group 0 to 5.0000e-04.\n",
      "Epoch 00179: reducing learning rate of group 0 to 2.5000e-04.\n",
      "Epoch 00287: reducing learning rate of group 0 to 1.2500e-04.\n",
      "Epoch 00338: reducing learning rate of group 0 to 1.0000e-04.\n",
      "52 GunPointAgeSpan\n",
      "{'accuracy': 0.9851851851851852,\n",
      " 'duration': 30.91911792755127,\n",
      " 'f1': 0.9851843722563652,\n",
      " 'loss': 0.3386284013589223,\n",
      " 'precision': 0.9851843722563652,\n",
      " 'recall': 0.9851843722563652}\n"
     ]
    },
    {
     "name": "stderr",
     "output_type": "stream",
     "text": [
      "/opt/conda/Anaconda3/envs/pytorch_gpu/lib/python3.11/site-packages/torch/nn/modules/rnn.py:82: UserWarning: dropout option adds dropout after all but last recurrent layer, so non-zero dropout expects num_layers greater than 1, but got dropout=0.8 and num_layers=1\n",
      "  warnings.warn(\"dropout option adds dropout after all but last \"\n"
     ]
    },
    {
     "name": "stdout",
     "output_type": "stream",
     "text": [
      "Epoch 00052: reducing learning rate of group 0 to 5.0000e-04.\n",
      "Epoch 00174: reducing learning rate of group 0 to 2.5000e-04.\n",
      "Epoch 00225: reducing learning rate of group 0 to 1.2500e-04.\n",
      "Epoch 00386: reducing learning rate of group 0 to 1.0000e-04.\n",
      "54 GunPointOldVersusYoung\n",
      "{'accuracy': 1.0,\n",
      " 'duration': 27.652888298034668,\n",
      " 'f1': 1.0,\n",
      " 'loss': 0.3144501248995463,\n",
      " 'precision': 1.0,\n",
      " 'recall': 1.0}\n"
     ]
    },
    {
     "name": "stderr",
     "output_type": "stream",
     "text": [
      "/opt/conda/Anaconda3/envs/pytorch_gpu/lib/python3.11/site-packages/torch/nn/modules/rnn.py:82: UserWarning: dropout option adds dropout after all but last recurrent layer, so non-zero dropout expects num_layers greater than 1, but got dropout=0.8 and num_layers=1\n",
      "  warnings.warn(\"dropout option adds dropout after all but last \"\n"
     ]
    },
    {
     "name": "stdout",
     "output_type": "stream",
     "text": [
      "Epoch 00166: reducing learning rate of group 0 to 5.0000e-04.\n",
      "Epoch 00223: reducing learning rate of group 0 to 2.5000e-04.\n",
      "Epoch 00468: reducing learning rate of group 0 to 1.2500e-04.\n",
      "Epoch 00580: reducing learning rate of group 0 to 1.0000e-04.\n",
      "56 HandOutlines\n",
      "{'accuracy': 0.977,\n",
      " 'duration': 335.3825750350952,\n",
      " 'f1': 0.974997581287755,\n",
      " 'loss': 0.345033360645175,\n",
      " 'precision': 0.977104487389453,\n",
      " 'recall': 0.9730121754793122}\n"
     ]
    },
    {
     "name": "stderr",
     "output_type": "stream",
     "text": [
      "/opt/conda/Anaconda3/envs/pytorch_gpu/lib/python3.11/site-packages/torch/nn/modules/rnn.py:82: UserWarning: dropout option adds dropout after all but last recurrent layer, so non-zero dropout expects num_layers greater than 1, but got dropout=0.8 and num_layers=1\n",
      "  warnings.warn(\"dropout option adds dropout after all but last \"\n"
     ]
    },
    {
     "name": "stdout",
     "output_type": "stream",
     "text": [
      "Epoch 00183: reducing learning rate of group 0 to 5.0000e-04.\n",
      "Epoch 00234: reducing learning rate of group 0 to 2.5000e-04.\n",
      "Epoch 00285: reducing learning rate of group 0 to 1.2500e-04.\n",
      "Epoch 00336: reducing learning rate of group 0 to 1.0000e-04.\n",
      "58 Herring\n",
      "{'accuracy': 1.0,\n",
      " 'duration': 11.017593622207642,\n",
      " 'f1': 1.0,\n",
      " 'loss': 0.3152472972869873,\n",
      " 'precision': 1.0,\n",
      " 'recall': 1.0}\n"
     ]
    },
    {
     "name": "stderr",
     "output_type": "stream",
     "text": [
      "/opt/conda/Anaconda3/envs/pytorch_gpu/lib/python3.11/site-packages/torch/nn/modules/rnn.py:82: UserWarning: dropout option adds dropout after all but last recurrent layer, so non-zero dropout expects num_layers greater than 1, but got dropout=0.8 and num_layers=1\n",
      "  warnings.warn(\"dropout option adds dropout after all but last \"\n"
     ]
    },
    {
     "name": "stdout",
     "output_type": "stream",
     "text": [
      "Epoch 00219: reducing learning rate of group 0 to 5.0000e-04.\n",
      "Epoch 00270: reducing learning rate of group 0 to 2.5000e-04.\n",
      "Epoch 00461: reducing learning rate of group 0 to 1.2500e-04.\n",
      "Epoch 00512: reducing learning rate of group 0 to 1.0000e-04.\n",
      "60 InlineSkate\n",
      "{'accuracy': 1.0,\n",
      " 'duration': 72.39121222496033,\n",
      " 'f1': 1.0,\n",
      " 'loss': 1.1731852889060974,\n",
      " 'precision': 1.0,\n",
      " 'recall': 1.0}\n"
     ]
    },
    {
     "name": "stderr",
     "output_type": "stream",
     "text": [
      "/opt/conda/Anaconda3/envs/pytorch_gpu/lib/python3.11/site-packages/torch/nn/modules/rnn.py:82: UserWarning: dropout option adds dropout after all but last recurrent layer, so non-zero dropout expects num_layers greater than 1, but got dropout=0.8 and num_layers=1\n",
      "  warnings.warn(\"dropout option adds dropout after all but last \"\n"
     ]
    },
    {
     "name": "stdout",
     "output_type": "stream",
     "text": [
      "Epoch 00332: reducing learning rate of group 0 to 5.0000e-04.\n",
      "Epoch 00383: reducing learning rate of group 0 to 2.5000e-04.\n",
      "Epoch 00434: reducing learning rate of group 0 to 1.2500e-04.\n",
      "Epoch 00485: reducing learning rate of group 0 to 1.0000e-04.\n",
      "62 InsectEPGSmallTrain\n",
      "{'accuracy': 1.0,\n",
      " 'duration': 16.856002807617188,\n",
      " 'f1': 1.0,\n",
      " 'loss': 0.5515596270561218,\n",
      " 'precision': 1.0,\n",
      " 'recall': 1.0}\n"
     ]
    },
    {
     "name": "stderr",
     "output_type": "stream",
     "text": [
      "/opt/conda/Anaconda3/envs/pytorch_gpu/lib/python3.11/site-packages/torch/nn/modules/rnn.py:82: UserWarning: dropout option adds dropout after all but last recurrent layer, so non-zero dropout expects num_layers greater than 1, but got dropout=0.8 and num_layers=1\n",
      "  warnings.warn(\"dropout option adds dropout after all but last \"\n"
     ]
    },
    {
     "name": "stdout",
     "output_type": "stream",
     "text": [
      "Epoch 00242: reducing learning rate of group 0 to 5.0000e-04.\n",
      "Epoch 00293: reducing learning rate of group 0 to 2.5000e-04.\n",
      "Epoch 00344: reducing learning rate of group 0 to 1.2500e-04.\n",
      "Epoch 00395: reducing learning rate of group 0 to 1.0000e-04.\n",
      "64 ItalyPowerDemand\n",
      "{'accuracy': 1.0,\n",
      " 'duration': 45.90645980834961,\n",
      " 'f1': 1.0,\n",
      " 'loss': 0.3141373246908188,\n",
      " 'precision': 1.0,\n",
      " 'recall': 1.0}\n"
     ]
    },
    {
     "name": "stderr",
     "output_type": "stream",
     "text": [
      "/opt/conda/Anaconda3/envs/pytorch_gpu/lib/python3.11/site-packages/torch/nn/modules/rnn.py:82: UserWarning: dropout option adds dropout after all but last recurrent layer, so non-zero dropout expects num_layers greater than 1, but got dropout=0.8 and num_layers=1\n",
      "  warnings.warn(\"dropout option adds dropout after all but last \"\n"
     ]
    },
    {
     "name": "stdout",
     "output_type": "stream",
     "text": [
      "Epoch 00157: reducing learning rate of group 0 to 5.0000e-04.\n",
      "Epoch 00208: reducing learning rate of group 0 to 2.5000e-04.\n",
      "Epoch 00259: reducing learning rate of group 0 to 1.2500e-04.\n",
      "Epoch 00310: reducing learning rate of group 0 to 1.0000e-04.\n",
      "66 Lightning2\n",
      "{'accuracy': 1.0,\n",
      " 'duration': 10.590786457061768,\n",
      " 'f1': 1.0,\n",
      " 'loss': 0.313477098941803,\n",
      " 'precision': 1.0,\n",
      " 'recall': 1.0}\n"
     ]
    },
    {
     "name": "stderr",
     "output_type": "stream",
     "text": [
      "/opt/conda/Anaconda3/envs/pytorch_gpu/lib/python3.11/site-packages/torch/nn/modules/rnn.py:82: UserWarning: dropout option adds dropout after all but last recurrent layer, so non-zero dropout expects num_layers greater than 1, but got dropout=0.8 and num_layers=1\n",
      "  warnings.warn(\"dropout option adds dropout after all but last \"\n"
     ]
    },
    {
     "name": "stdout",
     "output_type": "stream",
     "text": [
      "68 Mallat\n",
      "{'accuracy': 1.0,\n",
      " 'duration': 106.55429077148438,\n",
      " 'f1': 1.0,\n",
      " 'loss': 1.274384617805481,\n",
      " 'precision': 1.0,\n",
      " 'recall': 1.0}\n"
     ]
    },
    {
     "name": "stderr",
     "output_type": "stream",
     "text": [
      "/opt/conda/Anaconda3/envs/pytorch_gpu/lib/python3.11/site-packages/torch/nn/modules/rnn.py:82: UserWarning: dropout option adds dropout after all but last recurrent layer, so non-zero dropout expects num_layers greater than 1, but got dropout=0.8 and num_layers=1\n",
      "  warnings.warn(\"dropout option adds dropout after all but last \"\n"
     ]
    },
    {
     "name": "stdout",
     "output_type": "stream",
     "text": [
      "Epoch 00245: reducing learning rate of group 0 to 5.0000e-04.\n",
      "Epoch 00296: reducing learning rate of group 0 to 2.5000e-04.\n",
      "Epoch 00347: reducing learning rate of group 0 to 1.2500e-04.\n",
      "Epoch 00398: reducing learning rate of group 0 to 1.0000e-04.\n",
      "70 MedicalImages\n",
      "{'accuracy': 0.958005249343832,\n",
      " 'duration': 63.46005320549011,\n",
      " 'f1': 0.9783894406279602,\n",
      " 'loss': 1.4744931260744731,\n",
      " 'precision': 0.9696463380673908,\n",
      " 'recall': 0.9897536945812808}\n"
     ]
    },
    {
     "name": "stderr",
     "output_type": "stream",
     "text": [
      "/opt/conda/Anaconda3/envs/pytorch_gpu/lib/python3.11/site-packages/torch/nn/modules/rnn.py:82: UserWarning: dropout option adds dropout after all but last recurrent layer, so non-zero dropout expects num_layers greater than 1, but got dropout=0.8 and num_layers=1\n",
      "  warnings.warn(\"dropout option adds dropout after all but last \"\n"
     ]
    },
    {
     "name": "stdout",
     "output_type": "stream",
     "text": [
      "Epoch 00197: reducing learning rate of group 0 to 5.0000e-04.\n",
      "Epoch 00248: reducing learning rate of group 0 to 2.5000e-04.\n",
      "Epoch 00299: reducing learning rate of group 0 to 1.2500e-04.\n",
      "Epoch 00350: reducing learning rate of group 0 to 1.0000e-04.\n",
      "72 MiddlePhalanxOutlineAgeGroup\n",
      "{'accuracy': 0.9425,\n",
      " 'duration': 63.73886060714722,\n",
      " 'f1': 0.9293428179953002,\n",
      " 'loss': 0.6159408007349286,\n",
      " 'precision': 0.9297407418457068,\n",
      " 'recall': 0.9296466777479435}\n"
     ]
    },
    {
     "name": "stderr",
     "output_type": "stream",
     "text": [
      "/opt/conda/Anaconda3/envs/pytorch_gpu/lib/python3.11/site-packages/torch/nn/modules/rnn.py:82: UserWarning: dropout option adds dropout after all but last recurrent layer, so non-zero dropout expects num_layers greater than 1, but got dropout=0.8 and num_layers=1\n",
      "  warnings.warn(\"dropout option adds dropout after all but last \"\n"
     ]
    },
    {
     "name": "stdout",
     "output_type": "stream",
     "text": [
      "Epoch 00076: reducing learning rate of group 0 to 5.0000e-04.\n",
      "Epoch 00127: reducing learning rate of group 0 to 2.5000e-04.\n",
      "Epoch 00178: reducing learning rate of group 0 to 1.2500e-04.\n",
      "Epoch 00229: reducing learning rate of group 0 to 1.0000e-04.\n",
      "74 MiddlePhalanxTW\n",
      "{'accuracy': 0.8796992481203008,\n",
      " 'duration': 64.33379459381104,\n",
      " 'f1': 0.7174263299428224,\n",
      " 'loss': 1.311696205820356,\n",
      " 'precision': 0.7158547496631966,\n",
      " 'recall': 0.7290032251170562}\n"
     ]
    },
    {
     "name": "stderr",
     "output_type": "stream",
     "text": [
      "/opt/conda/Anaconda3/envs/pytorch_gpu/lib/python3.11/site-packages/torch/nn/modules/rnn.py:82: UserWarning: dropout option adds dropout after all but last recurrent layer, so non-zero dropout expects num_layers greater than 1, but got dropout=0.8 and num_layers=1\n",
      "  warnings.warn(\"dropout option adds dropout after all but last \"\n"
     ]
    },
    {
     "name": "stdout",
     "output_type": "stream",
     "text": [
      "Epoch 00532: reducing learning rate of group 0 to 5.0000e-04.\n",
      "Epoch 00583: reducing learning rate of group 0 to 2.5000e-04.\n",
      "Epoch 00634: reducing learning rate of group 0 to 1.2500e-04.\n",
      "Epoch 00714: reducing learning rate of group 0 to 1.0000e-04.\n",
      "76 MixedShapesSmallTrain\n",
      "{'accuracy': 1.0,\n",
      " 'duration': 101.01184463500977,\n",
      " 'f1': 1.0,\n",
      " 'loss': 0.9051098227500916,\n",
      " 'precision': 1.0,\n",
      " 'recall': 1.0}\n"
     ]
    },
    {
     "name": "stderr",
     "output_type": "stream",
     "text": [
      "/opt/conda/Anaconda3/envs/pytorch_gpu/lib/python3.11/site-packages/torch/nn/modules/rnn.py:82: UserWarning: dropout option adds dropout after all but last recurrent layer, so non-zero dropout expects num_layers greater than 1, but got dropout=0.8 and num_layers=1\n",
      "  warnings.warn(\"dropout option adds dropout after all but last \"\n"
     ]
    },
    {
     "name": "stdout",
     "output_type": "stream",
     "text": [
      "Epoch 00457: reducing learning rate of group 0 to 5.0000e-04.\n",
      "Epoch 00508: reducing learning rate of group 0 to 2.5000e-04.\n",
      "Epoch 00899: reducing learning rate of group 0 to 1.2500e-04.\n",
      "Epoch 00981: reducing learning rate of group 0 to 1.0000e-04.\n",
      "78 NonInvasiveFetalECGThorax1\n",
      "{'accuracy': 0.9488888888888889,\n",
      " 'duration': 294.80298495292664,\n",
      " 'f1': 0.9328056767259486,\n",
      " 'loss': 2.8298394433383285,\n",
      " 'precision': 0.9219623505505569,\n",
      " 'recall': 0.9500661375661376}\n"
     ]
    },
    {
     "name": "stderr",
     "output_type": "stream",
     "text": [
      "/opt/conda/Anaconda3/envs/pytorch_gpu/lib/python3.11/site-packages/torch/nn/modules/rnn.py:82: UserWarning: dropout option adds dropout after all but last recurrent layer, so non-zero dropout expects num_layers greater than 1, but got dropout=0.8 and num_layers=1\n",
      "  warnings.warn(\"dropout option adds dropout after all but last \"\n"
     ]
    },
    {
     "name": "stdout",
     "output_type": "stream",
     "text": [
      "Epoch 00173: reducing learning rate of group 0 to 5.0000e-04.\n",
      "Epoch 00254: reducing learning rate of group 0 to 2.5000e-04.\n",
      "Epoch 00332: reducing learning rate of group 0 to 1.2500e-04.\n",
      "Epoch 00383: reducing learning rate of group 0 to 1.0000e-04.\n",
      "80 OSULeaf\n",
      "{'accuracy': 1.0,\n",
      " 'duration': 40.680195808410645,\n",
      " 'f1': 1.0,\n",
      " 'loss': 1.0443578660488129,\n",
      " 'precision': 1.0,\n",
      " 'recall': 1.0}\n"
     ]
    },
    {
     "name": "stderr",
     "output_type": "stream",
     "text": [
      "/opt/conda/Anaconda3/envs/pytorch_gpu/lib/python3.11/site-packages/torch/nn/modules/rnn.py:82: UserWarning: dropout option adds dropout after all but last recurrent layer, so non-zero dropout expects num_layers greater than 1, but got dropout=0.8 and num_layers=1\n",
      "  warnings.warn(\"dropout option adds dropout after all but last \"\n"
     ]
    },
    {
     "name": "stdout",
     "output_type": "stream",
     "text": [
      "Epoch 00308: reducing learning rate of group 0 to 5.0000e-04.\n",
      "Epoch 00359: reducing learning rate of group 0 to 2.5000e-04.\n",
      "Epoch 00553: reducing learning rate of group 0 to 1.2500e-04.\n",
      "Epoch 00629: reducing learning rate of group 0 to 1.0000e-04.\n",
      "82 PLAID\n",
      "{'accuracy': 0.6797020484171322,\n",
      " 'duration': 111.82963943481445,\n",
      " 'f1': 0.716683838163462,\n",
      " 'loss': 1.814672549565633,\n",
      " 'precision': 0.7441010983212838,\n",
      " 'recall': 0.7346946684776449}\n"
     ]
    },
    {
     "name": "stderr",
     "output_type": "stream",
     "text": [
      "/opt/conda/Anaconda3/envs/pytorch_gpu/lib/python3.11/site-packages/torch/nn/modules/rnn.py:82: UserWarning: dropout option adds dropout after all but last recurrent layer, so non-zero dropout expects num_layers greater than 1, but got dropout=0.8 and num_layers=1\n",
      "  warnings.warn(\"dropout option adds dropout after all but last \"\n"
     ]
    },
    {
     "name": "stdout",
     "output_type": "stream",
     "text": [
      "Epoch 00514: reducing learning rate of group 0 to 5.0000e-04.\n",
      "Epoch 00599: reducing learning rate of group 0 to 2.5000e-04.\n",
      "Epoch 00650: reducing learning rate of group 0 to 1.2500e-04.\n",
      "Epoch 00701: reducing learning rate of group 0 to 1.0000e-04.\n",
      "84 Phoneme\n",
      "{'accuracy': 1.0,\n",
      " 'duration': 97.25228929519653,\n",
      " 'f1': 1.0,\n",
      " 'loss': 2.707058906555176,\n",
      " 'precision': 1.0,\n",
      " 'recall': 1.0}\n"
     ]
    },
    {
     "name": "stderr",
     "output_type": "stream",
     "text": [
      "/opt/conda/Anaconda3/envs/pytorch_gpu/lib/python3.11/site-packages/torch/nn/modules/rnn.py:82: UserWarning: dropout option adds dropout after all but last recurrent layer, so non-zero dropout expects num_layers greater than 1, but got dropout=0.8 and num_layers=1\n",
      "  warnings.warn(\"dropout option adds dropout after all but last \"\n"
     ]
    },
    {
     "name": "stdout",
     "output_type": "stream",
     "text": [
      "Epoch 00411: reducing learning rate of group 0 to 5.0000e-04.\n",
      "Epoch 00471: reducing learning rate of group 0 to 2.5000e-04.\n",
      "Epoch 00561: reducing learning rate of group 0 to 1.2500e-04.\n",
      "Epoch 00612: reducing learning rate of group 0 to 1.0000e-04.\n",
      "86 PigAirwayPressure\n",
      "{'accuracy': 0.7788461538461539,\n",
      " 'duration': 36.47132635116577,\n",
      " 'f1': 0.6974358974358974,\n",
      " 'loss': 3.223372459411621,\n",
      " 'precision': 0.6506410256410255,\n",
      " 'recall': 0.7788461538461539}\n"
     ]
    },
    {
     "name": "stderr",
     "output_type": "stream",
     "text": [
      "/opt/conda/Anaconda3/envs/pytorch_gpu/lib/python3.11/site-packages/torch/nn/modules/rnn.py:82: UserWarning: dropout option adds dropout after all but last recurrent layer, so non-zero dropout expects num_layers greater than 1, but got dropout=0.8 and num_layers=1\n",
      "  warnings.warn(\"dropout option adds dropout after all but last \"\n"
     ]
    },
    {
     "name": "stdout",
     "output_type": "stream",
     "text": [
      "Epoch 00333: reducing learning rate of group 0 to 5.0000e-04.\n",
      "Epoch 00384: reducing learning rate of group 0 to 2.5000e-04.\n",
      "Epoch 00435: reducing learning rate of group 0 to 1.2500e-04.\n",
      "Epoch 00486: reducing learning rate of group 0 to 1.0000e-04.\n",
      "88 PigCVP\n",
      "{'accuracy': 0.9423076923076923,\n",
      " 'duration': 36.36503553390503,\n",
      " 'f1': 0.9269230769230768,\n",
      " 'loss': 3.049597978591919,\n",
      " 'precision': 0.9262820512820511,\n",
      " 'recall': 0.9423076923076923}\n"
     ]
    },
    {
     "name": "stderr",
     "output_type": "stream",
     "text": [
      "/opt/conda/Anaconda3/envs/pytorch_gpu/lib/python3.11/site-packages/torch/nn/modules/rnn.py:82: UserWarning: dropout option adds dropout after all but last recurrent layer, so non-zero dropout expects num_layers greater than 1, but got dropout=0.8 and num_layers=1\n",
      "  warnings.warn(\"dropout option adds dropout after all but last \"\n"
     ]
    },
    {
     "name": "stdout",
     "output_type": "stream",
     "text": [
      "Epoch 00249: reducing learning rate of group 0 to 5.0000e-04.\n",
      "Epoch 00300: reducing learning rate of group 0 to 2.5000e-04.\n",
      "Epoch 00351: reducing learning rate of group 0 to 1.2500e-04.\n",
      "Epoch 00402: reducing learning rate of group 0 to 1.0000e-04.\n",
      "90 PowerCons\n",
      "{'accuracy': 1.0,\n",
      " 'duration': 31.069352388381958,\n",
      " 'f1': 1.0,\n",
      " 'loss': 0.31331509351730347,\n",
      " 'precision': 1.0,\n",
      " 'recall': 1.0}\n"
     ]
    },
    {
     "name": "stderr",
     "output_type": "stream",
     "text": [
      "/opt/conda/Anaconda3/envs/pytorch_gpu/lib/python3.11/site-packages/torch/nn/modules/rnn.py:82: UserWarning: dropout option adds dropout after all but last recurrent layer, so non-zero dropout expects num_layers greater than 1, but got dropout=0.8 and num_layers=1\n",
      "  warnings.warn(\"dropout option adds dropout after all but last \"\n"
     ]
    },
    {
     "name": "stdout",
     "output_type": "stream",
     "text": [
      "Epoch 00222: reducing learning rate of group 0 to 5.0000e-04.\n",
      "Epoch 00300: reducing learning rate of group 0 to 2.5000e-04.\n",
      "Epoch 00351: reducing learning rate of group 0 to 1.2500e-04.\n",
      "Epoch 00442: reducing learning rate of group 0 to 1.0000e-04.\n",
      "92 ProximalPhalanxOutlineCorrect\n",
      "{'accuracy': 0.9816666666666667,\n",
      " 'duration': 92.18586325645447,\n",
      " 'f1': 0.9789658194566171,\n",
      " 'loss': 0.3446514159440994,\n",
      " 'precision': 0.9809713385988044,\n",
      " 'recall': 0.9770326545122137}\n"
     ]
    },
    {
     "name": "stderr",
     "output_type": "stream",
     "text": [
      "/opt/conda/Anaconda3/envs/pytorch_gpu/lib/python3.11/site-packages/torch/nn/modules/rnn.py:82: UserWarning: dropout option adds dropout after all but last recurrent layer, so non-zero dropout expects num_layers greater than 1, but got dropout=0.8 and num_layers=1\n",
      "  warnings.warn(\"dropout option adds dropout after all but last \"\n"
     ]
    },
    {
     "name": "stdout",
     "output_type": "stream",
     "text": [
      "Epoch 00075: reducing learning rate of group 0 to 5.0000e-04.\n",
      "Epoch 00126: reducing learning rate of group 0 to 2.5000e-04.\n",
      "Epoch 00177: reducing learning rate of group 0 to 1.2500e-04.\n",
      "Epoch 00228: reducing learning rate of group 0 to 1.0000e-04.\n",
      "94 RefrigerationDevices\n",
      "{'accuracy': 1.0,\n",
      " 'duration': 60.72419881820679,\n",
      " 'f1': 1.0,\n",
      " 'loss': 0.5515453914801279,\n",
      " 'precision': 1.0,\n",
      " 'recall': 1.0}\n"
     ]
    },
    {
     "name": "stderr",
     "output_type": "stream",
     "text": [
      "/opt/conda/Anaconda3/envs/pytorch_gpu/lib/python3.11/site-packages/torch/nn/modules/rnn.py:82: UserWarning: dropout option adds dropout after all but last recurrent layer, so non-zero dropout expects num_layers greater than 1, but got dropout=0.8 and num_layers=1\n",
      "  warnings.warn(\"dropout option adds dropout after all but last \"\n"
     ]
    },
    {
     "name": "stdout",
     "output_type": "stream",
     "text": [
      "Epoch 00059: reducing learning rate of group 0 to 5.0000e-04.\n",
      "Epoch 00110: reducing learning rate of group 0 to 2.5000e-04.\n",
      "Epoch 00161: reducing learning rate of group 0 to 1.2500e-04.\n",
      "Epoch 00212: reducing learning rate of group 0 to 1.0000e-04.\n",
      "96 ScreenType\n",
      "{'accuracy': 1.0,\n",
      " 'duration': 58.52479028701782,\n",
      " 'f1': 1.0,\n",
      " 'loss': 0.5516125361124674,\n",
      " 'precision': 1.0,\n",
      " 'recall': 1.0}\n"
     ]
    },
    {
     "name": "stderr",
     "output_type": "stream",
     "text": [
      "/opt/conda/Anaconda3/envs/pytorch_gpu/lib/python3.11/site-packages/torch/nn/modules/rnn.py:82: UserWarning: dropout option adds dropout after all but last recurrent layer, so non-zero dropout expects num_layers greater than 1, but got dropout=0.8 and num_layers=1\n",
      "  warnings.warn(\"dropout option adds dropout after all but last \"\n"
     ]
    },
    {
     "name": "stdout",
     "output_type": "stream",
     "text": [
      "Epoch 00137: reducing learning rate of group 0 to 5.0000e-04.\n",
      "Epoch 00225: reducing learning rate of group 0 to 2.5000e-04.\n",
      "Epoch 00276: reducing learning rate of group 0 to 1.2500e-04.\n",
      "Epoch 00327: reducing learning rate of group 0 to 1.0000e-04.\n",
      "98 SemgHandMovementCh2\n",
      "{'accuracy': 0.6622222222222223,\n",
      " 'duration': 92.90938568115234,\n",
      " 'f1': 0.6007467646271881,\n",
      " 'loss': 1.4638201892375946,\n",
      " 'precision': 0.5535448751402847,\n",
      " 'recall': 0.6622222222222223}\n"
     ]
    },
    {
     "name": "stderr",
     "output_type": "stream",
     "text": [
      "/opt/conda/Anaconda3/envs/pytorch_gpu/lib/python3.11/site-packages/torch/nn/modules/rnn.py:82: UserWarning: dropout option adds dropout after all but last recurrent layer, so non-zero dropout expects num_layers greater than 1, but got dropout=0.8 and num_layers=1\n",
      "  warnings.warn(\"dropout option adds dropout after all but last \"\n"
     ]
    },
    {
     "name": "stdout",
     "output_type": "stream",
     "text": [
      "Epoch 00164: reducing learning rate of group 0 to 5.0000e-04.\n",
      "Epoch 00215: reducing learning rate of group 0 to 2.5000e-04.\n",
      "Epoch 00266: reducing learning rate of group 0 to 1.2500e-04.\n",
      "Epoch 00317: reducing learning rate of group 0 to 1.0000e-04.\n",
      "100 ShakeGestureWiimoteZ\n",
      "{'accuracy': 1.0,\n",
      " 'duration': 10.976150274276733,\n",
      " 'f1': 1.0,\n",
      " 'loss': 1.4628289937973022,\n",
      " 'precision': 1.0,\n",
      " 'recall': 1.0}\n"
     ]
    },
    {
     "name": "stderr",
     "output_type": "stream",
     "text": [
      "/opt/conda/Anaconda3/envs/pytorch_gpu/lib/python3.11/site-packages/torch/nn/modules/rnn.py:82: UserWarning: dropout option adds dropout after all but last recurrent layer, so non-zero dropout expects num_layers greater than 1, but got dropout=0.8 and num_layers=1\n",
      "  warnings.warn(\"dropout option adds dropout after all but last \"\n"
     ]
    },
    {
     "name": "stdout",
     "output_type": "stream",
     "text": [
      "Epoch 00550: reducing learning rate of group 0 to 5.0000e-04.\n",
      "Epoch 00601: reducing learning rate of group 0 to 2.5000e-04.\n",
      "Epoch 00652: reducing learning rate of group 0 to 1.2500e-04.\n",
      "Epoch 00703: reducing learning rate of group 0 to 1.0000e-04.\n",
      "102 ShapesAll\n",
      "{'accuracy': 0.9833333333333333,\n",
      " 'duration': 93.13217091560364,\n",
      " 'f1': 0.976072840203275,\n",
      " 'loss': 3.1383689880371093,\n",
      " 'precision': 0.9704323454323454,\n",
      " 'recall': 0.9833333333333333}\n"
     ]
    },
    {
     "name": "stderr",
     "output_type": "stream",
     "text": [
      "/opt/conda/Anaconda3/envs/pytorch_gpu/lib/python3.11/site-packages/torch/nn/modules/rnn.py:82: UserWarning: dropout option adds dropout after all but last recurrent layer, so non-zero dropout expects num_layers greater than 1, but got dropout=0.8 and num_layers=1\n",
      "  warnings.warn(\"dropout option adds dropout after all but last \"\n"
     ]
    },
    {
     "name": "stdout",
     "output_type": "stream",
     "text": [
      "Epoch 00172: reducing learning rate of group 0 to 5.0000e-04.\n",
      "Epoch 00223: reducing learning rate of group 0 to 2.5000e-04.\n",
      "Epoch 00274: reducing learning rate of group 0 to 1.2500e-04.\n",
      "Epoch 00325: reducing learning rate of group 0 to 1.0000e-04.\n",
      "104 SmoothSubspace\n",
      "{'accuracy': 1.0,\n",
      " 'duration': 30.960397720336914,\n",
      " 'f1': 1.0,\n",
      " 'loss': 0.5514829754829407,\n",
      " 'precision': 1.0,\n",
      " 'recall': 1.0}\n"
     ]
    },
    {
     "name": "stderr",
     "output_type": "stream",
     "text": [
      "/opt/conda/Anaconda3/envs/pytorch_gpu/lib/python3.11/site-packages/torch/nn/modules/rnn.py:82: UserWarning: dropout option adds dropout after all but last recurrent layer, so non-zero dropout expects num_layers greater than 1, but got dropout=0.8 and num_layers=1\n",
      "  warnings.warn(\"dropout option adds dropout after all but last \"\n"
     ]
    },
    {
     "name": "stdout",
     "output_type": "stream",
     "text": [
      "Epoch 00581: reducing learning rate of group 0 to 5.0000e-04.\n",
      "Epoch 00632: reducing learning rate of group 0 to 2.5000e-04.\n",
      "Epoch 00683: reducing learning rate of group 0 to 1.2500e-04.\n",
      "Epoch 00734: reducing learning rate of group 0 to 1.0000e-04.\n",
      "106 SonyAIBORobotSurface2\n",
      "{'accuracy': 1.0,\n",
      " 'duration': 33.16176652908325,\n",
      " 'f1': 1.0,\n",
      " 'loss': 0.3132937550544739,\n",
      " 'precision': 1.0,\n",
      " 'recall': 1.0}\n"
     ]
    },
    {
     "name": "stderr",
     "output_type": "stream",
     "text": [
      "/opt/conda/Anaconda3/envs/pytorch_gpu/lib/python3.11/site-packages/torch/nn/modules/rnn.py:82: UserWarning: dropout option adds dropout after all but last recurrent layer, so non-zero dropout expects num_layers greater than 1, but got dropout=0.8 and num_layers=1\n",
      "  warnings.warn(\"dropout option adds dropout after all but last \"\n"
     ]
    },
    {
     "name": "stdout",
     "output_type": "stream",
     "text": [
      "Epoch 00320: reducing learning rate of group 0 to 5.0000e-04.\n",
      "Epoch 00371: reducing learning rate of group 0 to 2.5000e-04.\n",
      "Epoch 00422: reducing learning rate of group 0 to 1.2500e-04.\n",
      "Epoch 00473: reducing learning rate of group 0 to 1.0000e-04.\n",
      "108 Strawberry\n",
      "{'accuracy': 0.9885807504078303,\n",
      " 'duration': 97.21357035636902,\n",
      " 'f1': 0.9875800667452017,\n",
      " 'loss': 0.32557626366615294,\n",
      " 'precision': 0.9870922970159611,\n",
      " 'recall': 0.9880745427995271}\n"
     ]
    },
    {
     "name": "stderr",
     "output_type": "stream",
     "text": [
      "/opt/conda/Anaconda3/envs/pytorch_gpu/lib/python3.11/site-packages/torch/nn/modules/rnn.py:82: UserWarning: dropout option adds dropout after all but last recurrent layer, so non-zero dropout expects num_layers greater than 1, but got dropout=0.8 and num_layers=1\n",
      "  warnings.warn(\"dropout option adds dropout after all but last \"\n"
     ]
    },
    {
     "name": "stdout",
     "output_type": "stream",
     "text": [
      "110 Symbols\n",
      "{'accuracy': 1.0,\n",
      " 'duration': 35.013086557388306,\n",
      " 'f1': 1.0,\n",
      " 'loss': 1.0436968803405762,\n",
      " 'precision': 1.0,\n",
      " 'recall': 1.0}\n"
     ]
    },
    {
     "name": "stderr",
     "output_type": "stream",
     "text": [
      "/opt/conda/Anaconda3/envs/pytorch_gpu/lib/python3.11/site-packages/torch/nn/modules/rnn.py:82: UserWarning: dropout option adds dropout after all but last recurrent layer, so non-zero dropout expects num_layers greater than 1, but got dropout=0.8 and num_layers=1\n",
      "  warnings.warn(\"dropout option adds dropout after all but last \"\n"
     ]
    },
    {
     "name": "stdout",
     "output_type": "stream",
     "text": [
      "Epoch 00116: reducing learning rate of group 0 to 5.0000e-04.\n",
      "Epoch 00167: reducing learning rate of group 0 to 2.5000e-04.\n",
      "Epoch 00252: reducing learning rate of group 0 to 1.2500e-04.\n",
      "Epoch 00303: reducing learning rate of group 0 to 1.0000e-04.\n",
      "112 ToeSegmentation1\n",
      "{'accuracy': 1.0,\n",
      " 'duration': 15.530574798583984,\n",
      " 'f1': 1.0,\n",
      " 'loss': 0.31350672245025635,\n",
      " 'precision': 1.0,\n",
      " 'recall': 1.0}\n"
     ]
    },
    {
     "name": "stderr",
     "output_type": "stream",
     "text": [
      "/opt/conda/Anaconda3/envs/pytorch_gpu/lib/python3.11/site-packages/torch/nn/modules/rnn.py:82: UserWarning: dropout option adds dropout after all but last recurrent layer, so non-zero dropout expects num_layers greater than 1, but got dropout=0.8 and num_layers=1\n",
      "  warnings.warn(\"dropout option adds dropout after all but last \"\n"
     ]
    },
    {
     "name": "stdout",
     "output_type": "stream",
     "text": [
      "Epoch 00510: reducing learning rate of group 0 to 5.0000e-04.\n",
      "Epoch 00561: reducing learning rate of group 0 to 2.5000e-04.\n",
      "Epoch 00636: reducing learning rate of group 0 to 1.2500e-04.\n",
      "Epoch 00728: reducing learning rate of group 0 to 1.0000e-04.\n",
      "114 Trace\n",
      "{'accuracy': 1.0,\n",
      " 'duration': 21.753782510757446,\n",
      " 'f1': 1.0,\n",
      " 'loss': 0.7438637316226959,\n",
      " 'precision': 1.0,\n",
      " 'recall': 1.0}\n"
     ]
    },
    {
     "name": "stderr",
     "output_type": "stream",
     "text": [
      "/opt/conda/Anaconda3/envs/pytorch_gpu/lib/python3.11/site-packages/torch/nn/modules/rnn.py:82: UserWarning: dropout option adds dropout after all but last recurrent layer, so non-zero dropout expects num_layers greater than 1, but got dropout=0.8 and num_layers=1\n",
      "  warnings.warn(\"dropout option adds dropout after all but last \"\n"
     ]
    },
    {
     "name": "stdout",
     "output_type": "stream",
     "text": [
      "Epoch 00673: reducing learning rate of group 0 to 5.0000e-04.\n",
      "Epoch 00725: reducing learning rate of group 0 to 2.5000e-04.\n",
      "Epoch 00840: reducing learning rate of group 0 to 1.2500e-04.\n",
      "Epoch 00912: reducing learning rate of group 0 to 1.0000e-04.\n",
      "116 TwoPatterns\n",
      "{'accuracy': 1.0,\n",
      " 'duration': 217.40830898284912,\n",
      " 'f1': 1.0,\n",
      " 'loss': 0.7436686605215073,\n",
      " 'precision': 1.0,\n",
      " 'recall': 1.0}\n"
     ]
    },
    {
     "name": "stderr",
     "output_type": "stream",
     "text": [
      "/opt/conda/Anaconda3/envs/pytorch_gpu/lib/python3.11/site-packages/torch/nn/modules/rnn.py:82: UserWarning: dropout option adds dropout after all but last recurrent layer, so non-zero dropout expects num_layers greater than 1, but got dropout=0.8 and num_layers=1\n",
      "  warnings.warn(\"dropout option adds dropout after all but last \"\n"
     ]
    },
    {
     "name": "stdout",
     "output_type": "stream",
     "text": [
      "Epoch 00384: reducing learning rate of group 0 to 5.0000e-04.\n",
      "Epoch 00507: reducing learning rate of group 0 to 2.5000e-04.\n",
      "Epoch 00577: reducing learning rate of group 0 to 1.2500e-04.\n",
      "Epoch 00639: reducing learning rate of group 0 to 1.0000e-04.\n",
      "118 UWaveGestureLibraryAll\n",
      "{'accuracy': 1.0,\n",
      " 'duration': 221.63661527633667,\n",
      " 'f1': 1.0,\n",
      " 'loss': 1.2740148561341422,\n",
      " 'precision': 1.0,\n",
      " 'recall': 1.0}\n"
     ]
    },
    {
     "name": "stderr",
     "output_type": "stream",
     "text": [
      "/opt/conda/Anaconda3/envs/pytorch_gpu/lib/python3.11/site-packages/torch/nn/modules/rnn.py:82: UserWarning: dropout option adds dropout after all but last recurrent layer, so non-zero dropout expects num_layers greater than 1, but got dropout=0.8 and num_layers=1\n",
      "  warnings.warn(\"dropout option adds dropout after all but last \"\n"
     ]
    },
    {
     "name": "stdout",
     "output_type": "stream",
     "text": [
      "Epoch 00320: reducing learning rate of group 0 to 5.0000e-04.\n",
      "Epoch 00371: reducing learning rate of group 0 to 2.5000e-04.\n",
      "Epoch 00501: reducing learning rate of group 0 to 1.2500e-04.\n",
      "Epoch 00552: reducing learning rate of group 0 to 1.0000e-04.\n",
      "120 UWaveGestureLibraryY\n",
      "{'accuracy': 0.9821428571428571,\n",
      " 'duration': 193.98326182365417,\n",
      " 'f1': 0.9823071184225103,\n",
      " 'loss': 1.291984932763236,\n",
      " 'precision': 0.9825371399265443,\n",
      " 'recall': 0.98219483091641}\n"
     ]
    },
    {
     "name": "stderr",
     "output_type": "stream",
     "text": [
      "/opt/conda/Anaconda3/envs/pytorch_gpu/lib/python3.11/site-packages/torch/nn/modules/rnn.py:82: UserWarning: dropout option adds dropout after all but last recurrent layer, so non-zero dropout expects num_layers greater than 1, but got dropout=0.8 and num_layers=1\n",
      "  warnings.warn(\"dropout option adds dropout after all but last \"\n"
     ]
    },
    {
     "name": "stdout",
     "output_type": "stream",
     "text": [
      "Epoch 00267: reducing learning rate of group 0 to 5.0000e-04.\n",
      "Epoch 00318: reducing learning rate of group 0 to 2.5000e-04.\n",
      "Epoch 00369: reducing learning rate of group 0 to 1.2500e-04.\n",
      "Epoch 00420: reducing learning rate of group 0 to 1.0000e-04.\n",
      "122 Wafer\n",
      "{'accuracy': 1.0,\n",
      " 'duration': 272.2487437725067,\n",
      " 'f1': 1.0,\n",
      " 'loss': 0.3132620621472597,\n",
      " 'precision': 1.0,\n",
      " 'recall': 1.0}\n"
     ]
    },
    {
     "name": "stderr",
     "output_type": "stream",
     "text": [
      "/opt/conda/Anaconda3/envs/pytorch_gpu/lib/python3.11/site-packages/torch/nn/modules/rnn.py:82: UserWarning: dropout option adds dropout after all but last recurrent layer, so non-zero dropout expects num_layers greater than 1, but got dropout=0.8 and num_layers=1\n",
      "  warnings.warn(\"dropout option adds dropout after all but last \"\n"
     ]
    },
    {
     "name": "stdout",
     "output_type": "stream",
     "text": [
      "Epoch 00308: reducing learning rate of group 0 to 5.0000e-04.\n",
      "Epoch 00455: reducing learning rate of group 0 to 2.5000e-04.\n",
      "Epoch 00506: reducing learning rate of group 0 to 1.2500e-04.\n",
      "Epoch 00557: reducing learning rate of group 0 to 1.0000e-04.\n",
      "124 WordSynonyms\n",
      "{'accuracy': 0.9850187265917603,\n",
      " 'duration': 54.585437059402466,\n",
      " 'f1': 0.9822725960907781,\n",
      " 'loss': 2.3028103828430178,\n",
      " 'precision': 0.9879791829300026,\n",
      " 'recall': 0.9805238095238096}\n"
     ]
    },
    {
     "name": "stderr",
     "output_type": "stream",
     "text": [
      "/opt/conda/Anaconda3/envs/pytorch_gpu/lib/python3.11/site-packages/torch/nn/modules/rnn.py:82: UserWarning: dropout option adds dropout after all but last recurrent layer, so non-zero dropout expects num_layers greater than 1, but got dropout=0.8 and num_layers=1\n",
      "  warnings.warn(\"dropout option adds dropout after all but last \"\n"
     ]
    },
    {
     "name": "stdout",
     "output_type": "stream",
     "text": [
      "Epoch 00173: reducing learning rate of group 0 to 5.0000e-04.\n",
      "Epoch 00224: reducing learning rate of group 0 to 2.5000e-04.\n",
      "Epoch 00275: reducing learning rate of group 0 to 1.2500e-04.\n",
      "Epoch 00326: reducing learning rate of group 0 to 1.0000e-04.\n",
      "126 WormsTwoClass\n",
      "{'accuracy': 1.0,\n",
      " 'duration': 29.94684410095215,\n",
      " 'f1': 1.0,\n",
      " 'loss': 0.31374040246009827,\n",
      " 'precision': 1.0,\n",
      " 'recall': 1.0}\n"
     ]
    }
   ],
   "source": [
    "from CODE.Train.lstm_fcn import *\n",
    "\n",
    "for i, i_dataset in enumerate(UNIVARIATE_DATASET_NAMES):\n",
    "    if i % 2 == 0:\n",
    "        trainer = Trainer(dataset=i_dataset, epoch=1000, model=LSTMFCN, unbais=True)\n",
    "        trainer.train_and_evaluate(to_device=True, override=False)\n",
    "        try:\n",
    "            print(i, i_dataset)\n",
    "            pprint(trainer.train_result)\n",
    "        except AttributeError:\n",
    "            pass"
   ]
  },
  {
   "cell_type": "code",
   "execution_count": 7,
   "metadata": {},
   "outputs": [
    {
     "name": "stderr",
     "output_type": "stream",
     "text": [
      "/opt/conda/Anaconda3/envs/pytorch_gpu/lib/python3.11/site-packages/torch/nn/modules/rnn.py:82: UserWarning: dropout option adds dropout after all but last recurrent layer, so non-zero dropout expects num_layers greater than 1, but got dropout=0.8 and num_layers=1\n",
      "  warnings.warn(\"dropout option adds dropout after all but last \"\n"
     ]
    }
   ],
   "source": [
    "from CODE.Train.lstm_fcn import *\n",
    "\n",
    "trainer = Trainer(\n",
    "    dataset=UNIVARIATE_DATASET_NAMES[0], epoch=1000, model=LSTMFCN, unbais=True\n",
    ")\n",
    "concat_metrics_train(mode=\"train\", method=trainer.method_path)\n",
    "concat_metrics_train(mode=\"test\", method=trainer.method_path)"
   ]
  }
 ],
 "metadata": {
  "kernelspec": {
   "display_name": "pytorch_gpu",
   "language": "python",
   "name": "python3"
  },
  "language_info": {
   "codemirror_mode": {
    "name": "ipython",
    "version": 3
   },
   "file_extension": ".py",
   "mimetype": "text/x-python",
   "name": "python",
   "nbconvert_exporter": "python",
   "pygments_lexer": "ipython3",
   "version": "3.11.5"
  }
 },
 "nbformat": 4,
 "nbformat_minor": 2
}
