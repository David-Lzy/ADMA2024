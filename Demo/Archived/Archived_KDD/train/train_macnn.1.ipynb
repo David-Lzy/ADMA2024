{
    " ": {
        "kernelspec": {
            "display_name": "pytorch_gpu",
            "language": "python",
            "name": "python3"
        },
        "language_info": {
            "codemirror_mode": {
                "name": "ipython",
                "other": "python3",
                "version": 3
            },
            "file_extension": ".py",
            "mimetype": "text/x-python",
            "name": "python",
            "nbconvert_exporter": "python",
            "pygments_lexer": "ipython3",
            "version": "3.11.5"
        }
    },
    "cells": [
        {
            "cell_type": "code",
            "execution_count": 1,
            "metadata": {},
            "outputs": [
                {
                    "name": "stdout",
                    "output_type": "stream",
                    "text": [
                        "HOME_LOC: /Project/Project/KDD2024/v0.4\n",
                        "pwd: /Project/Project/KDD2024/v0.4/CODE/Demo/train\n"
                    ]
                }
            ],
            "source": [
                "import sys\n",
                "import os\n",
                "__file__ = %pwd\n",
                "sys.path.append(os.path.dirname(os.path.dirname(__file__)))\n",
                "from __init__ import *\n",
                "print('pwd:', __file__)"
            ]
        },
        {
            "cell_type": "code",
            "execution_count": 2,
            "metadata": {},
            "outputs": [
                {
                    "name": "stderr",
                    "output_type": "stream",
                    "text": [
                        "/opt/conda/Anaconda3/envs/pytorch_gpu/lib/python3.11/site-packages/torch/nn/modules/conv.py:306: UserWarning: Using padding='same' with even kernel lengths and odd dilation may require a zero-padded copy of the input be created (Triggered internally at /opt/conda/conda-bld/pytorch_1695392035891/work/aten/src/ATen/native/Convolution.cpp:1008.)\n",
                        "  return F.conv1d(input, weight, bias, self.stride,\n"
                    ]
                },
                {
                    "name": "stdout",
                    "output_type": "stream",
                    "text": [
                        "0 ACSF1\n",
                        "{'accuracy': 0.92,\n",
                        " 'duration': 19.73554825782776,\n",
                        " 'f1': 0.9205655442955214,\n",
                        " 'loss': 1.5481829047203064,\n",
                        " 'precision': 0.9265190365190366,\n",
                        " 'recall': 0.9199999999999999}\n"
                    ]
                }
            ],
            "source": [
                "from CODE.Train.macnn import *\n",
                "\n",
                "for i, i_dataset in enumerate(UNIVARIATE_DATASET_NAMES):\n",
                "    trainer = Trainer(\n",
                "        dataset=i_dataset, epoch=1500, model=Classifier_MACNN, unbais=True\n",
                "    )\n",
                "    trainer.optimizer = torch.optim.Adam(trainer.model.parameters(), lr=1e-4)\n",
                "    trainer.train_and_evaluate(to_device=True, override=True)\n",
                "    try:\n",
                "        print(i, i_dataset)\n",
                "        pprint(trainer.train_result)\n",
                "    except AttributeError:\n",
                "        pass"
            ]
        },
        {
            "cell_type": "code",
            "execution_count": 3,
            "metadata": {},
            "outputs": [
                {
                    "name": "stderr",
                    "output_type": "stream",
                    "text": [
                        "/opt/conda/Anaconda3/envs/pytorch_gpu/lib/python3.11/site-packages/torch/nn/modules/rnn.py:82: UserWarning: dropout option adds dropout after all but last recurrent layer, so non-zero dropout expects num_layers greater than 1, but got dropout=0.8 and num_layers=1\n",
                        "  warnings.warn(\"dropout option adds dropout after all but last \"\n"
                    ]
                }
            ],
            "source": [
                "from CODE.Train.lstm_fcn import *\n",
                "\n",
                "trainer = Trainer(\n",
                "    dataset=UNIVARIATE_DATASET_NAMES[0], epoch=1000, model=LSTMFCN, unbais=True\n",
                ")\n",
                "concat_metrics_train(mode=\"train\", method=trainer.method_path)\n",
                "concat_metrics_train(mode=\"test\", method=trainer.method_path)"
            ]
        }
    ],
    "metadata": {
        "kernelspec": {
            "display_name": "pytorch_gpu",
            "language": "python",
            "name": "python3"
        },
        "language_info": {
            "name": "python",
            "version": "3.11.5"
        }
    },
    "nbformat": 4,
    "nbformat_minor": 2
}
