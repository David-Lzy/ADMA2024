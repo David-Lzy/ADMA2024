{
 "cells": [
  {
   "cell_type": "code",
   "execution_count": 1,
   "metadata": {},
   "outputs": [
    {
     "name": "stdout",
     "output_type": "stream",
     "text": [
      "HOME_LOC: /Project/Project/KDD2024/v0.4\n"
     ]
    }
   ],
   "source": [
    "import sys\n",
    "import os\n",
    "__file__ = %pwd\n",
    "def parent_dir(path, n):\n",
    "    for _ in range(n):\n",
    "        path = os.path.dirname(path)\n",
    "    return path\n",
    "sys.path.append(parent_dir(__file__, 2))\n",
    "from __init__ import *"
   ]
  },
  {
   "cell_type": "code",
   "execution_count": 2,
   "metadata": {},
   "outputs": [],
   "source": [
    "from CODE.Train.inception_time import *\n",
    "from CODE.Attack.mix import Mix"
   ]
  },
  {
   "cell_type": "code",
   "execution_count": 3,
   "metadata": {},
   "outputs": [],
   "source": [
    "trainer = Trainer(\n",
    "    dataset=UNIVARIATE_DATASET_NAMES[0],\n",
    "    epoch=100,\n",
    "    model=Classifier_INCEPTION,\n",
    "    unbais=True,\n",
    ")\n",
    "trainer_method_path = trainer.method_path\n",
    "del trainer"
   ]
  },
  {
   "cell_type": "code",
   "execution_count": 8,
   "metadata": {},
   "outputs": [],
   "source": [
    "attacker = Mix(\n",
    "    dataset=\"ShapesAll\",\n",
    "    model=Classifier_INCEPTION,\n",
    "    batch_size=64,\n",
    "    train_method_path=trainer_method_path,\n",
    "    eps_init=0.01,\n",
    "    kl_loss=3,\n",
    "    path_parameter=os.path.join(\"ce_kl_mix_attack\"),\n",
    "    device=\"cuda:0\",\n",
    ")\n",
    "attacker.perturb_all(\n",
    "    to_device=False,\n",
    "    override=False,\n",
    ")"
   ]
  },
  {
   "cell_type": "code",
   "execution_count": 10,
   "metadata": {},
   "outputs": [
    {
     "data": {
      "text/plain": [
       "False"
      ]
     },
     "execution_count": 10,
     "metadata": {},
     "output_type": "execute_result"
    },
    {
     "ename": "",
     "evalue": "",
     "output_type": "error",
     "traceback": [
      "\u001b[1;31mThe Kernel crashed while executing code in the the current cell or a previous cell. Please review the code in the cell(s) to identify a possible cause of the failure. Click <a href='https://aka.ms/vscodeJupyterKernelCrash'>here</a> for more info. View Jupyter <a href='command:jupyter.viewOutput'>log</a> for further details."
     ]
    }
   ],
   "source": [
    "3 == True"
   ]
  },
  {
   "cell_type": "code",
   "execution_count": 7,
   "metadata": {},
   "outputs": [
    {
     "data": {
      "text/plain": [
       "{'ASR': 0.7833333333333333,\n",
       " 'mean_success_distance': 3.5829818,\n",
       " 'mean_failure_distance': 3.5801795,\n",
       " 'overall_mean_distance': 3.582375,\n",
       " 'Count_Success': 470,\n",
       " 'Count_Fail': 130,\n",
       " 'duration': 496.02573323249817}"
      ]
     },
     "execution_count": 7,
     "metadata": {},
     "output_type": "execute_result"
    }
   ],
   "source": [
    "attacker.data"
   ]
  }
 ],
 "metadata": {
  "kernelspec": {
   "display_name": "pytorch_gpu",
   "language": "python",
   "name": "python3"
  },
  "language_info": {
   "codemirror_mode": {
    "name": "ipython",
    "version": 3
   },
   "file_extension": ".py",
   "mimetype": "text/x-python",
   "name": "python",
   "nbconvert_exporter": "python",
   "pygments_lexer": "ipython3",
   "version": "3.11.5"
  }
 },
 "nbformat": 4,
 "nbformat_minor": 2
}
