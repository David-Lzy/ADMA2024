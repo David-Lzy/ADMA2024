{
 "cells": [
  {
   "cell_type": "code",
   "execution_count": 1,
   "metadata": {},
   "outputs": [
    {
     "name": "stdout",
     "output_type": "stream",
     "text": [
      "HOME_LOC: /Project/Project/KDD2024/v0.4\n"
     ]
    }
   ],
   "source": [
    "import sys\n",
    "import os\n",
    "\n",
    "\n",
    "def parent_dir(path, n):\n",
    "    for _ in range(n):\n",
    "        path = os.path.dirname(path)\n",
    "    return path\n",
    "\n",
    "__file__ = %pwd\n",
    "sys.path.append(parent_dir(__file__, 2))\n",
    "from __init__ import *"
   ]
  },
  {
   "cell_type": "code",
   "execution_count": 2,
   "metadata": {},
   "outputs": [
    {
     "name": "stderr",
     "output_type": "stream",
     "text": [
      "/opt/conda/Anaconda3/envs/pytorch_gpu/lib/python3.11/site-packages/torch/nn/modules/rnn.py:82: UserWarning: dropout option adds dropout after all but last recurrent layer, so non-zero dropout expects num_layers greater than 1, but got dropout=0.8 and num_layers=1\n",
      "  warnings.warn(\"dropout option adds dropout after all but last \"\n"
     ]
    }
   ],
   "source": [
    "from CODE.Train.lstm_fcn import *\n",
    "\n",
    "trainer = Trainer(\n",
    "    dataset=UNIVARIATE_DATASET_NAMES[0], epoch=100, model=LSTMFCN, unbais=True\n",
    ")\n",
    "# trainer.train_and_evaluate(to_device=True, override=True)\n",
    "# pprint(trainer.train_result)"
   ]
  },
  {
   "cell_type": "code",
   "execution_count": 3,
   "metadata": {},
   "outputs": [],
   "source": [
    "torch.backends.cudnn.enabled = False\n",
    "keys = []\n",
    "for k in sys.modules.keys():\n",
    "    if \"CODE.Attack.mix\" in k:\n",
    "        print(k)\n",
    "        keys.append(k)\n",
    "for k in keys:\n",
    "    del sys.modules[k]\n",
    "\n",
    "from CODE.Attack.mix import Mix\n",
    "\n",
    "model_class = Mix"
   ]
  },
  {
   "cell_type": "code",
   "execution_count": 4,
   "metadata": {},
   "outputs": [
    {
     "name": "stderr",
     "output_type": "stream",
     "text": [
      "/opt/conda/Anaconda3/envs/pytorch_gpu/lib/python3.11/site-packages/torch/nn/modules/rnn.py:82: UserWarning: dropout option adds dropout after all but last recurrent layer, so non-zero dropout expects num_layers greater than 1, but got dropout=0.8 and num_layers=1\n",
      "  warnings.warn(\"dropout option adds dropout after all but last \"\n",
      "/opt/conda/Anaconda3/envs/pytorch_gpu/lib/python3.11/site-packages/torch/nn/modules/conv.py:306: UserWarning: Using padding='same' with even kernel lengths and odd dilation may require a zero-padded copy of the input be created (Triggered internally at /opt/conda/conda-bld/pytorch_1695392035891/work/aten/src/ATen/native/Convolution.cpp:1008.)\n",
      "  return F.conv1d(input, weight, bias, self.stride,\n"
     ]
    },
    {
     "data": {
      "text/plain": [
       "{'ASR': 0.23,\n",
       " 'mean_success_distance': 0.09035436,\n",
       " 'mean_failure_distance': 0.13815743,\n",
       " 'overall_mean_distance': 0.12716272,\n",
       " 'Count_Success': 23,\n",
       " 'Count_Fail': 77,\n",
       " 'duration': 1.0243651866912842}"
      ]
     },
     "execution_count": 4,
     "metadata": {},
     "output_type": "execute_result"
    }
   ],
   "source": [
    "attacker = model_class(\n",
    "    dataset=\"ACSF1\",\n",
    "    batch_size=128,\n",
    "    epoch=10,\n",
    "    swap=True,\n",
    "    kl_loss=True,\n",
    "    CW=True,\n",
    "    model=LSTMFCN,\n",
    "    train_method_path=trainer.method_path,\n",
    "    make_demo=True,\n",
    ")\n",
    "attacker.perturb_all(\n",
    "    to_device=True,\n",
    "    override=True,\n",
    ")\n",
    "attacker.data"
   ]
  },
  {
   "cell_type": "code",
   "execution_count": 5,
   "metadata": {},
   "outputs": [
    {
     "name": "stdout",
     "output_type": "stream",
     "text": [
      "Attack success shape: (100, 10)\n",
      "x_adv shape: (100, 1, 1460)\n",
      "x shape: (100, 1, 1460)\n"
     ]
    },
    {
     "ename": "IndexError",
     "evalue": "boolean index did not match indexed array along dimension 1; dimension is 1 but corresponding boolean dimension is 10",
     "output_type": "error",
     "traceback": [
      "\u001b[0;31m---------------------------------------------------------------------------\u001b[0m",
      "\u001b[0;31mIndexError\u001b[0m                                Traceback (most recent call last)",
      "Cell \u001b[0;32mIn[5], line 1\u001b[0m\n\u001b[0;32m----> 1\u001b[0m \u001b[43mattacker\u001b[49m\u001b[38;5;241;43m.\u001b[39;49m\u001b[43maggregate_epoch_data\u001b[49m\u001b[43m(\u001b[49m\u001b[43m)\u001b[49m\n",
      "File \u001b[0;32m/Project/Project/KDD2024/v0.4/CODE/Attack/attacker.py:294\u001b[0m, in \u001b[0;36mAttack.aggregate_epoch_data\u001b[0;34m(self)\u001b[0m\n\u001b[1;32m    291\u001b[0m distances \u001b[38;5;241m=\u001b[39m np\u001b[38;5;241m.\u001b[39msum((x_adv \u001b[38;5;241m-\u001b[39m x) \u001b[38;5;241m*\u001b[39m\u001b[38;5;241m*\u001b[39m \u001b[38;5;241m2\u001b[39m, axis\u001b[38;5;241m=\u001b[39m\u001b[38;5;241m-\u001b[39m\u001b[38;5;241m1\u001b[39m)  \u001b[38;5;66;03m# 对最后一个维度求和\u001b[39;00m\n\u001b[1;32m    293\u001b[0m aggregated[\u001b[38;5;124m\"\u001b[39m\u001b[38;5;124mOverall_Mean_L2\u001b[39m\u001b[38;5;124m\"\u001b[39m] \u001b[38;5;241m+\u001b[39m\u001b[38;5;241m=\u001b[39m np\u001b[38;5;241m.\u001b[39msum(distances)\n\u001b[0;32m--> 294\u001b[0m aggregated[\u001b[38;5;124m\"\u001b[39m\u001b[38;5;124mMean_Success_L2\u001b[39m\u001b[38;5;124m\"\u001b[39m] \u001b[38;5;241m+\u001b[39m\u001b[38;5;241m=\u001b[39m np\u001b[38;5;241m.\u001b[39msum(\u001b[43mdistances\u001b[49m\u001b[43m[\u001b[49m\u001b[43mattack_success\u001b[49m\u001b[43m]\u001b[49m)\n\u001b[1;32m    295\u001b[0m aggregated[\u001b[38;5;124m\"\u001b[39m\u001b[38;5;124mMean_Failure_L2\u001b[39m\u001b[38;5;124m\"\u001b[39m] \u001b[38;5;241m+\u001b[39m\u001b[38;5;241m=\u001b[39m np\u001b[38;5;241m.\u001b[39msum(distances[\u001b[38;5;241m~\u001b[39mattack_success])\n\u001b[1;32m    297\u001b[0m \u001b[38;5;66;03m# 更新总样本数\u001b[39;00m\n",
      "\u001b[0;31mIndexError\u001b[0m: boolean index did not match indexed array along dimension 1; dimension is 1 but corresponding boolean dimension is 10"
     ]
    }
   ],
   "source": [
    "attacker.aggregate_epoch_data()"
   ]
  },
  {
   "cell_type": "code",
   "execution_count": 1,
   "metadata": {},
   "outputs": [
    {
     "data": {
      "text/plain": [
       "0"
      ]
     },
     "execution_count": 1,
     "metadata": {},
     "output_type": "execute_result"
    }
   ],
   "source": [
    "2 % 1"
   ]
  }
 ],
 "metadata": {
  "kernelspec": {
   "display_name": "pytorch_gpu",
   "language": "python",
   "name": "python3"
  },
  "language_info": {
   "codemirror_mode": {
    "name": "ipython",
    "version": 3
   },
   "file_extension": ".py",
   "mimetype": "text/x-python",
   "name": "python",
   "nbconvert_exporter": "python",
   "pygments_lexer": "ipython3",
   "version": "3.11.5"
  }
 },
 "nbformat": 4,
 "nbformat_minor": 2
}
