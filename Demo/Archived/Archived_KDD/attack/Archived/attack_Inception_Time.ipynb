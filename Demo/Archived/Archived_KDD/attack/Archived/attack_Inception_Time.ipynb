{
 "cells": [
  {
   "cell_type": "code",
   "execution_count": 1,
   "metadata": {},
   "outputs": [
    {
     "name": "stdout",
     "output_type": "stream",
     "text": [
      "HOME_LOC: /Project/Project/KDD2024/v0.4\n"
     ]
    }
   ],
   "source": [
    "import sys\n",
    "import os\n",
    "__file__ = %pwd\n",
    "\n",
    "def parent_dir(path, n):\n",
    "    for _ in range(n):\n",
    "        path = os.path.dirname(path)\n",
    "    return path\n",
    "\n",
    "sys.path.append(parent_dir(__file__, 3))\n",
    "from __init__ import *"
   ]
  },
  {
   "cell_type": "code",
   "execution_count": null,
   "metadata": {},
   "outputs": [],
   "source": [
    "import sys\n",
    "import os\n",
    "\n",
    "sys.path.append(os.path.dirname(os.path.dirname(os.path.dirname(__file__))))\n",
    "from __init__ import *\n",
    "from CODE.Train.inception_time import *\n",
    "from CODE.Attack.mix import Mix\n",
    "\n",
    "logging.getLogger().setLevel(logging.INFO)\n",
    "trainer = Trainer(\n",
    "    dataset=UNIVARIATE_DATASET_NAMES[0],\n",
    "    epoch=100,\n",
    "    model=Classifier_INCEPTION,\n",
    "    unbais=True,\n",
    ")\n",
    "trainer_method_path = trainer.method_path\n",
    "del trainer\n",
    "# torch.backends.cudnn.enabled = False\n",
    "\n",
    "\n",
    "for j in range(1, 4):\n",
    "    for name, i_parameter_dict in ATTACK_METHODS.items():\n",
    "        print(j, name, i_parameter_dict)\n",
    "        for i, dataset in enumerate(UNIVARIATE_DATASET_NAMES):\n",
    "            if i % 2 == 1:\n",
    "                continue\n",
    "            attacker = Mix(\n",
    "                dataset=dataset,\n",
    "                model=Classifier_INCEPTION,\n",
    "                batch_size=64,\n",
    "                train_method_path=trainer_method_path,\n",
    "                eps_init=0.01,\n",
    "                **i_parameter_dict,\n",
    "                path_parameter=os.path.join(name, f\"run_{j}\"),\n",
    "                device=\"cuda:0\",\n",
    "            )\n",
    "            attacker.perturb_all(\n",
    "                to_device=True,\n",
    "                override=True,\n",
    "            )\n",
    "            attack_method = os.path.join(\n",
    "                trainer_method_path, attacker.attack_method_path\n",
    "            )\n",
    "        concat_metrics_attack(method=attack_method, datasets=UNIVARIATE_DATASET_NAMES)"
   ]
  }
 ],
 "metadata": {
  "kernelspec": {
   "display_name": "pytorch_gpu",
   "language": "python",
   "name": "python3"
  },
  "language_info": {
   "codemirror_mode": {
    "name": "ipython",
    "version": 3
   },
   "file_extension": ".py",
   "mimetype": "text/x-python",
   "name": "python",
   "nbconvert_exporter": "python",
   "pygments_lexer": "ipython3",
   "version": "3.11.5"
  }
 },
 "nbformat": 4,
 "nbformat_minor": 2
}
