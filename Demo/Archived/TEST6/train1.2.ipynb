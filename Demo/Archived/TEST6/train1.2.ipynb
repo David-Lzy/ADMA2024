{
 "cells": [
  {
   "cell_type": "code",
   "execution_count": 1,
   "metadata": {},
   "outputs": [
    {
     "name": "stdout",
     "output_type": "stream",
     "text": [
      "HOME_LOC: /homes/David_Li/Mega/University_of_Adelaide/Works/Project/CorrelationV0.1\n",
      "pwd: /homes/David_Li/Mega/University_of_Adelaide/Works/Project/CorrelationV0.1/CODE/Demo/TEST6\n"
     ]
    }
   ],
   "source": [
    "import sys\n",
    "import os\n",
    "__file__ = %pwd\n",
    "sys.path.append(os.path.dirname(os.path.dirname(__file__)))\n",
    "from __init__ import *\n",
    "print('pwd:', __file__)\n",
    "logger.setLevel(logging.INFO)"
   ]
  },
  {
   "cell_type": "code",
   "execution_count": 2,
   "metadata": {},
   "outputs": [
    {
     "data": {
      "text/plain": [
       "device(type='cuda', index=0)"
      ]
     },
     "execution_count": 2,
     "metadata": {},
     "output_type": "execute_result"
    }
   ],
   "source": [
    "DEVICE = torch.device(\"cuda:0\" if torch.cuda.is_available() else \"cpu\")\n",
    "DEVICE"
   ]
  },
  {
   "cell_type": "code",
   "execution_count": 3,
   "metadata": {},
   "outputs": [],
   "source": [
    "part_DATASETs = UNIVARIATE_DATASET_NAMES\n",
    "from CODE.Train.correlated_inception_time import *\n",
    "\n",
    "model_class = try7_c_Classfier"
   ]
  },
  {
   "cell_type": "code",
   "execution_count": 6,
   "metadata": {},
   "outputs": [
    {
     "name": "stdout",
     "output_type": "stream",
     "text": [
      "Epoch 00255: reducing learning rate of group 0 to 5.0000e-04.\n",
      "Epoch 00323: reducing learning rate of group 0 to 2.5000e-04.\n",
      "Epoch 00374: reducing learning rate of group 0 to 1.2500e-04.\n",
      "Epoch 00495: reducing learning rate of group 0 to 1.0000e-04.\n"
     ]
    },
    {
     "ename": "KeyboardInterrupt",
     "evalue": "",
     "output_type": "error",
     "traceback": [
      "\u001b[0;31m---------------------------------------------------------------------------\u001b[0m",
      "\u001b[0;31mKeyboardInterrupt\u001b[0m                         Traceback (most recent call last)",
      "Cell \u001b[0;32mIn[6], line 6\u001b[0m\n\u001b[1;32m      4\u001b[0m trainer \u001b[38;5;241m=\u001b[39m Trainer(dataset\u001b[38;5;241m=\u001b[39mi_dataset, epoch\u001b[38;5;241m=\u001b[39m\u001b[38;5;241m1000\u001b[39m, model\u001b[38;5;241m=\u001b[39mmodel_class)\n\u001b[1;32m      5\u001b[0m \u001b[38;5;28;01mtry\u001b[39;00m:\n\u001b[0;32m----> 6\u001b[0m     \u001b[43mtrainer\u001b[49m\u001b[38;5;241;43m.\u001b[39;49m\u001b[43mtrain_and_evaluate\u001b[49m\u001b[43m(\u001b[49m\u001b[43mto_device\u001b[49m\u001b[38;5;241;43m=\u001b[39;49m\u001b[38;5;28;43;01mTrue\u001b[39;49;00m\u001b[43m,\u001b[49m\u001b[43m \u001b[49m\u001b[43moverride\u001b[49m\u001b[38;5;241;43m=\u001b[39;49m\u001b[38;5;28;43;01mTrue\u001b[39;49;00m\u001b[43m)\u001b[49m\n\u001b[1;32m      7\u001b[0m     \u001b[38;5;28mprint\u001b[39m(i, i_dataset)\n\u001b[1;32m      8\u001b[0m     pprint(trainer\u001b[38;5;241m.\u001b[39mtrain_result)\n",
      "File \u001b[0;32m/homes/David_Li/Mega/University_of_Adelaide/Works/Project/CorrelationV0.1/CODE/Train/trainer.py:232\u001b[0m, in \u001b[0;36mTrainer.train_and_evaluate\u001b[0;34m(self, override, to_device)\u001b[0m\n\u001b[1;32m    230\u001b[0m last_saved_time \u001b[38;5;241m=\u001b[39m start_time\n\u001b[1;32m    231\u001b[0m \u001b[38;5;28;01mfor\u001b[39;00m epoch \u001b[38;5;129;01min\u001b[39;00m \u001b[38;5;28mrange\u001b[39m(start_epoch, \u001b[38;5;28mself\u001b[39m\u001b[38;5;241m.\u001b[39mepoch \u001b[38;5;241m+\u001b[39m \u001b[38;5;241m1\u001b[39m):\n\u001b[0;32m--> 232\u001b[0m     \u001b[38;5;28;43mself\u001b[39;49m\u001b[38;5;241;43m.\u001b[39;49m\u001b[43m__train_one_epoch__\u001b[49m\u001b[43m(\u001b[49m\u001b[43m)\u001b[49m\n\u001b[1;32m    233\u001b[0m     last_saved_time \u001b[38;5;241m=\u001b[39m \u001b[38;5;28mself\u001b[39m\u001b[38;5;241m.\u001b[39m__save_check_point__(\n\u001b[1;32m    234\u001b[0m         epoch,\n\u001b[1;32m    235\u001b[0m         start_time,\n\u001b[0;32m   (...)\u001b[0m\n\u001b[1;32m    239\u001b[0m         to_device,\n\u001b[1;32m    240\u001b[0m     )\n\u001b[1;32m    242\u001b[0m     \u001b[38;5;66;03m# Evaluation Phase\u001b[39;00m\n",
      "File \u001b[0;32m/homes/David_Li/Mega/University_of_Adelaide/Works/Project/CorrelationV0.1/CODE/Train/trainer.py:350\u001b[0m, in \u001b[0;36mTrainer.__train_one_epoch__\u001b[0;34m(self)\u001b[0m\n\u001b[1;32m    348\u001b[0m loss\u001b[38;5;241m.\u001b[39mbackward()\n\u001b[1;32m    349\u001b[0m \u001b[38;5;28mself\u001b[39m\u001b[38;5;241m.\u001b[39moptimizer\u001b[38;5;241m.\u001b[39mstep()\n\u001b[0;32m--> 350\u001b[0m train_loss \u001b[38;5;241m+\u001b[39m\u001b[38;5;241m=\u001b[39m \u001b[43mloss\u001b[49m\u001b[38;5;241;43m.\u001b[39;49m\u001b[43mitem\u001b[49m\u001b[43m(\u001b[49m\u001b[43m)\u001b[49m\n\u001b[1;32m    351\u001b[0m train_preds\u001b[38;5;241m.\u001b[39mextend(predictions\u001b[38;5;241m.\u001b[39margmax(dim\u001b[38;5;241m=\u001b[39m\u001b[38;5;241m1\u001b[39m)\u001b[38;5;241m.\u001b[39mcpu()\u001b[38;5;241m.\u001b[39mnumpy())\n\u001b[1;32m    352\u001b[0m train_targets\u001b[38;5;241m.\u001b[39mextend(y_batch\u001b[38;5;241m.\u001b[39mcpu()\u001b[38;5;241m.\u001b[39mnumpy())\n",
      "\u001b[0;31mKeyboardInterrupt\u001b[0m: "
     ]
    }
   ],
   "source": [
    "for i, i_dataset in enumerate(part_DATASETs):\n",
    "    if i % 2 == 1:\n",
    "        continue\n",
    "    trainer = Trainer(dataset=i_dataset, epoch=1000, model=model_class)\n",
    "    try:\n",
    "        trainer.train_and_evaluate(to_device=True, override=True)\n",
    "        print(i, i_dataset)\n",
    "        pprint(trainer.train_result)\n",
    "    except AttributeError:\n",
    "        pass\n",
    "    "
   ]
  },
  {
   "cell_type": "code",
   "execution_count": 10,
   "metadata": {},
   "outputs": [
    {
     "data": {
      "text/plain": [
       "<function CODE.Train.correlated_inception_time.try7_c_Classfier.forward(self, x)>"
      ]
     },
     "execution_count": 10,
     "metadata": {},
     "output_type": "execute_result"
    }
   ],
   "source": [
    "trainer.model.__class__.forward"
   ]
  },
  {
   "cell_type": "code",
   "execution_count": null,
   "metadata": {},
   "outputs": [],
   "source": [
    "keys = []\n",
    "for k in sys.modules.keys():\n",
    "    if \"CODE.Attack.mix\" in k:\n",
    "        print(k)\n",
    "        keys.append(k)\n",
    "for k in keys:\n",
    "    del sys.modules[k]\n",
    "\n",
    "from CODE.Attack.mix import Mix\n",
    "\n",
    "attack_model = Mix"
   ]
  },
  {
   "cell_type": "code",
   "execution_count": null,
   "metadata": {},
   "outputs": [],
   "source": [
    "# for i, i_dataset in enumerate(part_DATASETs):\n",
    "#     attacker = attack_model(\n",
    "#         train_method_path=trainer.method_path,\n",
    "#         dataset=i_dataset,\n",
    "#         model=model_class,\n",
    "#     )\n",
    "\n",
    "#     attacker.perturb_all(\n",
    "#         to_device=True,\n",
    "#         override=True,\n",
    "#     )\n",
    "#     print(i, i_dataset)\n",
    "#     pprint(attacker.data)\n",
    "#     print(\"\\n\")"
   ]
  }
 ],
 "metadata": {
  "kernelspec": {
   "display_name": "torch",
   "language": "python",
   "name": "python3"
  },
  "language_info": {
   "codemirror_mode": {
    "name": "ipython",
    "version": 3
   },
   "file_extension": ".py",
   "mimetype": "text/x-python",
   "name": "python",
   "nbconvert_exporter": "python",
   "pygments_lexer": "ipython3",
   "version": "3.11.5"
  },
  "orig_nbformat": 4
 },
 "nbformat": 4,
 "nbformat_minor": 2
}
