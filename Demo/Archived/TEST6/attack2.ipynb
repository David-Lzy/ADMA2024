{
 "cells": [
  {
   "cell_type": "code",
   "execution_count": 1,
   "metadata": {},
   "outputs": [
    {
     "name": "stdout",
     "output_type": "stream",
     "text": [
      "HOME_LOC: /homes/David_Li/Mega/University_of_Adelaide/Works/Project/CorrelationV0.1\n",
      "pwd: /homes/David_Li/Mega/University_of_Adelaide/Works/Project/CorrelationV0.1/CODE/Demo/TEST5\n"
     ]
    }
   ],
   "source": [
    "import sys\n",
    "import os\n",
    "__file__ = %pwd\n",
    "sys.path.append(os.path.dirname(os.path.dirname(__file__)))\n",
    "from __init__ import *\n",
    "print('pwd:', __file__)\n",
    "logger.setLevel(logging.INFO)"
   ]
  },
  {
   "cell_type": "code",
   "execution_count": 2,
   "metadata": {},
   "outputs": [],
   "source": [
    "part_DATASETs = UNIVARIATE_DATASET_NAMES\n",
    "from CODE.Train.correlated_inception_time import *\n",
    "\n",
    "model_class = try6_c_Classfier"
   ]
  },
  {
   "cell_type": "code",
   "execution_count": 3,
   "metadata": {},
   "outputs": [],
   "source": [
    "keys = []\n",
    "for k in sys.modules.keys():\n",
    "    if \"CODE.Attack.mix\" in k:\n",
    "        print(k)\n",
    "        keys.append(k)\n",
    "for k in keys:\n",
    "    del sys.modules[k]\n",
    "\n",
    "from CODE.Attack.mix import Mix\n",
    "\n",
    "attack_model = Mix"
   ]
  },
  {
   "cell_type": "code",
   "execution_count": 4,
   "metadata": {},
   "outputs": [
    {
     "name": "stdout",
     "output_type": "stream",
     "text": [
      "<class 'CODE.Train.correlated_inception_time.try6_c_Classfier'>\n",
      "0 ACSF1\n",
      "{'ASR': 0.68,\n",
      " 'Count_Fail': 32,\n",
      " 'Count_Success': 68,\n",
      " 'duration': 133.26906967163086,\n",
      " 'mean_failure_distance': 9.224274,\n",
      " 'mean_success_distance': 7.8614616,\n",
      " 'overall_mean_distance': 8.297561}\n",
      "\n",
      "\n",
      "<class 'CODE.Train.correlated_inception_time.try6_c_Classfier'>\n",
      "1 Adiac\n",
      "{'ASR': 0.9386189258312021,\n",
      " 'Count_Fail': 24,\n",
      " 'Count_Success': 367,\n",
      " 'duration': 774.6584565639496,\n",
      " 'mean_failure_distance': 0.5408378,\n",
      " 'mean_success_distance': 0.40708187,\n",
      " 'overall_mean_distance': 0.415292}\n",
      "\n",
      "\n",
      "<class 'CODE.Train.correlated_inception_time.try6_c_Classfier'>\n",
      "2 AllGestureWiimoteX\n",
      "{'ASR': 0.8828571428571429,\n",
      " 'Count_Fail': 82,\n",
      " 'Count_Success': 618,\n",
      " 'duration': 434.11533093452454,\n",
      " 'mean_failure_distance': 0.5628244,\n",
      " 'mean_success_distance': 1.1991385,\n",
      " 'overall_mean_distance': 1.1245989}\n",
      "\n",
      "\n",
      "<class 'CODE.Train.correlated_inception_time.try6_c_Classfier'>\n",
      "3 AllGestureWiimoteY\n",
      "{'ASR': 0.9157142857142857,\n",
      " 'Count_Fail': 59,\n",
      " 'Count_Success': 641,\n",
      " 'duration': 437.698529958725,\n",
      " 'mean_failure_distance': 0.27471262,\n",
      " 'mean_success_distance': 0.8412013,\n",
      " 'overall_mean_distance': 0.79345435}\n",
      "\n",
      "\n",
      "<class 'CODE.Train.correlated_inception_time.try6_c_Classfier'>\n",
      "4 AllGestureWiimoteZ\n",
      "{'ASR': 0.8585714285714285,\n",
      " 'Count_Fail': 99,\n",
      " 'Count_Success': 601,\n",
      " 'duration': 434.50519275665283,\n",
      " 'mean_failure_distance': 0.8679956,\n",
      " 'mean_success_distance': 1.2316811,\n",
      " 'overall_mean_distance': 1.1802456}\n",
      "\n",
      "\n",
      "<class 'CODE.Train.correlated_inception_time.try6_c_Classfier'>\n",
      "5 ArrowHead\n",
      "{'ASR': 0.9257142857142857,\n",
      " 'Count_Fail': 13,\n",
      " 'Count_Success': 162,\n",
      " 'duration': 115.79000306129456,\n",
      " 'mean_failure_distance': 1.7664262,\n",
      " 'mean_success_distance': 1.2510374,\n",
      " 'overall_mean_distance': 1.2893233}\n",
      "\n",
      "\n",
      "<class 'CODE.Train.correlated_inception_time.try6_c_Classfier'>\n",
      "6 BME\n",
      "{'ASR': 0.5466666666666666,\n",
      " 'Count_Fail': 68,\n",
      " 'Count_Success': 82,\n",
      " 'duration': 284.89810490608215,\n",
      " 'mean_failure_distance': 0.90450066,\n",
      " 'mean_success_distance': 0.7451078,\n",
      " 'overall_mean_distance': 0.8173659}\n",
      "\n",
      "\n",
      "<class 'CODE.Train.correlated_inception_time.try6_c_Classfier'>\n",
      "7 Beef\n",
      "{'ASR': 0.9,\n",
      " 'Count_Fail': 3,\n",
      " 'Count_Success': 27,\n",
      " 'duration': 38.83932685852051,\n",
      " 'mean_failure_distance': 3.236951,\n",
      " 'mean_success_distance': 1.5184534,\n",
      " 'overall_mean_distance': 1.690303}\n",
      "\n",
      "\n",
      "<class 'CODE.Train.correlated_inception_time.try6_c_Classfier'>\n",
      "8 BeetleFly\n",
      "{'ASR': 0.65,\n",
      " 'Count_Fail': 7,\n",
      " 'Count_Success': 13,\n",
      " 'duration': 39.19757056236267,\n",
      " 'mean_failure_distance': 4.4588203,\n",
      " 'mean_success_distance': 4.0875177,\n",
      " 'overall_mean_distance': 4.217474}\n",
      "\n",
      "\n",
      "<class 'CODE.Train.correlated_inception_time.try6_c_Classfier'>\n"
     ]
    },
    {
     "name": "stderr",
     "output_type": "stream",
     "text": [
      "/opt/conda/Anaconda3/envs/pytorch_gpu/lib/python3.11/site-packages/numpy/core/fromnumeric.py:3432: RuntimeWarning: Mean of empty slice.\n",
      "  return _methods._mean(a, axis=axis, dtype=dtype,\n",
      "/opt/conda/Anaconda3/envs/pytorch_gpu/lib/python3.11/site-packages/numpy/core/_methods.py:190: RuntimeWarning: invalid value encountered in divide\n",
      "  ret = ret.dtype.type(ret / rcount)\n"
     ]
    },
    {
     "name": "stdout",
     "output_type": "stream",
     "text": [
      "9 BirdChicken\n",
      "{'ASR': 1.0,\n",
      " 'Count_Fail': 0,\n",
      " 'Count_Success': 20,\n",
      " 'duration': 39.25487661361694,\n",
      " 'mean_failure_distance': nan,\n",
      " 'mean_success_distance': 1.5983245,\n",
      " 'overall_mean_distance': 1.5983245}\n",
      "\n",
      "\n",
      "<class 'CODE.Train.correlated_inception_time.try6_c_Classfier'>\n"
     ]
    }
   ],
   "source": [
    "trainer = Trainer(model=model_class)\n",
    "\n",
    "for i, i_dataset in enumerate(part_DATASETs):\n",
    "    attacker = attack_model(\n",
    "        train_method_path=trainer.method_path,\n",
    "        dataset=i_dataset,\n",
    "        model=model_class,\n",
    "    )\n",
    "    _ = os.path.dirname(attacker.model_weight_path)\n",
    "    # check if csv file esists\n",
    "    while not os.path.exists(os.path.join(_, \"test_metrics.csv\")):\n",
    "        time.sleep(1)\n",
    "    attacker.perturb_all(\n",
    "        to_device=True,\n",
    "        override=True,\n",
    "    )\n",
    "    print(i, i_dataset)\n",
    "    pprint(attacker.data)\n",
    "    print(\"\\n\")"
   ]
  },
  {
   "cell_type": "code",
   "execution_count": null,
   "metadata": {},
   "outputs": [
    {
     "data": {
      "text/plain": [
       "'/homes/David_Li/Mega/University_of_Adelaide/Works/Project/CorrelationV0.1/OUTPUT/train/model=Classifier_INCEPTION_defence=None/ACSF1/MODEL_INFO.pth'"
      ]
     },
     "execution_count": 5,
     "metadata": {},
     "output_type": "execute_result"
    }
   ],
   "source": [
    "attacker.model_weight_path"
   ]
  }
 ],
 "metadata": {
  "kernelspec": {
   "display_name": "torch",
   "language": "python",
   "name": "python3"
  },
  "language_info": {
   "codemirror_mode": {
    "name": "ipython",
    "version": 3
   },
   "file_extension": ".py",
   "mimetype": "text/x-python",
   "name": "python",
   "nbconvert_exporter": "python",
   "pygments_lexer": "ipython3",
   "version": "3.11.5"
  },
  "orig_nbformat": 4
 },
 "nbformat": 4,
 "nbformat_minor": 2
}
