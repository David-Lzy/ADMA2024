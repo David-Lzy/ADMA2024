{
 "cells": [
  {
   "cell_type": "code",
   "execution_count": 4,
   "metadata": {},
   "outputs": [
    {
     "name": "stdout",
     "output_type": "stream",
     "text": [
      "pwd: /Project/Local_Project/InceptionTime/CorrelationV0.1\n"
     ]
    }
   ],
   "source": [
    "import sys\n",
    "import os\n",
    "__file__ = %pwd\n",
    "sys.path.append(os.path.dirname(__file__))\n",
    "from __init__ import *\n",
    "print('pwd:', __file__)"
   ]
  },
  {
   "cell_type": "code",
   "execution_count": 2,
   "metadata": {},
   "outputs": [],
   "source": [
    "from CODE.Train.correlated_inception_time import *\n",
    "\n",
    "DEFAULT_TRAIN_PARAMETER[\"model\"] = CorrelatedClassifierInception"
   ]
  },
  {
   "cell_type": "code",
   "execution_count": 5,
   "metadata": {},
   "outputs": [
    {
     "data": {
      "text/plain": [
       "{'Classifier_INCEPTION': CODE.Train.inception_time.Classifier_INCEPTION,\n",
       " 'Default': CODE.Train.inception_time.Classifier_INCEPTION,\n",
       " 'default': CODE.Train.inception_time.Classifier_INCEPTION,\n",
       " 'DEFAULT': CODE.Train.inception_time.Classifier_INCEPTION}"
      ]
     },
     "execution_count": 5,
     "metadata": {},
     "output_type": "execute_result"
    }
   ],
   "source": [
    "MODEL_DICT"
   ]
  },
  {
   "cell_type": "code",
   "execution_count": 6,
   "metadata": {},
   "outputs": [
    {
     "name": "stdout",
     "output_type": "stream",
     "text": [
      "Initial Parameters: {'self': <__main__.MyClass object at 0x7f452879f0d0>, 'a': 1, 'b': 2, 'c': 3}\n",
      "Stored Parameters: {'a': 1, 'b': 2, 'c': 3}\n"
     ]
    }
   ],
   "source": [
    "class MyClass:\n",
    "    def __init__(self, a, b, c):\n",
    "        init_params = locals()\n",
    "        print(\"Initial Parameters:\", init_params)\n",
    "        # 排除 'self'\n",
    "        init_params.pop(\"self\")\n",
    "        self.params = init_params\n",
    "\n",
    "\n",
    "# 测试类\n",
    "obj = MyClass(1, 2, 3)\n",
    "print(\"Stored Parameters:\", obj.params)"
   ]
  },
  {
   "cell_type": "code",
   "execution_count": 9,
   "metadata": {},
   "outputs": [
    {
     "name": "stdout",
     "output_type": "stream",
     "text": [
      "{'name': 'xiaoming', 'age': None, 'sex': None}\n"
     ]
    }
   ],
   "source": [
    "person = {\"name\": \"xiaoming\"}\n",
    "person.setdefault(\"age\", 20)  # 设置默认值为20\n",
    "\n",
    "person.setdefault(\"sex\")  # 没有设置默认值，默认值为None\n",
    "person[\"age\"] = None\n",
    "person.setdefault(\"age\", 20)\n",
    "print(person)"
   ]
  }
 ],
 "metadata": {
  "kernelspec": {
   "display_name": "pytorch_gpu",
   "language": "python",
   "name": "python3"
  },
  "language_info": {
   "codemirror_mode": {
    "name": "ipython",
    "version": 3
   },
   "file_extension": ".py",
   "mimetype": "text/x-python",
   "name": "python",
   "nbconvert_exporter": "python",
   "pygments_lexer": "ipython3",
   "version": "3.11.5"
  }
 },
 "nbformat": 4,
 "nbformat_minor": 2
}
