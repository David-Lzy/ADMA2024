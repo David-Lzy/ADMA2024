{
 "cells": [
  {
   "cell_type": "code",
   "execution_count": 1,
   "metadata": {},
   "outputs": [
    {
     "name": "stdout",
     "output_type": "stream",
     "text": [
      "HOME_LOC: /homes/David_Li/Mega/University_of_Adelaide/Works/Project/CorrelationV0.1\n",
      "pwd: /homes/David_Li/Mega/University_of_Adelaide/Works/Project/CorrelationV0.1/CODE/Demo/TEST2\n"
     ]
    }
   ],
   "source": [
    "import sys\n",
    "import os\n",
    "__file__ = %pwd\n",
    "sys.path.append(os.path.dirname(os.path.dirname(__file__)))\n",
    "from __init__ import *\n",
    "print('pwd:', __file__)\n",
    "logger.setLevel(logging.INFO)"
   ]
  },
  {
   "cell_type": "code",
   "execution_count": 2,
   "metadata": {},
   "outputs": [
    {
     "data": {
      "text/plain": [
       "device(type='cuda', index=0)"
      ]
     },
     "execution_count": 2,
     "metadata": {},
     "output_type": "execute_result"
    }
   ],
   "source": [
    "DEVICE = torch.device(\"cuda:0\" if torch.cuda.is_available() else \"cpu\")\n",
    "DEVICE"
   ]
  },
  {
   "cell_type": "code",
   "execution_count": 3,
   "metadata": {},
   "outputs": [],
   "source": [
    "part_DATASETs = UNIVARIATE_DATASET_NAMES\n",
    "from CODE.Train.correlated_inception_time import *\n",
    "\n",
    "model_class = try3_c_Classfier"
   ]
  },
  {
   "cell_type": "code",
   "execution_count": 4,
   "metadata": {},
   "outputs": [
    {
     "name": "stdout",
     "output_type": "stream",
     "text": [
      "Epoch 00193: reducing learning rate of group 0 to 5.0000e-04.\n",
      "Epoch 00251: reducing learning rate of group 0 to 2.5000e-04.\n",
      "Epoch 00302: reducing learning rate of group 0 to 1.2500e-04.\n",
      "Epoch 00353: reducing learning rate of group 0 to 1.0000e-04.\n",
      "0 ACSF1\n",
      "{'accuracy': 0.98,\n",
      " 'duration': 174.56028985977173,\n",
      " 'f1': 0.9803827751196174,\n",
      " 'loss': 1.4819976091384888,\n",
      " 'precision': 0.9833333333333334,\n",
      " 'recall': 0.9800000000000001}\n",
      "Epoch 00529: reducing learning rate of group 0 to 5.0000e-04.\n",
      "Epoch 00580: reducing learning rate of group 0 to 2.5000e-04.\n",
      "Epoch 00631: reducing learning rate of group 0 to 1.2500e-04.\n",
      "Epoch 00682: reducing learning rate of group 0 to 1.0000e-04.\n",
      "2 AllGestureWiimoteX\n",
      "{'accuracy': 1.0,\n",
      " 'duration': 281.60742807388306,\n",
      " 'f1': 1.0,\n",
      " 'loss': 1.4611878395080566,\n",
      " 'precision': 1.0,\n",
      " 'recall': 1.0}\n",
      "Epoch 00198: reducing learning rate of group 0 to 5.0000e-04.\n",
      "Epoch 00249: reducing learning rate of group 0 to 2.5000e-04.\n",
      "Epoch 00485: reducing learning rate of group 0 to 1.2500e-04.\n",
      "Epoch 00625: reducing learning rate of group 0 to 1.0000e-04.\n",
      "4 AllGestureWiimoteZ\n",
      "{'accuracy': 1.0,\n",
      " 'duration': 281.3049988746643,\n",
      " 'f1': 1.0,\n",
      " 'loss': 1.461232590675354,\n",
      " 'precision': 1.0,\n",
      " 'recall': 1.0}\n",
      "Epoch 00134: reducing learning rate of group 0 to 5.0000e-04.\n",
      "Epoch 00308: reducing learning rate of group 0 to 2.5000e-04.\n",
      "Epoch 00359: reducing learning rate of group 0 to 1.2500e-04.\n",
      "Epoch 00410: reducing learning rate of group 0 to 1.0000e-04.\n"
     ]
    },
    {
     "ename": "KeyboardInterrupt",
     "evalue": "",
     "output_type": "error",
     "traceback": [
      "\u001b[0;31m---------------------------------------------------------------------------\u001b[0m",
      "\u001b[0;31mKeyboardInterrupt\u001b[0m                         Traceback (most recent call last)",
      "\u001b[1;32m/Project/David_Li/Works/Project/CorrelationV0.1/CODE/Demo/TEST2/train1.2.ipynb 单元格 4\u001b[0m line \u001b[0;36m6\n\u001b[1;32m      <a href='vscode-notebook-cell://ssh-remote%2Bcode5_local/Project/David_Li/Works/Project/CorrelationV0.1/CODE/Demo/TEST2/train1.2.ipynb#W3sdnNjb2RlLXJlbW90ZQ%3D%3D?line=3'>4</a>\u001b[0m trainer \u001b[39m=\u001b[39m Trainer(dataset\u001b[39m=\u001b[39mi_dataset, epoch\u001b[39m=\u001b[39m\u001b[39m1000\u001b[39m, model\u001b[39m=\u001b[39mmodel_class)\n\u001b[1;32m      <a href='vscode-notebook-cell://ssh-remote%2Bcode5_local/Project/David_Li/Works/Project/CorrelationV0.1/CODE/Demo/TEST2/train1.2.ipynb#W3sdnNjb2RlLXJlbW90ZQ%3D%3D?line=4'>5</a>\u001b[0m \u001b[39mtry\u001b[39;00m:\n\u001b[0;32m----> <a href='vscode-notebook-cell://ssh-remote%2Bcode5_local/Project/David_Li/Works/Project/CorrelationV0.1/CODE/Demo/TEST2/train1.2.ipynb#W3sdnNjb2RlLXJlbW90ZQ%3D%3D?line=5'>6</a>\u001b[0m     trainer\u001b[39m.\u001b[39;49mtrain_and_evaluate(to_device\u001b[39m=\u001b[39;49m\u001b[39mTrue\u001b[39;49;00m, override\u001b[39m=\u001b[39;49m\u001b[39mFalse\u001b[39;49;00m)\n\u001b[1;32m      <a href='vscode-notebook-cell://ssh-remote%2Bcode5_local/Project/David_Li/Works/Project/CorrelationV0.1/CODE/Demo/TEST2/train1.2.ipynb#W3sdnNjb2RlLXJlbW90ZQ%3D%3D?line=6'>7</a>\u001b[0m     \u001b[39mprint\u001b[39m(i, i_dataset)\n\u001b[1;32m      <a href='vscode-notebook-cell://ssh-remote%2Bcode5_local/Project/David_Li/Works/Project/CorrelationV0.1/CODE/Demo/TEST2/train1.2.ipynb#W3sdnNjb2RlLXJlbW90ZQ%3D%3D?line=7'>8</a>\u001b[0m     pprint(trainer\u001b[39m.\u001b[39mtrain_result)\n",
      "File \u001b[0;32m/homes/David_Li/Mega/University_of_Adelaide/Works/Project/CorrelationV0.1/CODE/Train/trainer.py:232\u001b[0m, in \u001b[0;36mTrainer.train_and_evaluate\u001b[0;34m(self, override, to_device)\u001b[0m\n\u001b[1;32m    230\u001b[0m last_saved_time \u001b[39m=\u001b[39m start_time\n\u001b[1;32m    231\u001b[0m \u001b[39mfor\u001b[39;00m epoch \u001b[39min\u001b[39;00m \u001b[39mrange\u001b[39m(start_epoch, \u001b[39mself\u001b[39m\u001b[39m.\u001b[39mepoch \u001b[39m+\u001b[39m \u001b[39m1\u001b[39m):\n\u001b[0;32m--> 232\u001b[0m     \u001b[39mself\u001b[39;49m\u001b[39m.\u001b[39;49m__train_one_epoch__()\n\u001b[1;32m    233\u001b[0m     last_saved_time \u001b[39m=\u001b[39m \u001b[39mself\u001b[39m\u001b[39m.\u001b[39m__save_check_point__(\n\u001b[1;32m    234\u001b[0m         epoch,\n\u001b[1;32m    235\u001b[0m         start_time,\n\u001b[0;32m   (...)\u001b[0m\n\u001b[1;32m    239\u001b[0m         to_device,\n\u001b[1;32m    240\u001b[0m     )\n\u001b[1;32m    242\u001b[0m     \u001b[39m# Evaluation Phase\u001b[39;00m\n",
      "File \u001b[0;32m/homes/David_Li/Mega/University_of_Adelaide/Works/Project/CorrelationV0.1/CODE/Train/trainer.py:350\u001b[0m, in \u001b[0;36mTrainer.__train_one_epoch__\u001b[0;34m(self)\u001b[0m\n\u001b[1;32m    348\u001b[0m loss\u001b[39m.\u001b[39mbackward()\n\u001b[1;32m    349\u001b[0m \u001b[39mself\u001b[39m\u001b[39m.\u001b[39moptimizer\u001b[39m.\u001b[39mstep()\n\u001b[0;32m--> 350\u001b[0m train_loss \u001b[39m+\u001b[39m\u001b[39m=\u001b[39m loss\u001b[39m.\u001b[39;49mitem()\n\u001b[1;32m    351\u001b[0m train_preds\u001b[39m.\u001b[39mextend(predictions\u001b[39m.\u001b[39margmax(dim\u001b[39m=\u001b[39m\u001b[39m1\u001b[39m)\u001b[39m.\u001b[39mcpu()\u001b[39m.\u001b[39mnumpy())\n\u001b[1;32m    352\u001b[0m train_targets\u001b[39m.\u001b[39mextend(y_batch\u001b[39m.\u001b[39mcpu()\u001b[39m.\u001b[39mnumpy())\n",
      "\u001b[0;31mKeyboardInterrupt\u001b[0m: "
     ]
    }
   ],
   "source": [
    "for i, i_dataset in enumerate(part_DATASETs):\n",
    "    if i % 2 == 1:\n",
    "        continue\n",
    "    trainer = Trainer(dataset=i_dataset, epoch=1000, model=model_class)\n",
    "    try:\n",
    "        trainer.train_and_evaluate(to_device=True, override=False)\n",
    "        print(i, i_dataset)\n",
    "        pprint(trainer.train_result)\n",
    "    except AttributeError:\n",
    "        pass"
   ]
  },
  {
   "cell_type": "code",
   "execution_count": null,
   "metadata": {},
   "outputs": [],
   "source": [
    "keys = []\n",
    "for k in sys.modules.keys():\n",
    "    if \"CODE.Attack.mix\" in k:\n",
    "        print(k)\n",
    "        keys.append(k)\n",
    "for k in keys:\n",
    "    del sys.modules[k]\n",
    "\n",
    "from CODE.Attack.mix import Mix\n",
    "\n",
    "attack_model = Mix"
   ]
  },
  {
   "cell_type": "code",
   "execution_count": null,
   "metadata": {},
   "outputs": [],
   "source": [
    "# for i, i_dataset in enumerate(part_DATASETs):\n",
    "#     attacker = attack_model(\n",
    "#         train_method_path=trainer.method_path,\n",
    "#         dataset=i_dataset,\n",
    "#         model=model_class,\n",
    "#     )\n",
    "\n",
    "#     attacker.perturb_all(\n",
    "#         to_device=True,\n",
    "#         override=True,\n",
    "#     )\n",
    "#     print(i, i_dataset)\n",
    "#     pprint(attacker.data)\n",
    "#     print(\"\\n\")"
   ]
  }
 ],
 "metadata": {
  "kernelspec": {
   "display_name": "torch",
   "language": "python",
   "name": "python3"
  },
  "language_info": {
   "codemirror_mode": {
    "name": "ipython",
    "version": 3
   },
   "file_extension": ".py",
   "mimetype": "text/x-python",
   "name": "python",
   "nbconvert_exporter": "python",
   "pygments_lexer": "ipython3",
   "version": "3.11.5"
  },
  "orig_nbformat": 4
 },
 "nbformat": 4,
 "nbformat_minor": 2
}
