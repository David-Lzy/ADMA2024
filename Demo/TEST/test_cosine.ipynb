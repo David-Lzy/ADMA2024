{
 "cells": [
  {
   "cell_type": "code",
   "execution_count": 31,
   "metadata": {},
   "outputs": [
    {
     "name": "stdout",
     "output_type": "stream",
     "text": [
      "pwd: /Project/Project/ADMA2024/v0.1\n"
     ]
    }
   ],
   "source": [
    "import sys\n",
    "import os\n",
    "__file__ = %pwd\n",
    "sys.path.append(os.path.dirname(__file__))\n",
    "from __init__ import *\n",
    "print('pwd:', __file__)"
   ]
  },
  {
   "cell_type": "code",
   "execution_count": 1,
   "metadata": {},
   "outputs": [
    {
     "name": "stdout",
     "output_type": "stream",
     "text": [
      "[1, 3, 5, 7, 9]\n"
     ]
    }
   ],
   "source": [
    "a = [i for i in range(10)]\n",
    "print(a[1:10:2])"
   ]
  },
  {
   "cell_type": "code",
   "execution_count": 32,
   "metadata": {},
   "outputs": [
    {
     "name": "stdout",
     "output_type": "stream",
     "text": [
      "default \n",
      " <class 'CODE.Train.inception_time.Classifier_INCEPTION'> \n",
      " /Project/Project/ADMA2024/v0.1/DATA/ADVERSARIAL \n",
      "\n"
     ]
    }
   ],
   "source": [
    "print(\n",
    "    DEFAULT_TRAIN_PARAMETER[\"model\"],\n",
    "    \"\\n\",\n",
    "    MODEL_DICT[DEFAULT_TRAIN_PARAMETER[\"model\"]],\n",
    "    \"\\n\",\n",
    "    ADVERSARIAL_TRAINING_PATH,\n",
    "    \"\\n\",\n",
    ")"
   ]
  },
  {
   "cell_type": "code",
   "execution_count": 33,
   "metadata": {},
   "outputs": [
    {
     "name": "stderr",
     "output_type": "stream",
     "text": [
      "/opt/conda/Anaconda3/envs/pytorch_gpu/lib/python3.11/site-packages/torch/optim/lr_scheduler.py:28: UserWarning: The verbose parameter is deprecated. Please use get_last_lr() to access the learning rate.\n",
      "  warnings.warn(\"The verbose parameter is deprecated. Please use get_last_lr() \"\n"
     ]
    }
   ],
   "source": [
    "trainer = Trainer(epoch=1000)\n",
    "# trainer.train_and_evaluate(override=False)"
   ]
  },
  {
   "cell_type": "code",
   "execution_count": 34,
   "metadata": {},
   "outputs": [
    {
     "name": "stdout",
     "output_type": "stream",
     "text": [
      "CODE.Attack.swap\n",
      "CODE.Attack.swap_l2\n"
     ]
    }
   ],
   "source": [
    "keys = []\n",
    "for k in sys.modules.keys():\n",
    "    if \"CODE.Attack.swap\" in k:\n",
    "        print(k)\n",
    "        keys.append(k)\n",
    "for k in keys:\n",
    "    del sys.modules[k]\n",
    "\n",
    "from CODE.Attack.swap import SWAP\n",
    "\n",
    "model_class = SWAP"
   ]
  },
  {
   "cell_type": "code",
   "execution_count": 35,
   "metadata": {},
   "outputs": [
    {
     "data": {
      "text/plain": [
       "{'ASR': 0.8666666666666667,\n",
       " 'mean_success_distance': 0.17256764,\n",
       " 'mean_failure_distance': 1.6023417,\n",
       " 'overall_mean_distance': 0.36320415,\n",
       " 'median_success_distance': 0.120612524,\n",
       " 'median_failure_distance': 1.5799277,\n",
       " 'overall_median_distance': 0.15710637,\n",
       " 'Count_Success': 26,\n",
       " 'Count_Fail': 4,\n",
       " 'duration': 3.033493995666504}"
      ]
     },
     "execution_count": 35,
     "metadata": {},
     "output_type": "execute_result"
    }
   ],
   "source": [
    "model = model_class(\n",
    "    dataset=\"Beef\",\n",
    "    batch_size=64,\n",
    "    epoch=100,\n",
    "    train_method_path=trainer.method_path,\n",
    ")\n",
    "model.perturb_all(\n",
    "    to_device=True,\n",
    "    override=False,\n",
    ")\n",
    "model.data"
   ]
  },
  {
   "cell_type": "code",
   "execution_count": 36,
   "metadata": {},
   "outputs": [],
   "source": [
    "keys = []\n",
    "for k in sys.modules.keys():\n",
    "    if \"CODE.Attack.swap_l2\" in k:\n",
    "        print(k)\n",
    "        keys.append(k)\n",
    "for k in keys:\n",
    "    del sys.modules[k]\n",
    "\n",
    "from CODE.Attack.swap_l2 import SWAPL2\n",
    "\n",
    "model_class = SWAPL2"
   ]
  },
  {
   "cell_type": "code",
   "execution_count": 37,
   "metadata": {},
   "outputs": [
    {
     "data": {
      "text/plain": [
       "{'ASR': 0.8666666666666667,\n",
       " 'mean_success_distance': 0.14125262,\n",
       " 'mean_failure_distance': 1.5677164,\n",
       " 'overall_mean_distance': 0.33144775,\n",
       " 'median_success_distance': 0.10137521,\n",
       " 'median_failure_distance': 1.555229,\n",
       " 'overall_median_distance': 0.13338137,\n",
       " 'Count_Success': 26,\n",
       " 'Count_Fail': 4,\n",
       " 'duration': 3.086005926132202}"
      ]
     },
     "execution_count": 37,
     "metadata": {},
     "output_type": "execute_result"
    }
   ],
   "source": [
    "model = model_class(\n",
    "    dataset=\"Beef\",\n",
    "    batch_size=64,\n",
    "    epoch=100,\n",
    "    train_method_path=trainer.method_path,\n",
    "    c=1e-2,\n",
    ")\n",
    "model.perturb_all(\n",
    "    to_device=False,\n",
    "    override=False,\n",
    ")\n",
    "model.data"
   ]
  },
  {
   "cell_type": "code",
   "execution_count": 38,
   "metadata": {},
   "outputs": [
    {
     "name": "stdout",
     "output_type": "stream",
     "text": [
      "CODE.Attack.cosine\n"
     ]
    }
   ],
   "source": [
    "keys = []\n",
    "for k in sys.modules.keys():\n",
    "    if \"CODE.Attack.cosine\" in k:\n",
    "        print(k)\n",
    "        keys.append(k)\n",
    "for k in keys:\n",
    "    del sys.modules[k]\n",
    "\n",
    "from CODE.Attack.cosine import COS\n",
    "\n",
    "model_class = COS"
   ]
  },
  {
   "cell_type": "code",
   "execution_count": 39,
   "metadata": {},
   "outputs": [
    {
     "data": {
      "text/plain": [
       "{'ASR': 0.8666666666666667,\n",
       " 'mean_success_distance': 0.069903456,\n",
       " 'mean_failure_distance': 0.91163677,\n",
       " 'overall_mean_distance': 0.18213457,\n",
       " 'median_success_distance': 0.04167461,\n",
       " 'median_failure_distance': 0.92220616,\n",
       " 'overall_median_distance': 0.05598425,\n",
       " 'Count_Success': 26,\n",
       " 'Count_Fail': 4,\n",
       " 'duration': 3.1821129322052}"
      ]
     },
     "execution_count": 39,
     "metadata": {},
     "output_type": "execute_result"
    }
   ],
   "source": [
    "model = model_class(\n",
    "    dataset=\"Beef\",\n",
    "    batch_size=64,\n",
    "    epoch=100,\n",
    "    swap=True,\n",
    "    kl_loss=False,\n",
    "    CW=False,\n",
    "    c1=2e3,\n",
    "    train_method_path=trainer.method_path,\n",
    ")\n",
    "model.perturb_all(\n",
    "    to_device=True,\n",
    "    override=True,\n",
    ")\n",
    "model.data"
   ]
  },
  {
   "cell_type": "code",
   "execution_count": 40,
   "metadata": {},
   "outputs": [],
   "source": [
    "# 不同的数据集需要动态调节c1"
   ]
  }
 ],
 "metadata": {
  "kernelspec": {
   "display_name": "pytorch_gpu",
   "language": "python",
   "name": "python3"
  },
  "language_info": {
   "codemirror_mode": {
    "name": "ipython",
    "version": 3
   },
   "file_extension": ".py",
   "mimetype": "text/x-python",
   "name": "python",
   "nbconvert_exporter": "python",
   "pygments_lexer": "ipython3",
   "version": "3.11.5"
  }
 },
 "nbformat": 4,
 "nbformat_minor": 2
}
