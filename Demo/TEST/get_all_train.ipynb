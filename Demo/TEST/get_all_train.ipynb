{
 "cells": [
  {
   "cell_type": "code",
   "execution_count": 1,
   "metadata": {},
   "outputs": [
    {
     "name": "stdout",
     "output_type": "stream",
     "text": [
      "HOME_LOC: /Project/Project/ADMA2024/v0.1\n",
      "pwd: /Project/Project/ADMA2024/v0.1/CODE/Demo/TEST\n"
     ]
    }
   ],
   "source": [
    "import sys\n",
    "import os\n",
    "\n",
    "pwd = %pwd\n",
    "path = pwd\n",
    "while True:\n",
    "    try:\n",
    "        sys.path.append(path)\n",
    "        from __init__ import *\n",
    "    except ModuleNotFoundError:\n",
    "        sys.path.remove(path)\n",
    "        path = os.path.dirname(path)\n",
    "    else:\n",
    "        break\n",
    "print(\"pwd:\", pwd)\n",
    "\n",
    "from CODE.Utils.augmentation import Augmentation\n",
    "from CODE.Train.defence import Defence"
   ]
  },
  {
   "cell_type": "code",
   "execution_count": 3,
   "metadata": {},
   "outputs": [
    {
     "name": "stdout",
     "output_type": "stream",
     "text": [
      "[<class 'CODE.Train.TS_2_V.main.Classifier_TS2V'>,\n",
      " <class 'CODE.Train.resnet.ClassifierResNet18'>,\n",
      " <class 'CODE.Train.inception_time.Classifier_INCEPTION'>,\n",
      " <class 'CODE.Train.macnn.Classifier_MACNN'>,\n",
      " <class 'CODE.Train.lstm_fcn.LSTMFCN'>]\n",
      "<class 'CODE.Train.TS_2_V.main.Classifier_TS2V'>\n"
     ]
    }
   ],
   "source": [
    "_ = list(TRAIN_MODEL_LIST)\n",
    "pprint(_)\n",
    "i_model = _[0]\n",
    "print(i_model)"
   ]
  },
  {
   "cell_type": "code",
   "execution_count": 4,
   "metadata": {},
   "outputs": [
    {
     "name": "stderr",
     "output_type": "stream",
     "text": [
      "/opt/conda/Anaconda3/envs/pytorch_gpu/lib/python3.11/site-packages/torch/optim/lr_scheduler.py:28: UserWarning: The verbose parameter is deprecated. Please use get_last_lr() to access the learning rate.\n",
      "  warnings.warn(\"The verbose parameter is deprecated. Please use get_last_lr() \"\n"
     ]
    },
    {
     "name": "stdout",
     "output_type": "stream",
     "text": [
      "model=Classifier_TS2V_aug_method=gaussian_smooth\n"
     ]
    }
   ],
   "source": [
    "defence_model = Defence\n",
    "aug_method = \"gaussian_smooth\"\n",
    "defence_model_paramaters = {\n",
    "    \"mother_model\": i_model,\n",
    "    \"augmentation\": Augmentation.get_method()[aug_method],\n",
    "    \"aug_paramater\": dict(),\n",
    "}\n",
    "trainer = Trainer(\n",
    "    dataset=\"FordB\",\n",
    "    epoch=1000,\n",
    "    batch_size=128,\n",
    "    model=defence_model,\n",
    "    unbais=True,\n",
    "    device=\"cuda:0\",\n",
    "    model_P=defence_model_paramaters,\n",
    ")\n",
    "trainer.path_parameter = {\"aug_method\": aug_method}\n",
    "trainer.__set_output_dir__()\n",
    "print(trainer.method_path)\n",
    "trainer.train_and_evaluate(to_device=True, override=False)"
   ]
  },
  {
   "cell_type": "code",
   "execution_count": 5,
   "metadata": {},
   "outputs": [
    {
     "data": {
      "text/plain": [
       "'/Project/Project/ADMA2024/v0.1/OUTPUT/train/model=Classifier_TS2V_aug_method=gaussian_smooth/FordB'"
      ]
     },
     "execution_count": 5,
     "metadata": {},
     "output_type": "execute_result"
    }
   ],
   "source": [
    "trainer.out_dir"
   ]
  },
  {
   "cell_type": "code",
   "execution_count": 6,
   "metadata": {},
   "outputs": [],
   "source": [
    "def concat_metrics_train_1(mode=\"train\", method=\"\", datasets=None):\n",
    "    if datasets == None:\n",
    "        datasets = UNIVARIATE_DATASET_NAMES\n",
    "    metrics_dfs = []\n",
    "    for dataset in datasets:\n",
    "        file_path = os.path.join(\n",
    "            TRAIN_OUTPUT_PATH, method, dataset, f\"{mode}_metrics.csv\"\n",
    "        )\n",
    "\n",
    "        if os.path.exists(file_path):\n",
    "            dataset_df = pd.DataFrame([dataset], columns=[\"dataset\"])\n",
    "            temp_df = pd.read_csv(file_path)\n",
    "            temp_df = pd.concat([dataset_df] + [temp_df], axis=1)\n",
    "\n",
    "            metrics_dfs.append(temp_df)\n",
    "        else:\n",
    "            print(f\"'{file_path}' not found! Skip.\")\n",
    "            return\n",
    "\n",
    "    final_df = pd.concat(metrics_dfs, ignore_index=False)\n",
    "    final_df.to_csv(\n",
    "        os.path.join(\n",
    "            TRAIN_OUTPUT_PATH,\n",
    "            f\"{mode.upper()}_{'_'.join(method.split(os.path.sep))}_metrics.csv\",\n",
    "        ),\n",
    "        index=False,\n",
    "    )"
   ]
  },
  {
   "cell_type": "code",
   "execution_count": 7,
   "metadata": {},
   "outputs": [],
   "source": [
    "concat_metrics_train_1(mode=\"train\", method=trainer.method_path)\n",
    "concat_metrics_train_1(mode=\"test\", method=trainer.method_path)"
   ]
  },
  {
   "cell_type": "code",
   "execution_count": 18,
   "metadata": {},
   "outputs": [
    {
     "data": {
      "text/plain": [
       "True"
      ]
     },
     "execution_count": 18,
     "metadata": {},
     "output_type": "execute_result"
    }
   ],
   "source": [
    "_ = \"/Project/Project/ADMA2024/v0.1/OUTPUT/train/model=Classifier_MACNN_aug_method=gaussian_smooth/FordB\"\n",
    "os.path.exists(_)"
   ]
  }
 ],
 "metadata": {
  "kernelspec": {
   "display_name": "pytorch_gpu",
   "language": "python",
   "name": "python3"
  },
  "language_info": {
   "codemirror_mode": {
    "name": "ipython",
    "version": 3
   },
   "file_extension": ".py",
   "mimetype": "text/x-python",
   "name": "python",
   "nbconvert_exporter": "python",
   "pygments_lexer": "ipython3",
   "version": "3.11.5"
  }
 },
 "nbformat": 4,
 "nbformat_minor": 2
}
