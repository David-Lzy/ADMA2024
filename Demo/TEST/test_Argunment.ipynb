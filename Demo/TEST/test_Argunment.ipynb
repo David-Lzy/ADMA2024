{
 "cells": [
  {
   "cell_type": "code",
   "execution_count": 1,
   "metadata": {},
   "outputs": [
    {
     "name": "stdout",
     "output_type": "stream",
     "text": [
      "HOME_LOC: /Project/Project/ADMA2024/v0.1\n",
      "pwd: /Project/Project/ADMA2024/v0.1/CODE/Demo\n"
     ]
    }
   ],
   "source": [
    "import sys\n",
    "import os\n",
    "\n",
    "pwd = os.getcwd()\n",
    "path = pwd\n",
    "while True:\n",
    "    try:\n",
    "        sys.path.append(path)\n",
    "        from __init__ import *\n",
    "    except ModuleNotFoundError:\n",
    "        sys.path.remove(path)\n",
    "        path = os.path.dirname(path)\n",
    "    else:\n",
    "        break\n",
    "print(\"pwd:\", pwd)"
   ]
  },
  {
   "cell_type": "code",
   "execution_count": 2,
   "metadata": {},
   "outputs": [
    {
     "name": "stdout",
     "output_type": "stream",
     "text": [
      "{'Jitter': <function Augmentation.Jitter at 0x7fbc6f3239c0>,\n",
      " 'JitterWithDecay': <function Augmentation.JitterWithDecay at 0x7fbc6f323a60>,\n",
      " 'binomial_mask': <function Augmentation.binomial_mask at 0x7fbc6f323b00>,\n",
      " 'continuous_mask': <function Augmentation.continuous_mask at 0x7fbc6f323ba0>,\n",
      " 'correlation': <function Augmentation.correlation at 0x7fbc6f323d80>,\n",
      " 'correlation2': <function Augmentation.correlation2 at 0x7fbc6f323e20>,\n",
      " 'correlation3': <function Augmentation.correlation3 at 0x7fbc6f323ec0>,\n",
      " 'correlation4': <function Augmentation.correlation4 at 0x7fbc6f323f60>,\n",
      " 'fft': <function Augmentation.fft at 0x7fbc6f344040>,\n",
      " 'gaussian_noise': <function Augmentation.gaussian_noise at 0x7fbc6f323c40>,\n",
      " 'gaussian_smooth': <function Augmentation.gaussian_smooth at 0x7fbc6f323ce0>,\n",
      " 'nothing': <function Augmentation.nothing at 0x7fbc6f3440e0>}\n"
     ]
    }
   ],
   "source": [
    "from CODE.Utils.augmentation import Augmentation\n",
    "\n",
    "pprint(Augmentation.get_method())"
   ]
  },
  {
   "cell_type": "code",
   "execution_count": 3,
   "metadata": {},
   "outputs": [
    {
     "name": "stderr",
     "output_type": "stream",
     "text": [
      "/opt/conda/Anaconda3/envs/pytorch_gpu/lib/python3.11/site-packages/torch/optim/lr_scheduler.py:28: UserWarning: The verbose parameter is deprecated. Please use get_last_lr() to access the learning rate.\n",
      "  warnings.warn(\"The verbose parameter is deprecated. Please use get_last_lr() \"\n"
     ]
    }
   ],
   "source": [
    "from CODE.Train.inception_time import *\n",
    "from CODE.Train.defence import Defence\n",
    "\n",
    "std_list = [1e-4 * (2**i) for i in range(10)] + [0.1 * i for i in range(2, 1)]\n",
    "\n",
    "for std in std_list:\n",
    "    dataset = UNIVARIATE_DATASET_NAMES[0]\n",
    "    defence_model = Defence\n",
    "    aug_method = \"gaussian_noise\"\n",
    "    defence_model_paramaters = {\n",
    "        \"mother_model\": Classifier_INCEPTION,\n",
    "        \"augmentation\": Augmentation.get_method()[aug_method],\n",
    "        \"aug_paramater\": {\"mean\": 0, \"std\": std},\n",
    "    }\n",
    "    trainer = Trainer(\n",
    "        dataset=dataset,\n",
    "        epoch=1000,\n",
    "        model=defence_model,\n",
    "        unbais=True,\n",
    "        device=\"cuda:0\",\n",
    "        model_P=defence_model_paramaters,\n",
    "    )\n",
    "    trainer.path_parameter = {\"aug_method\": aug_method, \"std\": std}\n",
    "    trainer.__set_output_dir__()\n",
    "    trainer.train_and_evaluate(to_device=True, override=True)"
   ]
  },
  {
   "cell_type": "code",
   "execution_count": null,
   "metadata": {},
   "outputs": [],
   "source": []
  }
 ],
 "metadata": {
  "kernelspec": {
   "display_name": "pytorch_gpu",
   "language": "python",
   "name": "python3"
  },
  "language_info": {
   "codemirror_mode": {
    "name": "ipython",
    "version": 3
   },
   "file_extension": ".py",
   "mimetype": "text/x-python",
   "name": "python",
   "nbconvert_exporter": "python",
   "pygments_lexer": "ipython3",
   "version": "3.1.0"
  }
 },
 "nbformat": 4,
 "nbformat_minor": 2
}
